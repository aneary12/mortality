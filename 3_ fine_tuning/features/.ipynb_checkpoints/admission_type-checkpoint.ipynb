{
 "cells": [
  {
   "cell_type": "code",
   "execution_count": 1,
   "metadata": {},
   "outputs": [],
   "source": [
    "# Import libraries\n",
    "import psycopg2\n",
    "import getpass\n",
    "import matplotlib.pyplot as plt\n",
    "import numpy as np\n",
    "import os.path\n",
    "import time"
   ]
  },
  {
   "cell_type": "code",
   "execution_count": 2,
   "metadata": {},
   "outputs": [
    {
     "name": "stdout",
     "output_type": "stream",
     "text": [
      "Loaded!\n"
     ]
    }
   ],
   "source": [
    "# load the data\n",
    "_data = np.load('res/admission.npy', allow_pickle=True).tolist()\n",
    "adm_labels = _data['adm_labels']\n",
    "all_adm = _data['all_adm']\n",
    "first_adm = _data['first_adm']\n",
    "adult_first_adm = _data['adult_first_adm']\n",
    "print(\"Loaded!\")"
   ]
  },
  {
   "cell_type": "code",
   "execution_count": 3,
   "metadata": {},
   "outputs": [],
   "source": [
    "# Create a database connection\n",
    "user = 'postgres'\n",
    "host = 'localhost'\n",
    "port = '5433'\n",
    "dbname = 'mimic'\n",
    "schema = 'mimiciii'"
   ]
  },
  {
   "cell_type": "code",
   "execution_count": 4,
   "metadata": {},
   "outputs": [
    {
     "name": "stdin",
     "output_type": "stream",
     "text": [
      "Password: ··········\n"
     ]
    },
    {
     "name": "stdout",
     "output_type": "stream",
     "text": [
      "Connected!\n"
     ]
    }
   ],
   "source": [
    "# Connect to the database\n",
    "con = psycopg2.connect(dbname=dbname, user=user, host=host, port=port, \n",
    "                       password=getpass.getpass(prompt='Password:'.format(user)))\n",
    "cur = con.cursor()\n",
    "cur.execute('SET search_path TO {}'.format(schema))\n",
    "con.commit()\n",
    "print(\"Connected!\")"
   ]
  },
  {
   "cell_type": "code",
   "execution_count": 5,
   "metadata": {},
   "outputs": [
    {
     "name": "stdout",
     "output_type": "stream",
     "text": [
      "This query took 0.45 seconds\n"
     ]
    }
   ],
   "source": [
    "start = time.time()\n",
    "\n",
    "# Select appropriate measurements\n",
    "query = \\\n",
    "\"\"\"\n",
    "WITH surgflag AS (\n",
    "    SELECT adm.hadm_id,\n",
    "        MIN(adm.admittime) OVER (PARTITION BY adm.subject_id) AS first_admittime,\n",
    "        CASE WHEN LOWER(curr_service) LIKE '%surg%' THEN 1 ELSE 0 END AS surgical,\n",
    "        ROW_NUMBER() OVER (\n",
    "            PARTITION BY adm.HADM_ID\n",
    "            ORDER BY TRANSFERTIME\n",
    "        ) AS serviceOrder\n",
    "    FROM admissions adm\n",
    "    LEFT JOIN services se\n",
    "    ON adm.hadm_id = se.hadm_id\n",
    ")\n",
    "\n",
    "SELECT adm.hadm_id, CAST((adm.admittime = sf.first_admittime) AS int) AS firstadmitflag,\n",
    "    \n",
    "    MAX(CASE\n",
    "    WHEN adm.admission_type = 'ELECTIVE' AND sf.surgical = 1 THEN 1\n",
    "    ELSE 0\n",
    "       END) AS ScheduledSurgical,\n",
    "          \n",
    "    MAX(CASE\n",
    "    WHEN adm.admission_type != 'ELECTIVE' AND sf.surgical = 1 THEN 1\n",
    "    ELSE 0\n",
    "       END) AS UnscheduledSurgical,\n",
    "    \n",
    "    MAX(CASE\n",
    "    WHEN sf.surgical = 0 THEN 1\n",
    "    ELSE 0\n",
    "       END) AS Medical\n",
    "\n",
    "FROM admissions adm\n",
    "INNER JOIN surgflag sf\n",
    "ON adm.hadm_id = sf.hadm_id\n",
    "GROUP BY adm.hadm_id, adm.ADMISSION_TYPE, sf.surgical, adm.admittime, sf.first_admittime\n",
    "\"\"\"\n",
    "\n",
    "# Execute the query and fetch the result\n",
    "cur.execute(query)\n",
    "con.commit()\n",
    "data = cur.fetchall()\n",
    "\n",
    "# Store the result of the query as a numpy array\n",
    "raw_admission_type = np.array(data)\n",
    "\n",
    "# Filter out results not related to first time admissions\n",
    "raw_admission_type = raw_admission_type[raw_admission_type[:,1]==1]\n",
    "\n",
    "end = time.time()\n",
    "\n",
    "# Print run time\n",
    "print(\"This query took {} seconds\".format(round((end-start),2)))"
   ]
  },
  {
   "cell_type": "code",
   "execution_count": 6,
   "metadata": {},
   "outputs": [],
   "source": [
    "# Initialise a 2D numpy array\n",
    "m = len(adult_first_adm) # number of patients\n",
    "admission_type = np.zeros((m, 4))"
   ]
  },
  {
   "cell_type": "code",
   "execution_count": 7,
   "metadata": {},
   "outputs": [
    {
     "name": "stdout",
     "output_type": "stream",
     "text": [
      "2.59% complete (1000/38549)\n",
      "5.19% complete (2000/38549)\n",
      "7.78% complete (3000/38549)\n",
      "10.38% complete (4000/38549)\n",
      "12.97% complete (5000/38549)\n",
      "15.56% complete (6000/38549)\n",
      "18.16% complete (7000/38549)\n",
      "20.75% complete (8000/38549)\n",
      "23.35% complete (9000/38549)\n",
      "25.94% complete (10000/38549)\n",
      "28.54% complete (11000/38549)\n",
      "31.13% complete (12000/38549)\n",
      "33.72% complete (13000/38549)\n",
      "36.32% complete (14000/38549)\n",
      "38.91% complete (15000/38549)\n",
      "41.51% complete (16000/38549)\n",
      "44.1% complete (17000/38549)\n",
      "46.69% complete (18000/38549)\n",
      "49.29% complete (19000/38549)\n",
      "51.88% complete (20000/38549)\n",
      "54.48% complete (21000/38549)\n",
      "57.07% complete (22000/38549)\n",
      "59.66% complete (23000/38549)\n",
      "62.26% complete (24000/38549)\n",
      "64.85% complete (25000/38549)\n",
      "67.45% complete (26000/38549)\n",
      "70.04% complete (27000/38549)\n",
      "72.63% complete (28000/38549)\n",
      "75.23% complete (29000/38549)\n",
      "77.82% complete (30000/38549)\n",
      "80.42% complete (31000/38549)\n",
      "83.01% complete (32000/38549)\n",
      "85.61% complete (33000/38549)\n",
      "88.2% complete (34000/38549)\n",
      "90.79% complete (35000/38549)\n",
      "93.39% complete (36000/38549)\n",
      "95.98% complete (37000/38549)\n",
      "98.58% complete (38000/38549)\n",
      "\n",
      "Finished! This took 0.08 minutes\n"
     ]
    }
   ],
   "source": [
    "# Select admission_type for every patient we're interested in\n",
    "start = time.time()\n",
    "\n",
    "for i in range(m):\n",
    "    \n",
    "    # Define hospital admission ID number\n",
    "    admission_id = adult_first_adm[i,1]\n",
    "    \n",
    "    # Select data for hospital admission ID\n",
    "    processed_admission_type = raw_admission_type[raw_admission_type[:,0]==admission_id]\n",
    "    \n",
    "    # Store in admission_type\n",
    "    admission_type[i,0] = admission_id\n",
    "    admission_type[i,1:] = sum(processed_admission_type)[2:] # some admissions could be described as medical AND surgical\n",
    "    \n",
    "    # Print progress\n",
    "    if (i+1) % 1000 == 0:\n",
    "        print(\"{}% complete ({}/{})\".format(round((i+1)/m*100,2), i+1, m))\n",
    "\n",
    "end = time.time()\n",
    "\n",
    "# Evaluate run time\n",
    "print(\"\")\n",
    "print(\"Finished! This took {} minutes\".format(round((end-start)/60,2)))"
   ]
  },
  {
   "cell_type": "code",
   "execution_count": 8,
   "metadata": {},
   "outputs": [
    {
     "name": "stdout",
     "output_type": "stream",
     "text": [
      "Saved!\n"
     ]
    }
   ],
   "source": [
    "admission_type_labels = [\"scheduled surgical\", \"unscheduled surgical\", \"medical\"]\n",
    "\n",
    "# Save to admission_type.npy\n",
    "if not os.path.exists('./res'):\n",
    "    os.makedirs('./res')\n",
    "\n",
    "tosave = {'admission_type_labels': admission_type_labels, 'admission_type': admission_type}\n",
    "np.save('res/admission_type.npy',tosave)\n",
    "print(\"Saved!\")"
   ]
  },
  {
   "cell_type": "code",
   "execution_count": null,
   "metadata": {},
   "outputs": [],
   "source": []
  }
 ],
 "metadata": {
  "kernelspec": {
   "display_name": "Python 3",
   "language": "python",
   "name": "python3"
  },
  "language_info": {
   "codemirror_mode": {
    "name": "ipython",
    "version": 3
   },
   "file_extension": ".py",
   "mimetype": "text/x-python",
   "name": "python",
   "nbconvert_exporter": "python",
   "pygments_lexer": "ipython3",
   "version": "3.7.3"
  }
 },
 "nbformat": 4,
 "nbformat_minor": 4
}
