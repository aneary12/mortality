{
 "cells": [
  {
   "cell_type": "code",
   "execution_count": 1,
   "metadata": {},
   "outputs": [],
   "source": [
    "# Import libraries\n",
    "import psycopg2\n",
    "import getpass\n",
    "import matplotlib.pyplot as plt\n",
    "import numpy as np\n",
    "import os.path\n",
    "import time"
   ]
  },
  {
   "cell_type": "code",
   "execution_count": 2,
   "metadata": {},
   "outputs": [
    {
     "name": "stdout",
     "output_type": "stream",
     "text": [
      "Loaded!\n"
     ]
    }
   ],
   "source": [
    "# load the data\n",
    "_data = np.load('res/admission.npy', allow_pickle=True).tolist()\n",
    "adm_labels = _data['adm_labels']\n",
    "all_adm = _data['all_adm']\n",
    "first_adm = _data['first_adm']\n",
    "adult_first_adm = _data['adult_first_adm']\n",
    "print(\"Loaded!\")"
   ]
  },
  {
   "cell_type": "code",
   "execution_count": 3,
   "metadata": {},
   "outputs": [],
   "source": [
    "# Create a database connection\n",
    "user = 'postgres'\n",
    "host = 'localhost'\n",
    "port = '5433'\n",
    "dbname = 'mimic'\n",
    "schema = 'mimiciii'"
   ]
  },
  {
   "cell_type": "code",
   "execution_count": 4,
   "metadata": {},
   "outputs": [
    {
     "name": "stdin",
     "output_type": "stream",
     "text": [
      "Password: ··········\n"
     ]
    },
    {
     "name": "stdout",
     "output_type": "stream",
     "text": [
      "Connected!\n"
     ]
    }
   ],
   "source": [
    "# Connect to the database\n",
    "con = psycopg2.connect(dbname=dbname, user=user, host=host, port=port, \n",
    "                       password=getpass.getpass(prompt='Password:'.format(user)))\n",
    "cur = con.cursor()\n",
    "cur.execute('SET search_path TO {}'.format(schema))\n",
    "con.commit()\n",
    "print(\"Connected!\")"
   ]
  },
  {
   "cell_type": "code",
   "execution_count": 5,
   "metadata": {},
   "outputs": [
    {
     "name": "stdout",
     "output_type": "stream",
     "text": [
      "This query took 3.11 seconds\n"
     ]
    }
   ],
   "source": [
    "start = time.time()\n",
    "\n",
    "# Select serum bilirubin measurements\n",
    "query = \\\n",
    "\"\"\"\n",
    "SELECT subject_id, hadm_id, hadm_id, itemid, charttime, valuenum, valueuom\n",
    "FROM labevents\n",
    "WHERE itemid = 50885\n",
    "\"\"\"\n",
    "\n",
    "# Execute the query and fetch the result\n",
    "cur.execute(query)\n",
    "con.commit()\n",
    "data = cur.fetchall()\n",
    "\n",
    "# Store the result of the query as a numpy array\n",
    "serum_bilirubin = np.array(data)\n",
    "\n",
    "end = time.time()\n",
    "\n",
    "# Print run time\n",
    "print(\"This query took {} seconds\".format(round((end-start),2)))"
   ]
  },
  {
   "cell_type": "code",
   "execution_count": 6,
   "metadata": {},
   "outputs": [
    {
     "name": "stdout",
     "output_type": "stream",
     "text": [
      "Units:\n",
      "[[None]\n",
      " ['mg/dL']]\n"
     ]
    }
   ],
   "source": [
    "# Select the different units\n",
    "query = \\\n",
    "\"\"\"\n",
    "SELECT DISTINCT(valueuom)\n",
    "FROM labevents\n",
    "WHERE itemid = 50885\n",
    "\"\"\"\n",
    "\n",
    "# Execute the query and fetch the result\n",
    "cur.execute(query)\n",
    "con.commit()\n",
    "data = cur.fetchall()\n",
    "\n",
    "# Store the result of the query as a numpy array\n",
    "units = np.array(data)\n",
    "\n",
    "# Display the units\n",
    "print(\"Units:\")\n",
    "print(units)"
   ]
  },
  {
   "cell_type": "code",
   "execution_count": 7,
   "metadata": {},
   "outputs": [
    {
     "name": "stdout",
     "output_type": "stream",
     "text": [
      "No. of bilirubin measurements: 238263\n",
      "No. of 'None' values: 29 (0.0001%)\n"
     ]
    }
   ],
   "source": [
    "# Check how many serum bilirubin measurements are in the data set\n",
    "print(\"No. of bilirubin measurements: {}\".format(np.shape(serum_bilirubin)[0]))\n",
    "print(\"No. of 'None' values: {} ({}%)\".format(sum(x is None for x in serum_bilirubin[:,5]), round(sum(x is None for x in serum_bilirubin[:,5])/np.shape(serum_bilirubin)[0],4)))"
   ]
  },
  {
   "cell_type": "code",
   "execution_count": 8,
   "metadata": {},
   "outputs": [
    {
     "name": "stdout",
     "output_type": "stream",
     "text": [
      "Shape of serum_bilirubin before removing None values: (238263, 7)\n",
      "Shape of serum_bilirubin after removing None values: (238234, 7)\n"
     ]
    }
   ],
   "source": [
    "print(\"Shape of serum_bilirubin before removing None values: {}\".format(np.shape(serum_bilirubin)))\n",
    "\n",
    "# Remove None values\n",
    "serum_bilirubin = serum_bilirubin[~np.isnan(serum_bilirubin[:,5].astype(float))]\n",
    "\n",
    "print(\"Shape of serum_bilirubin after removing None values: {}\".format(np.shape(serum_bilirubin)))"
   ]
  },
  {
   "cell_type": "code",
   "execution_count": 9,
   "metadata": {},
   "outputs": [],
   "source": [
    "# Select data for hospital admission ID 145834 only\n",
    "bilirubin = serum_bilirubin[serum_bilirubin[:,1]==145834]"
   ]
  },
  {
   "cell_type": "code",
   "execution_count": 10,
   "metadata": {},
   "outputs": [],
   "source": [
    "# Sort measurements by time\n",
    "bilirubin = bilirubin[bilirubin[:,4].argsort()]\n",
    "bilirubin[:,4] = bilirubin[:,4] - adult_first_adm[:,-1][adult_first_adm[:,1]==145834] # convert raw times to time since admission\n",
    "for i in range(len(bilirubin[:,4])):\n",
    "    bilirubin[:,4][i] = bilirubin[:,4][i].total_seconds()/(60*60)"
   ]
  },
  {
   "cell_type": "code",
   "execution_count": 11,
   "metadata": {},
   "outputs": [
    {
     "data": {
      "image/png": "[encoded data removed]",
      "text/plain": [
       "<Figure size 432x288 with 1 Axes>"
      ]
     },
     "metadata": {
      "needs_background": "light"
     },
     "output_type": "display_data"
    }
   ],
   "source": [
    "# Plot bilirubin data for hospital admission ID 145834\n",
    "hrs = 48 # select how many hours post admission to display\n",
    "plt.plot(bilirubin[:,4][bilirubin[:,4]<=hrs], bilirubin[:,5][bilirubin[:,4]<=hrs], marker=\"o\")\n",
    "plt.xlabel('Time (hours after admission)')\n",
    "plt.ylabel('Bilirubin (mg/dL)')\n",
    "plt.title('Bilirubin for Hospital Admission ID 145834')\n",
    "plt.show()"
   ]
  },
  {
   "cell_type": "code",
   "execution_count": 12,
   "metadata": {},
   "outputs": [
    {
     "name": "stdout",
     "output_type": "stream",
     "text": [
      "No. of measurements in first 48 hours: 2\n",
      "Total no. of measurements: 2\n"
     ]
    }
   ],
   "source": [
    "print(\"No. of measurements in first {} hours: {}\".format(hrs,len(bilirubin[:,4][bilirubin[:,4]<=hrs])))\n",
    "print(\"Total no. of measurements: {}\".format(len(bilirubin[:,4])))"
   ]
  },
  {
   "cell_type": "code",
   "execution_count": 13,
   "metadata": {},
   "outputs": [],
   "source": [
    "# Get mean bilirubin for each hour\n",
    "processed_bilirubin = np.zeros((hrs,2))\n",
    "for i in range(hrs):\n",
    "    bilirubin_values = bilirubin[:,5][np.logical_and(bilirubin[:,4]>=i, bilirubin[:,4]<(i+1))]\n",
    "    x = 1\n",
    "    while len(bilirubin_values) == 0:\n",
    "        bilirubin_values = bilirubin[:,5][np.logical_and(bilirubin[:,4]>=(i-x), bilirubin[:,4]<(i+1+x))]\n",
    "        x+=1\n",
    "    mean_bilirubin = np.mean(bilirubin_values)\n",
    "    processed_bilirubin[i,0] = i+1\n",
    "    processed_bilirubin[i,1] = mean_bilirubin"
   ]
  },
  {
   "cell_type": "code",
   "execution_count": 14,
   "metadata": {},
   "outputs": [
    {
     "data": {
      "image/png": "[encoded data removed]",
      "text/plain": [
       "<Figure size 432x288 with 1 Axes>"
      ]
     },
     "metadata": {
      "needs_background": "light"
     },
     "output_type": "display_data"
    }
   ],
   "source": [
    "# Plot the processed bilirubin data for hospital admission ID 145834\n",
    "plt.plot(processed_bilirubin[:,0], processed_bilirubin[:,1], marker=\"o\")\n",
    "plt.xlabel('Time (hours after admission)')\n",
    "plt.ylabel('Bilirubin (mg/dL)')\n",
    "plt.title('Bilirubin for Hospital Admission ID 145834')\n",
    "plt.show()"
   ]
  },
  {
   "cell_type": "code",
   "execution_count": 16,
   "metadata": {},
   "outputs": [],
   "source": [
    "# Initialise a 3D numpy array for 24 hour measurements\n",
    "hrs = 48\n",
    "m = len(adult_first_adm) # number of patients\n",
    "bilirubin_24h = np.zeros((m, hrs+1, 1))"
   ]
  },
  {
   "cell_type": "code",
   "execution_count": null,
   "metadata": {},
   "outputs": [
    {
     "name": "stdout",
     "output_type": "stream",
     "text": [
      "2.59% complete (1000/38549)\n",
      "5.19% complete (2000/38549)\n",
      "7.78% complete (3000/38549)\n",
      "10.38% complete (4000/38549)\n",
      "12.97% complete (5000/38549)\n",
      "15.56% complete (6000/38549)\n",
      "18.16% complete (7000/38549)\n",
      "20.75% complete (8000/38549)\n",
      "23.35% complete (9000/38549)\n",
      "25.94% complete (10000/38549)\n",
      "28.54% complete (11000/38549)\n",
      "31.13% complete (12000/38549)\n",
      "33.72% complete (13000/38549)\n"
     ]
    }
   ],
   "source": [
    "# Create processed 24 hour bilirubin time series for every patient\n",
    "start = time.time()\n",
    "\n",
    "for i in range(m):\n",
    "    \n",
    "    # Define hospital admission ID number\n",
    "    admission_id = adult_first_adm[i,1]\n",
    "    \n",
    "    # Select data for hospital admission ID\n",
    "    bilirubin = serum_bilirubin[serum_bilirubin[:,1]==admission_id]\n",
    "    \n",
    "    # Account for patients with no bilirubin measurements\n",
    "    if len(bilirubin) == 0:\n",
    "        processed_bilirubin = np.zeros((hrs,1))\n",
    "        \n",
    "    else:\n",
    "    \n",
    "        # Sort measurements by time\n",
    "        admit_time = adult_first_adm[i,-1]\n",
    "        bilirubin = bilirubin[bilirubin[:,4].argsort()]\n",
    "        bilirubin[:,4] = bilirubin[:,4] - admit_time # convert raw times to time since admission\n",
    "        for j in range(len(bilirubin[:,4])):\n",
    "            bilirubin[:,4][j] = bilirubin[:,4][j].total_seconds()/(60*60)\n",
    "    \n",
    "        # Get mean bilirubin for each hour\n",
    "        processed_bilirubin = np.zeros((hrs,1))\n",
    "        for k in range(24):\n",
    "            bilirubin_values = bilirubin[:,5][np.logical_and(bilirubin[:,4]>=k, bilirubin[:,4]<(k+1))]\n",
    "            x = 1\n",
    "            while len(bilirubin_values) == 0:\n",
    "                bilirubin_values = bilirubin[:,5][np.logical_and(bilirubin[:,4]>=(k-x), bilirubin[:,4]<(k+1+x))]\n",
    "                x+=1\n",
    "            mean_bilirubin = np.mean(bilirubin_values)\n",
    "            processed_bilirubin[k] = mean_bilirubin\n",
    "    \n",
    "    # Store in bilirubin_24h\n",
    "    bilirubin_24h[i,0,:] = admission_id\n",
    "    bilirubin_24h[i,1:,:] = processed_bilirubin\n",
    "    \n",
    "    # Print progress\n",
    "    if (i+1) % 1000 == 0:\n",
    "        print(\"{}% complete ({}/{})\".format(round((i+1)/m*100,2), i+1, m))\n",
    "\n",
    "end = time.time()\n",
    "\n",
    "# Evaluate run time\n",
    "print(\"This took {} minutes\".format(round((end-start)/60,2)))"
   ]
  },
  {
   "cell_type": "code",
   "execution_count": 17,
   "metadata": {},
   "outputs": [
    {
     "name": "stdout",
     "output_type": "stream",
     "text": [
      "Saved!\n"
     ]
    }
   ],
   "source": [
    "bilirubin_labels = [\"subject_id\", \"hadm_id\", \"hadm_id\", \"itemid\", \"charttime\", \"valuenum\", \"valueuom\"]\n",
    "\n",
    "# Save to bilirubin.npy\n",
    "if not os.path.exists('./res'):\n",
    "    os.makedirs('./res')\n",
    "\n",
    "tosave = {'bilirubin_labels': bilirubin_labels, 'serum_bilirubin': serum_bilirubin, 'bilirubin_24h': bilirubin_24h}\n",
    "np.save('res/bilirubin.npy',tosave)\n",
    "print(\"Saved!\")"
   ]
  },
  {
   "cell_type": "code",
   "execution_count": null,
   "metadata": {},
   "outputs": [],
   "source": []
  }
 ],
 "metadata": {
  "kernelspec": {
   "display_name": "Python 3",
   "language": "python",
   "name": "python3"
  },
  "language_info": {
   "codemirror_mode": {
    "name": "ipython",
    "version": 3
   },
   "file_extension": ".py",
   "mimetype": "text/x-python",
   "name": "python",
   "nbconvert_exporter": "python",
   "pygments_lexer": "ipython3",
   "version": "3.7.3"
  }
 },
 "nbformat": 4,
 "nbformat_minor": 4
}
