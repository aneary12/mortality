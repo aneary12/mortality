{
 "cells": [
  {
   "cell_type": "code",
   "execution_count": 1,
   "metadata": {},
   "outputs": [],
   "source": [
    "# Import libraries\n",
    "import psycopg2\n",
    "import getpass\n",
    "import matplotlib.pyplot as plt\n",
    "import numpy as np\n",
    "import os.path\n",
    "import time"
   ]
  },
  {
   "cell_type": "code",
   "execution_count": 2,
   "metadata": {},
   "outputs": [
    {
     "name": "stdout",
     "output_type": "stream",
     "text": [
      "Loaded!\n"
     ]
    }
   ],
   "source": [
    "# load the data\n",
    "_data = np.load('res/admission.npy', allow_pickle=True).tolist()\n",
    "adm_labels = _data['adm_labels']\n",
    "all_adm = _data['all_adm']\n",
    "first_adm = _data['first_adm']\n",
    "adult_first_adm = _data['adult_first_adm']\n",
    "print(\"Loaded!\")"
   ]
  },
  {
   "cell_type": "code",
   "execution_count": 3,
   "metadata": {},
   "outputs": [],
   "source": [
    "# Create a database connection\n",
    "user = 'postgres'\n",
    "host = 'localhost'\n",
    "port = '5433'\n",
    "dbname = 'mimic'\n",
    "schema = 'mimiciii'"
   ]
  },
  {
   "cell_type": "code",
   "execution_count": 4,
   "metadata": {},
   "outputs": [
    {
     "name": "stdin",
     "output_type": "stream",
     "text": [
      "Password: ··········\n"
     ]
    },
    {
     "name": "stdout",
     "output_type": "stream",
     "text": [
      "Connected!\n"
     ]
    }
   ],
   "source": [
    "# Connect to the database\n",
    "con = psycopg2.connect(dbname=dbname, user=user, host=host, port=port, \n",
    "                       password=getpass.getpass(prompt='Password:'.format(user)))\n",
    "cur = con.cursor()\n",
    "cur.execute('SET search_path TO {}'.format(schema))\n",
    "con.commit()\n",
    "print(\"Connected!\")"
   ]
  },
  {
   "cell_type": "code",
   "execution_count": 5,
   "metadata": {},
   "outputs": [
    {
     "name": "stdout",
     "output_type": "stream",
     "text": [
      "This query took 16.56 seconds\n"
     ]
    }
   ],
   "source": [
    "start = time.time()\n",
    "\n",
    "# Select urine output measurements\n",
    "query = \\\n",
    "\"\"\"\n",
    "SELECT subject_id, hadm_id, icustay_id, itemid, charttime, valueuom,\n",
    "    \n",
    "    -- consider input of GU irrigant as a negative volume\n",
    "    CASE\n",
    "        WHEN itemid = 227488 AND value > 0 THEN -1*value\n",
    "        ELSE value\n",
    "    END\n",
    "\n",
    "FROM outputevents\n",
    "WHERE itemid IN\n",
    "(\n",
    "40055, -- \"Urine Out Foley\"\n",
    "43175, -- \"Urine .\"\n",
    "40069, -- \"Urine Out Void\"\n",
    "40094, -- \"Urine Out Condom Cath\"\n",
    "40715, -- \"Urine Out Suprapubic\"\n",
    "40473, -- \"Urine Out IleoConduit\"\n",
    "40085, -- \"Urine Out Incontinent\"\n",
    "40057, -- \"Urine Out Rt Nephrostomy\"\n",
    "40056, -- \"Urine Out Lt Nephrostomy\"\n",
    "40405, -- \"Urine Out Other\"\n",
    "40428, -- \"Urine Out Straight Cath\"\n",
    "40086, -- Urine Out Incontinent\n",
    "40096, -- \"Urine Out Ureteral Stent #1\"\n",
    "40651, -- \"Urine Out Ureteral Stent #2\"\n",
    "226559, -- \"Foley\"\n",
    "226560, -- \"Void\"\n",
    "226561, -- \"Condom Cath\"\n",
    "226584, -- \"Ileoconduit\"\n",
    "226563, -- \"Suprapubic\"\n",
    "226564, -- \"R Nephrostomy\"\n",
    "226565, -- \"L Nephrostomy\"\n",
    "226567, -- Straight Cath\n",
    "226557, -- R Ureteral Stent\n",
    "226558, -- L Ureteral Stent\n",
    "227488, -- GU Irrigant Volume In\n",
    "227489  -- GU Irrigant/Urine Volume Out\n",
    ")\n",
    "\n",
    "GROUP BY subject_id, hadm_id, icustay_id, itemid, charttime, valueuom, value\n",
    "\"\"\"\n",
    "\n",
    "# Execute the query and fetch the result\n",
    "cur.execute(query)\n",
    "con.commit()\n",
    "data = cur.fetchall()\n",
    "\n",
    "# Store the result of the query as a numpy array\n",
    "urine_output = np.array(data)\n",
    "\n",
    "end = time.time()\n",
    "\n",
    "# Print run time\n",
    "print(\"This query took {} seconds\".format(round((end-start),2)))"
   ]
  },
  {
   "cell_type": "code",
   "execution_count": 6,
   "metadata": {},
   "outputs": [
    {
     "name": "stdout",
     "output_type": "stream",
     "text": [
      "Units:\n",
      "[[None]\n",
      " ['ml']\n",
      " ['mL']]\n"
     ]
    }
   ],
   "source": [
    "# Select the different units\n",
    "query = \\\n",
    "\"\"\"\n",
    "SELECT DISTINCT(valueuom)\n",
    "FROM outputevents\n",
    "WHERE itemid IN\n",
    "(\n",
    "40055, -- \"Urine Out Foley\"\n",
    "43175, -- \"Urine .\"\n",
    "40069, -- \"Urine Out Void\"\n",
    "40094, -- \"Urine Out Condom Cath\"\n",
    "40715, -- \"Urine Out Suprapubic\"\n",
    "40473, -- \"Urine Out IleoConduit\"\n",
    "40085, -- \"Urine Out Incontinent\"\n",
    "40057, -- \"Urine Out Rt Nephrostomy\"\n",
    "40056, -- \"Urine Out Lt Nephrostomy\"\n",
    "40405, -- \"Urine Out Other\"\n",
    "40428, -- \"Urine Out Straight Cath\"\n",
    "40086, -- Urine Out Incontinent\n",
    "40096, -- \"Urine Out Ureteral Stent #1\"\n",
    "40651, -- \"Urine Out Ureteral Stent #2\"\n",
    "226559, -- \"Foley\"\n",
    "226560, -- \"Void\"\n",
    "226561, -- \"Condom Cath\"\n",
    "226584, -- \"Ileoconduit\"\n",
    "226563, -- \"Suprapubic\"\n",
    "226564, -- \"R Nephrostomy\"\n",
    "226565, -- \"L Nephrostomy\"\n",
    "226567, -- Straight Cath\n",
    "226557, -- R Ureteral Stent\n",
    "226558, -- L Ureteral Stent\n",
    "227488, -- GU Irrigant Volume In\n",
    "227489  -- GU Irrigant/Urine Volume Out\n",
    ")\n",
    "\"\"\"\n",
    "\n",
    "# Execute the query and fetch the result\n",
    "cur.execute(query)\n",
    "con.commit()\n",
    "data = cur.fetchall()\n",
    "\n",
    "# Store the result of the query as a numpy array\n",
    "units = np.array(data)\n",
    "\n",
    "# Display the units\n",
    "print(\"Units:\")\n",
    "print(units)"
   ]
  },
  {
   "cell_type": "code",
   "execution_count": 7,
   "metadata": {},
   "outputs": [
    {
     "name": "stdout",
     "output_type": "stream",
     "text": [
      "No. of urine output measurements: 3398907\n",
      "No. of 'None' values: 7718 (0.0023%)\n"
     ]
    }
   ],
   "source": [
    "# Check how many urine output measurements are in the data set\n",
    "print(\"No. of urine output measurements: {}\".format(np.shape(urine_output)[0]))\n",
    "print(\"No. of 'None' values: {} ({}%)\".format(sum(x is None for x in urine_output[:,5]), round(sum(x is None for x in urine_output[:,5])/np.shape(urine_output)[0],4)))"
   ]
  },
  {
   "cell_type": "code",
   "execution_count": 8,
   "metadata": {},
   "outputs": [
    {
     "name": "stdout",
     "output_type": "stream",
     "text": [
      "Shape of urine_output before removing None values: (3398907, 7)\n",
      "Shape of urine_output after removing None values: (3383320, 7)\n"
     ]
    }
   ],
   "source": [
    "print(\"Shape of urine_output before removing None values: {}\".format(np.shape(urine_output)))\n",
    "\n",
    "# Remove None values\n",
    "urine_output = urine_output[~np.isnan(urine_output[:,6].astype(float))]\n",
    "\n",
    "print(\"Shape of urine_output after removing None values: {}\".format(np.shape(urine_output)))"
   ]
  },
  {
   "cell_type": "code",
   "execution_count": 9,
   "metadata": {},
   "outputs": [],
   "source": [
    "# Select data for hospital admission ID 145834 only\n",
    "urine = urine_output[urine_output[:,1]==145834]"
   ]
  },
  {
   "cell_type": "code",
   "execution_count": 10,
   "metadata": {},
   "outputs": [],
   "source": [
    "# Sort measurements by time\n",
    "urine = urine[urine[:,4].argsort()]\n",
    "urine[:,4] = urine[:,4] - adult_first_adm[:,-1][adult_first_adm[:,1]==145834] # convert raw times to time since admission\n",
    "for i in range(len(urine[:,4])):\n",
    "    urine[:,4][i] = urine[:,4][i].total_seconds()/(60*60)"
   ]
  },
  {
   "cell_type": "code",
   "execution_count": 11,
   "metadata": {},
   "outputs": [
    {
     "data": {
      "image/png": "[encoded data removed]",
      "text/plain": [
       "<Figure size 432x288 with 1 Axes>"
      ]
     },
     "metadata": {
      "needs_background": "light"
     },
     "output_type": "display_data"
    }
   ],
   "source": [
    "# Plot urine output data for hospital admission ID 145834\n",
    "hrs = 24 # select how many hours post admission to display\n",
    "plt.plot(urine[:,4][urine[:,4]<=hrs], urine[:,6][urine[:,4]<=hrs], marker=\"o\")\n",
    "plt.xlabel('Time (hours after admission)')\n",
    "plt.ylabel('Urine (mL)')\n",
    "plt.title('Urine Output for Hospital Admission ID 145834')\n",
    "plt.show()"
   ]
  },
  {
   "cell_type": "code",
   "execution_count": 12,
   "metadata": {},
   "outputs": [
    {
     "name": "stdout",
     "output_type": "stream",
     "text": [
      "No. of measurements in first 24 hours: 13\n",
      "Total no. of measurements: 106\n"
     ]
    }
   ],
   "source": [
    "print(\"No. of measurements in first {} hours: {}\".format(hrs,len(urine[:,4][urine[:,4]<=hrs])))\n",
    "print(\"Total no. of measurements: {}\".format(len(urine[:,4])))"
   ]
  },
  {
   "cell_type": "code",
   "execution_count": 13,
   "metadata": {},
   "outputs": [],
   "source": [
    "# Get total urine output for each hour\n",
    "processed_urine = np.zeros((24,2))\n",
    "for i in range(24):\n",
    "    urine_values = urine[:,6][np.logical_and(urine[:,4]>=i, urine[:,4]<(i+1))]\n",
    "    if len(urine_values) == 0:\n",
    "        total_urine = 0\n",
    "    else:\n",
    "        total_urine = sum(urine_values)\n",
    "    processed_urine[i,0] = i+1\n",
    "    processed_urine[i,1] = total_urine"
   ]
  },
  {
   "cell_type": "code",
   "execution_count": 14,
   "metadata": {},
   "outputs": [
    {
     "data": {
      "image/png": "[encoded data removed]",
      "text/plain": [
       "<Figure size 432x288 with 1 Axes>"
      ]
     },
     "metadata": {
      "needs_background": "light"
     },
     "output_type": "display_data"
    }
   ],
   "source": [
    "# Plot the processed urine output data for hospital admission ID 145834\n",
    "plt.plot(processed_urine[:,0], processed_urine[:,1], marker=\"o\")\n",
    "plt.xlabel('Time (hours after admission)')\n",
    "plt.ylabel('Urine (mL)')\n",
    "plt.title('Urine Output for Hospital Admission ID 145834')\n",
    "plt.show()"
   ]
  },
  {
   "cell_type": "code",
   "execution_count": 15,
   "metadata": {},
   "outputs": [],
   "source": [
    "# Initialise a 3D numpy array for 24 hour measurements\n",
    "hrs = 48\n",
    "m = len(adult_first_adm) # number of patients\n",
    "urine_48h = np.zeros((m, hrs+1, 1))"
   ]
  },
  {
   "cell_type": "code",
   "execution_count": 17,
   "metadata": {},
   "outputs": [
    {
     "name": "stdout",
     "output_type": "stream",
     "text": [
      "2.59% complete (1000/38549)\n",
      "5.19% complete (2000/38549)\n",
      "7.78% complete (3000/38549)\n",
      "10.38% complete (4000/38549)\n",
      "12.97% complete (5000/38549)\n",
      "15.56% complete (6000/38549)\n",
      "18.16% complete (7000/38549)\n",
      "20.75% complete (8000/38549)\n",
      "23.35% complete (9000/38549)\n",
      "25.94% complete (10000/38549)\n",
      "28.54% complete (11000/38549)\n",
      "31.13% complete (12000/38549)\n",
      "33.72% complete (13000/38549)\n",
      "36.32% complete (14000/38549)\n",
      "38.91% complete (15000/38549)\n",
      "41.51% complete (16000/38549)\n",
      "44.1% complete (17000/38549)\n",
      "46.69% complete (18000/38549)\n",
      "49.29% complete (19000/38549)\n",
      "51.88% complete (20000/38549)\n",
      "54.48% complete (21000/38549)\n",
      "57.07% complete (22000/38549)\n",
      "59.66% complete (23000/38549)\n",
      "62.26% complete (24000/38549)\n",
      "64.85% complete (25000/38549)\n",
      "67.45% complete (26000/38549)\n",
      "70.04% complete (27000/38549)\n",
      "72.63% complete (28000/38549)\n",
      "75.23% complete (29000/38549)\n",
      "77.82% complete (30000/38549)\n",
      "80.42% complete (31000/38549)\n",
      "83.01% complete (32000/38549)\n",
      "85.61% complete (33000/38549)\n",
      "88.2% complete (34000/38549)\n",
      "90.79% complete (35000/38549)\n",
      "93.39% complete (36000/38549)\n",
      "95.98% complete (37000/38549)\n",
      "98.58% complete (38000/38549)\n",
      "\n",
      "Finished! This took 40.62 minutes\n"
     ]
    }
   ],
   "source": [
    "# Create processed 24 hour urine output time series for every patient\n",
    "start = time.time()\n",
    "\n",
    "for i in range(m):\n",
    "    \n",
    "    # Define hospital admission ID number\n",
    "    admission_id = adult_first_adm[i,1]\n",
    "    \n",
    "    # Select data for hospital admission ID\n",
    "    urine = urine_output[urine_output[:,1]==admission_id]\n",
    "    \n",
    "    # Account for patients with no urine output measurements\n",
    "    if len(urine) == 0:\n",
    "        processed_urine = np.zeros((hrs,1))\n",
    "        \n",
    "    else:\n",
    "    \n",
    "        # Sort measurements by time\n",
    "        admit_time = adult_first_adm[i,-1]\n",
    "        urine = urine[urine[:,4].argsort()]\n",
    "        urine[:,4] = urine[:,4] - admit_time # convert raw times to time since admission\n",
    "        for j in range(len(urine[:,4])):\n",
    "            urine[:,4][j] = urine[:,4][j].total_seconds()/(60*60)\n",
    "    \n",
    "        # Get total urine output for each hour\n",
    "        processed_urine = np.zeros((hrs,1))\n",
    "        for k in range(hrs):\n",
    "            urine_values = urine[:,6][np.logical_and(urine[:,4]>=k, urine[:,4]<(k+1))]\n",
    "            if len(urine_values) == 0:\n",
    "                total_urine = 0\n",
    "            else:\n",
    "                total_urine = sum(urine_values)\n",
    "            processed_urine[k] = total_urine\n",
    "    \n",
    "    # Store in urine_24h\n",
    "    urine_48h[i,0,:] = admission_id\n",
    "    urine_48h[i,1:,:] = processed_urine\n",
    "    \n",
    "    # Print progress\n",
    "    if (i+1) % 1000 == 0:\n",
    "        print(\"{}% complete ({}/{})\".format(round((i+1)/m*100,2), i+1, m))\n",
    "\n",
    "end = time.time()\n",
    "\n",
    "# Evaluate run time\n",
    "print(\"\")\n",
    "print(\"Finished! This took {} minutes\".format(round((end-start)/60,2)))"
   ]
  },
  {
   "cell_type": "code",
   "execution_count": 18,
   "metadata": {},
   "outputs": [
    {
     "name": "stdout",
     "output_type": "stream",
     "text": [
      "Saved!\n"
     ]
    }
   ],
   "source": [
    "urine_labels = [\"subject_id\", \"hadm_id\", \"icustay_id\", \"itemid\", \"charttime\", \"valueuom\", \"value\"]\n",
    "\n",
    "# Save to urine.npy\n",
    "if not os.path.exists('./res'):\n",
    "    os.makedirs('./res')\n",
    "\n",
    "tosave = {'urine_labels': urine_labels, 'urine_output': urine_output, 'urine_48h': urine_48h}\n",
    "np.save('res/urine.npy',tosave)\n",
    "print(\"Saved!\")"
   ]
  },
  {
   "cell_type": "code",
   "execution_count": null,
   "metadata": {},
   "outputs": [],
   "source": []
  }
 ],
 "metadata": {
  "kernelspec": {
   "display_name": "Python 3",
   "language": "python",
   "name": "python3"
  },
  "language_info": {
   "codemirror_mode": {
    "name": "ipython",
    "version": 3
   },
   "file_extension": ".py",
   "mimetype": "text/x-python",
   "name": "python",
   "nbconvert_exporter": "python",
   "pygments_lexer": "ipython3",
   "version": "3.7.3"
  }
 },
 "nbformat": 4,
 "nbformat_minor": 4
}
