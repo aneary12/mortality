{
 "cells": [
  {
   "cell_type": "code",
   "execution_count": 1,
   "metadata": {},
   "outputs": [],
   "source": [
    "# Import libraries\n",
    "import psycopg2\n",
    "import getpass\n",
    "import matplotlib.pyplot as plt\n",
    "import numpy as np\n",
    "import os.path\n",
    "import time"
   ]
  },
  {
   "cell_type": "code",
   "execution_count": 2,
   "metadata": {},
   "outputs": [
    {
     "name": "stdout",
     "output_type": "stream",
     "text": [
      "Loaded!\n"
     ]
    }
   ],
   "source": [
    "# load the data\n",
    "_data = np.load('res/admission.npy', allow_pickle=True).tolist()\n",
    "adm_labels = _data['adm_labels']\n",
    "all_adm = _data['all_adm']\n",
    "first_adm = _data['first_adm']\n",
    "adult_first_adm = _data['adult_first_adm']\n",
    "print(\"Loaded!\")"
   ]
  },
  {
   "cell_type": "code",
   "execution_count": 3,
   "metadata": {},
   "outputs": [],
   "source": [
    "# Create a database connection\n",
    "user = 'postgres'\n",
    "host = 'localhost'\n",
    "port = '5433'\n",
    "dbname = 'mimic'\n",
    "schema = 'mimiciii'"
   ]
  },
  {
   "cell_type": "code",
   "execution_count": 4,
   "metadata": {},
   "outputs": [
    {
     "name": "stdin",
     "output_type": "stream",
     "text": [
      "Password: ··········\n"
     ]
    },
    {
     "name": "stdout",
     "output_type": "stream",
     "text": [
      "Connected!\n"
     ]
    }
   ],
   "source": [
    "# Connect to the database\n",
    "con = psycopg2.connect(dbname=dbname, user=user, host=host, port=port, \n",
    "                       password=getpass.getpass(prompt='Password:'.format(user)))\n",
    "cur = con.cursor()\n",
    "cur.execute('SET search_path TO {}'.format(schema))\n",
    "con.commit()\n",
    "print(\"Connected!\")"
   ]
  },
  {
   "cell_type": "code",
   "execution_count": 5,
   "metadata": {},
   "outputs": [
    {
     "name": "stdout",
     "output_type": "stream",
     "text": [
      "This query took 6.38 seconds\n"
     ]
    }
   ],
   "source": [
    "start = time.time()\n",
    "\n",
    "# Select serum bicarb measurements\n",
    "query = \\\n",
    "\"\"\"\n",
    "SELECT subject_id, hadm_id, hadm_id, itemid, charttime, valuenum, valueuom\n",
    "FROM labevents\n",
    "WHERE itemid = 50882\n",
    "\"\"\"\n",
    "\n",
    "# Execute the query and fetch the result\n",
    "cur.execute(query)\n",
    "con.commit()\n",
    "data = cur.fetchall()\n",
    "\n",
    "# Store the result of the query as a numpy array\n",
    "serum_bicarb = np.array(data)\n",
    "\n",
    "end = time.time()\n",
    "\n",
    "# Print run time\n",
    "print(\"This query took {} seconds\".format(round((end-start),2)))"
   ]
  },
  {
   "cell_type": "code",
   "execution_count": 6,
   "metadata": {},
   "outputs": [
    {
     "name": "stdout",
     "output_type": "stream",
     "text": [
      "Units:\n",
      "[[None]\n",
      " ['mEq/L']]\n"
     ]
    }
   ],
   "source": [
    "# Select the different units\n",
    "query = \\\n",
    "\"\"\"\n",
    "SELECT DISTINCT(valueuom)\n",
    "FROM labevents\n",
    "WHERE itemid = 50882\n",
    "\"\"\"\n",
    "\n",
    "# Execute the query and fetch the result\n",
    "cur.execute(query)\n",
    "con.commit()\n",
    "data = cur.fetchall()\n",
    "\n",
    "# Store the result of the query as a numpy array\n",
    "units = np.array(data)\n",
    "\n",
    "# Display the units\n",
    "print(\"Units:\")\n",
    "print(units)"
   ]
  },
  {
   "cell_type": "code",
   "execution_count": 7,
   "metadata": {},
   "outputs": [
    {
     "name": "stdout",
     "output_type": "stream",
     "text": [
      "No. of bicarb measurements: 780648\n",
      "No. of 'None' values: 209 (0.0003%)\n"
     ]
    }
   ],
   "source": [
    "# Check how many serum bicarb measurements are in the data set\n",
    "print(\"No. of bicarb measurements: {}\".format(np.shape(serum_bicarb)[0]))\n",
    "print(\"No. of 'None' values: {} ({}%)\".format(sum(x is None for x in serum_bicarb[:,5]), round(sum(x is None for x in serum_bicarb[:,5])/np.shape(serum_bicarb)[0],4)))"
   ]
  },
  {
   "cell_type": "code",
   "execution_count": 8,
   "metadata": {},
   "outputs": [
    {
     "name": "stdout",
     "output_type": "stream",
     "text": [
      "Shape of serum_bicarb before removing None values: (780648, 7)\n",
      "Shape of serum_bicarb after removing None values: (780439, 7)\n"
     ]
    }
   ],
   "source": [
    "print(\"Shape of serum_bicarb before removing None values: {}\".format(np.shape(serum_bicarb)))\n",
    "\n",
    "# Remove None values\n",
    "serum_bicarb = serum_bicarb[~np.isnan(serum_bicarb[:,5].astype(float))]\n",
    "\n",
    "print(\"Shape of serum_bicarb after removing None values: {}\".format(np.shape(serum_bicarb)))"
   ]
  },
  {
   "cell_type": "code",
   "execution_count": 9,
   "metadata": {},
   "outputs": [],
   "source": [
    "# Select data for hospital admission ID 145834 only\n",
    "bicarb = serum_bicarb[serum_bicarb[:,1]==145834]"
   ]
  },
  {
   "cell_type": "code",
   "execution_count": 10,
   "metadata": {},
   "outputs": [],
   "source": [
    "# Sort measurements by time\n",
    "bicarb = bicarb[bicarb[:,4].argsort()]\n",
    "bicarb[:,4] = bicarb[:,4] - adult_first_adm[:,-1][adult_first_adm[:,1]==145834] # convert raw times to time since admission\n",
    "for i in range(len(bicarb[:,4])):\n",
    "    bicarb[:,4][i] = bicarb[:,4][i].total_seconds()/(60*60)"
   ]
  },
  {
   "cell_type": "code",
   "execution_count": 11,
   "metadata": {},
   "outputs": [
    {
     "data": {
      "image/png": "[encoded data removed]",
      "text/plain": [
       "<Figure size 432x288 with 1 Axes>"
      ]
     },
     "metadata": {
      "needs_background": "light"
     },
     "output_type": "display_data"
    }
   ],
   "source": [
    "# Plot bicarb data for hospital admission ID 145834\n",
    "hrs = 48 # select how many hours post admission to display\n",
    "plt.plot(bicarb[:,4][bicarb[:,4]<=hrs], bicarb[:,5][bicarb[:,4]<=hrs], marker=\"o\")\n",
    "plt.xlabel('Time (hours after admission)')\n",
    "plt.ylabel('Serum bicarb (mEq/L)')\n",
    "plt.title('Serum Bicarbonate for Hospital Admission ID 145834')\n",
    "plt.show()"
   ]
  },
  {
   "cell_type": "code",
   "execution_count": 12,
   "metadata": {},
   "outputs": [
    {
     "name": "stdout",
     "output_type": "stream",
     "text": [
      "No. of measurements in first 48 hours: 6\n",
      "Total no. of measurements: 16\n"
     ]
    }
   ],
   "source": [
    "print(\"No. of measurements in first {} hours: {}\".format(hrs,len(bicarb[:,4][bicarb[:,4]<=hrs])))\n",
    "print(\"Total no. of measurements: {}\".format(len(bicarb[:,4])))"
   ]
  },
  {
   "cell_type": "code",
   "execution_count": 13,
   "metadata": {},
   "outputs": [],
   "source": [
    "# Get mean bicarb for each hour\n",
    "processed_bicarb = np.zeros((hrs,2))\n",
    "for i in range(hrs):\n",
    "    bicarb_values = bicarb[:,5][np.logical_and(bicarb[:,4]>=i, bicarb[:,4]<(i+1))]\n",
    "    x = 1\n",
    "    while len(bicarb_values) == 0:\n",
    "        bicarb_values = bicarb[:,5][np.logical_and(bicarb[:,4]>=(i-x), bicarb[:,4]<(i+1+x))]\n",
    "        x+=1\n",
    "    mean_bicarb = np.mean(bicarb_values)\n",
    "    processed_bicarb[i,0] = i+1\n",
    "    processed_bicarb[i,1] = mean_bicarb"
   ]
  },
  {
   "cell_type": "code",
   "execution_count": 14,
   "metadata": {},
   "outputs": [
    {
     "data": {
      "image/png": "[encoded data removed]",
      "text/plain": [
       "<Figure size 432x288 with 1 Axes>"
      ]
     },
     "metadata": {
      "needs_background": "light"
     },
     "output_type": "display_data"
    }
   ],
   "source": [
    "# Plot the processed bicarb data for hospital admission ID 145834\n",
    "plt.plot(processed_bicarb[:,0], processed_bicarb[:,1], marker=\"o\")\n",
    "plt.xlabel('Time (hours after admission)')\n",
    "plt.ylabel('Serum bicarb (mEq/L)')\n",
    "plt.title('Serum Bicarbonate for Hospital Admission ID 145834')\n",
    "plt.show()"
   ]
  },
  {
   "cell_type": "code",
   "execution_count": 15,
   "metadata": {},
   "outputs": [],
   "source": [
    "# Initialise a 3D numpy array for 24 hour measurements\n",
    "m = len(adult_first_adm) # number of patients\n",
    "bicarb_24h = np.zeros((m, hrs+1, 1))"
   ]
  },
  {
   "cell_type": "code",
   "execution_count": 16,
   "metadata": {},
   "outputs": [
    {
     "name": "stdout",
     "output_type": "stream",
     "text": [
      "2.59% complete (1000/38549)\n"
     ]
    },
    {
     "ename": "KeyboardInterrupt",
     "evalue": "",
     "output_type": "error",
     "traceback": [
      "\u001b[1;31m---------------------------------------------------------------------------\u001b[0m",
      "\u001b[1;31mKeyboardInterrupt\u001b[0m                         Traceback (most recent call last)",
      "\u001b[1;32m<ipython-input-16-13648152fb99>\u001b[0m in \u001b[0;36m<module>\u001b[1;34m\u001b[0m\n\u001b[0;32m      8\u001b[0m \u001b[1;33m\u001b[0m\u001b[0m\n\u001b[0;32m      9\u001b[0m     \u001b[1;31m# Select data for hospital admission ID\u001b[0m\u001b[1;33m\u001b[0m\u001b[1;33m\u001b[0m\u001b[1;33m\u001b[0m\u001b[0m\n\u001b[1;32m---> 10\u001b[1;33m     \u001b[0mbicarb\u001b[0m \u001b[1;33m=\u001b[0m \u001b[0mserum_bicarb\u001b[0m\u001b[1;33m[\u001b[0m\u001b[0mserum_bicarb\u001b[0m\u001b[1;33m[\u001b[0m\u001b[1;33m:\u001b[0m\u001b[1;33m,\u001b[0m\u001b[1;36m1\u001b[0m\u001b[1;33m]\u001b[0m\u001b[1;33m==\u001b[0m\u001b[0madmission_id\u001b[0m\u001b[1;33m]\u001b[0m\u001b[1;33m\u001b[0m\u001b[1;33m\u001b[0m\u001b[0m\n\u001b[0m\u001b[0;32m     11\u001b[0m \u001b[1;33m\u001b[0m\u001b[0m\n\u001b[0;32m     12\u001b[0m     \u001b[1;31m# Account for patients with no bicarb measurements\u001b[0m\u001b[1;33m\u001b[0m\u001b[1;33m\u001b[0m\u001b[1;33m\u001b[0m\u001b[0m\n",
      "\u001b[1;31mKeyboardInterrupt\u001b[0m: "
     ]
    }
   ],
   "source": [
    "# Create processed 24 hour bicarb time series for every patient\n",
    "start = time.time()\n",
    "\n",
    "for i in range(m):\n",
    "    \n",
    "    # Define hospital admission ID number\n",
    "    admission_id = adult_first_adm[i,1]\n",
    "    \n",
    "    # Select data for hospital admission ID\n",
    "    bicarb = serum_bicarb[serum_bicarb[:,1]==admission_id]\n",
    "    \n",
    "    # Account for patients with no bicarb measurements\n",
    "    if len(bicarb) == 0:\n",
    "        processed_bicarb = np.zeros((hrs,1))\n",
    "        \n",
    "    else:\n",
    "    \n",
    "        # Sort measurements by time\n",
    "        admit_time = adult_first_adm[i,-1]\n",
    "        bicarb = bicarb[bicarb[:,4].argsort()]\n",
    "        bicarb[:,4] = bicarb[:,4] - admit_time # convert raw times to time since admission\n",
    "        for j in range(len(bicarb[:,4])):\n",
    "            bicarb[:,4][j] = bicarb[:,4][j].total_seconds()/(60*60)\n",
    "    \n",
    "        # Get mean bicarb for each hour\n",
    "        processed_bicarb = np.zeros((hrs,1))\n",
    "        for k in range(24):\n",
    "            bicarb_values = bicarb[:,5][np.logical_and(bicarb[:,4]>=k, bicarb[:,4]<(k+1))]\n",
    "            x = 1\n",
    "            while len(bicarb_values) == 0:\n",
    "                bicarb_values = bicarb[:,5][np.logical_and(bicarb[:,4]>=(k-x), bicarb[:,4]<(k+1+x))]\n",
    "                x+=1\n",
    "            mean_bicarb = np.mean(bicarb_values)\n",
    "            processed_bicarb[k] = mean_bicarb\n",
    "    \n",
    "    # Store in bicarb_24h\n",
    "    bicarb_24h[i,0,:] = admission_id\n",
    "    bicarb_24h[i,1:,:] = processed_bicarb\n",
    "    \n",
    "    # Print progress\n",
    "    if (i+1) % 1000 == 0:\n",
    "        print(\"{}% complete ({}/{})\".format(round((i+1)/m*100,2), i+1, m))\n",
    "\n",
    "end = time.time()\n",
    "\n",
    "# Evaluate run time\n",
    "print(\"This took {} minutes\".format(round((end-start)/60,2)))"
   ]
  },
  {
   "cell_type": "code",
   "execution_count": null,
   "metadata": {},
   "outputs": [],
   "source": [
    "bicarb_labels = [\"subject_id\", \"hadm_id\", \"hadm_id\", \"itemid\", \"charttime\", \"valuenum\", \"valueuom\"]\n",
    "\n",
    "# Save to bicarb.npy\n",
    "if not os.path.exists('./res'):\n",
    "    os.makedirs('./res')\n",
    "\n",
    "tosave = {'bicarb_labels': bicarb_labels, 'serum_bicarb': serum_bicarb, 'bicarb_24h': bicarb_24h}\n",
    "np.save('res/bicarb.npy',tosave)\n",
    "print(\"Saved!\")"
   ]
  },
  {
   "cell_type": "code",
   "execution_count": null,
   "metadata": {},
   "outputs": [],
   "source": []
  }
 ],
 "metadata": {
  "kernelspec": {
   "display_name": "Python 3",
   "language": "python",
   "name": "python3"
  },
  "language_info": {
   "codemirror_mode": {
    "name": "ipython",
    "version": 3
   },
   "file_extension": ".py",
   "mimetype": "text/x-python",
   "name": "python",
   "nbconvert_exporter": "python",
   "pygments_lexer": "ipython3",
   "version": "3.7.3"
  }
 },
 "nbformat": 4,
 "nbformat_minor": 4
}
