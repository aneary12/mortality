{
 "cells": [
  {
   "cell_type": "code",
   "execution_count": 1,
   "metadata": {},
   "outputs": [],
   "source": [
    "# Import libraries\n",
    "import psycopg2\n",
    "import getpass\n",
    "import matplotlib.pyplot as plt\n",
    "import numpy as np\n",
    "import os.path\n",
    "from sklearn.model_selection import train_test_split"
   ]
  },
  {
   "cell_type": "code",
   "execution_count": 2,
   "metadata": {},
   "outputs": [],
   "source": [
    "# Define feature file names\n",
    "feature_files = ['admission_type', 'age', 'aids_haem_mets', 'bicarb', 'bilirubin', 'blood_pressure', 'fio2', \\\n",
    "            'gcs_eyes', 'gcs_motor', 'gcs_verbal', 'heart_rate', 'pao2', 'potassium', 'sodium', 'temperature', 'urea', 'urine', 'wbc']\n",
    "\n",
    "# Define processed feature names\n",
    "feature_names = ['admission_type', 'age', 'aids_haem_mets', 'bicarb_48h', 'bilirubin_48h', 'bp_48h', 'fio2_48h', \\\n",
    "            'gcs_eyes_48h', 'gcs_motor_48h', 'gcs_verbal_48h', 'hr_48h', 'pao2_48h', 'potassium_48h', 'sodium_48h', 'temp_48h', 'urea_48h', 'urine_48h', 'wbc_48h']"
   ]
  },
  {
   "cell_type": "code",
   "execution_count": 3,
   "metadata": {},
   "outputs": [
    {
     "name": "stdout",
     "output_type": "stream",
     "text": [
      "All files loaded!\n"
     ]
    }
   ],
   "source": [
    "# Load the data\n",
    "for i in range(len(feature_files)):\n",
    "    _data = np.load('res/{}.npy'.format(feature_files[i]), allow_pickle=True).tolist()\n",
    "    exec(\"{} = _data['{}']\".format(feature_names[i], feature_names[i]))\n",
    "print(\"All files loaded!\")"
   ]
  },
  {
   "cell_type": "code",
   "execution_count": 4,
   "metadata": {},
   "outputs": [
    {
     "name": "stdout",
     "output_type": "stream",
     "text": [
      "admission_type: \n",
      "(38549, 4)\n",
      "\n",
      "age: \n",
      "(38549, 2)\n",
      "\n",
      "aids_haem_mets: \n",
      "(38549, 4)\n",
      "\n",
      "bicarb_24h: \n",
      "(38549, 25, 1)\n",
      "\n",
      "bilirubin_24h: \n",
      "(38549, 25, 1)\n",
      "\n",
      "bp_24h: \n",
      "(38549, 25, 1)\n",
      "\n",
      "fio2_24h: \n",
      "(38549, 25, 1)\n",
      "\n",
      "gcs_eyes_24h: \n",
      "(38549, 25, 1)\n",
      "\n",
      "gcs_motor_24h: \n",
      "(38549, 25, 1)\n",
      "\n",
      "gcs_verbal_24h: \n",
      "(38549, 25, 1)\n",
      "\n",
      "hr_24h: \n",
      "(38549, 25, 1)\n",
      "\n",
      "pao2_24h: \n",
      "(38549, 25, 1)\n",
      "\n",
      "potassium_24h: \n",
      "(38549, 25, 1)\n",
      "\n",
      "sodium_24h: \n",
      "(38549, 25, 1)\n",
      "\n",
      "temp_24h: \n",
      "(38549, 25, 1)\n",
      "\n",
      "urea_24h: \n",
      "(38549, 25, 1)\n",
      "\n",
      "urine_24h: \n",
      "(38549, 25, 1)\n",
      "\n",
      "wbc_24h: \n",
      "(38549, 25, 1)\n",
      "\n"
     ]
    }
   ],
   "source": [
    "# Check shape of files\n",
    "for i in range(len(feature_files)):\n",
    "    print(\"{}: \".format(feature_names[i]))\n",
    "    exec(\"shape = np.shape({})\\nprint(shape)\".format(feature_names[i]))\n",
    "    print(\"\")"
   ]
  },
  {
   "cell_type": "code",
   "execution_count": 5,
   "metadata": {},
   "outputs": [
    {
     "name": "stdout",
     "output_type": "stream",
     "text": [
      "sched_surg_24h:  (38549, 25)\n",
      "unsched_surg_24h:  (38549, 25)\n",
      "medical_24h:  (38549, 25)\n",
      "age_24h:  (38549, 25)\n",
      "aids_24h:  (38549, 25)\n",
      "haem_24h:  (38549, 25)\n",
      "mets_24h:  (38549, 25)\n"
     ]
    }
   ],
   "source": [
    "# Broadcast static features so they have 24 time steps\n",
    "sched_surg_48h = np.column_stack((admission_type[:,0], np.tile(admission_type[:,1], (48,1)).T))\n",
    "unsched_surg_48h = np.column_stack((admission_type[:,0], np.tile(admission_type[:,2], (48,1)).T))\n",
    "medical_48h = np.column_stack((admission_type[:,0], np.tile(admission_type[:,3], (48,1)).T))\n",
    "age_48h = np.column_stack((age[:,0], np.tile(age[:,1], (48,1)).T))\n",
    "aids_48h = np.column_stack((aids_haem_mets[:,0], np.tile(aids_haem_mets[:,1], (48,1)).T))\n",
    "haem_48h = np.column_stack((aids_haem_mets[:,0], np.tile(aids_haem_mets[:,2], (48,1)).T))\n",
    "mets_48h = np.column_stack((aids_haem_mets[:,0], np.tile(aids_haem_mets[:,3], (48,1)).T))\n",
    "\n",
    "# Check the dimensions are correct\n",
    "print(\"sched_surg_48h: \", np.shape(sched_surg_48h))\n",
    "print(\"unsched_surg_48h: \", np.shape(unsched_surg_48h))\n",
    "print(\"medical_48h: \", np.shape(medical_48h))\n",
    "print(\"age_48h: \", np.shape(age_48h))\n",
    "print(\"aids_48h: \", np.shape(aids_48h))\n",
    "print(\"haem_48h: \", np.shape(haem_48h))\n",
    "print(\"mets_48h: \", np.shape(mets_48h))"
   ]
  },
  {
   "cell_type": "code",
   "execution_count": 6,
   "metadata": {},
   "outputs": [
    {
     "name": "stdout",
     "output_type": "stream",
     "text": [
      "dataset:  (38549, 22, 24)\n"
     ]
    }
   ],
   "source": [
    "48# Stack all features into one array\n",
    "dataset = np.dstack((sched_surg_48h, unsched_surg_48h, medical_48h, age_48h, aids_48h, haem_48h, mets_48h, bicarb_48h, bilirubin_48h, bp_48h, \\\n",
    "                   fio2_48h, gcs_eyes_48h, gcs_motor_48h, gcs_verbal_48h, hr_48h, pao2_48h, potassium_48h, sodium_48h, temp_48h, urea_48h, urine_48h, wbc_48h))\n",
    "\n",
    "# Remove the patient IDs\n",
    "dataset = dataset[:,1:,:]\n",
    "\n",
    "# Transpose dataset so it is in the shape (m,n,T)\n",
    "dataset = np.transpose(dataset, (0,2,1))\n",
    "\n",
    "# Check the shape of the dataset\n",
    "print(\"dataset: \", np.shape(dataset))"
   ]
  },
  {
   "cell_type": "code",
   "execution_count": 7,
   "metadata": {},
   "outputs": [
    {
     "name": "stdout",
     "output_type": "stream",
     "text": [
      "sched_surg_24h:\n",
      "Min = 0.0; Max = 1.0; Mean = 0.14; Standard Deviation = 0.35\n",
      "\n",
      "unsched_surg_24h:\n",
      "Min = 0.0; Max = 1.0; Mean = 0.28; Standard Deviation = 0.45\n",
      "\n",
      "medical_24h:\n",
      "Min = 0.0; Max = 1.0; Mean = 0.72; Standard Deviation = 0.45\n",
      "\n",
      "age_24h:\n",
      "Min = 18.0; Max = 300.0; Mean = 74.63; Standard Deviation = 55.08\n",
      "\n",
      "aids_24h:\n",
      "Min = 0.0; Max = 1.0; Mean = 0.01; Standard Deviation = 0.09\n",
      "\n",
      "haem_24h:\n",
      "Min = 0.0; Max = 1.0; Mean = 0.03; Standard Deviation = 0.16\n",
      "\n",
      "mets_24h:\n",
      "Min = 0.0; Max = 1.0; Mean = 0.06; Standard Deviation = 0.24\n",
      "\n",
      "bicarb_24h:\n",
      "Min = 0.0; Max = 53.0; Mean = 23.8; Standard Deviation = 5.33\n",
      "\n",
      "bilirubin_24h:\n",
      "Min = 0.0; Max = 82.8; Mean = 0.85; Standard Deviation = 2.65\n",
      "\n",
      "bp_24h:\n",
      "Min = 0.0; Max = 119119.02; Mean = 117.43; Standard Deviation = 146.63\n",
      "\n",
      "fio2_24h:\n",
      "Min = 0.0; Max = 100.0; Mean = 24.25; Standard Deviation = 35.38\n",
      "\n",
      "gcs_eyes_24h:\n",
      "Min = 0.0; Max = 4.0; Mean = 3.05; Standard Deviation = 1.29\n",
      "\n",
      "gcs_motor_24h:\n",
      "Min = 0.0; Max = 6.0; Mean = 4.88; Standard Deviation = 1.95\n",
      "\n",
      "gcs_verbal_24h:\n",
      "Min = 0.0; Max = 5.0; Mean = 3.27; Standard Deviation = 1.94\n",
      "\n",
      "hr_24h:\n",
      "Min = 0.0; Max = 941.0; Mean = 83.15; Standard Deviation = 23.06\n",
      "\n",
      "pao2_24h:\n",
      "Min = 0.0; Max = 1914.0; Mean = 122.68; Standard Deviation = 128.34\n",
      "\n",
      "potassium_24h:\n",
      "Min = 0.0; Max = 271.95; Mean = 4.06; Standard Deviation = 0.82\n",
      "\n",
      "sodium_24h:\n",
      "Min = 0.0; Max = 182.0; Mean = 136.54; Standard Deviation = 18.5\n",
      "\n",
      "temp_24h:\n",
      "Min = -17.78; Max = 599.44; Mean = 35.62; Standard Deviation = 6.86\n",
      "\n",
      "urea_24h:\n",
      "Min = 0.0; Max = 272.0; Mean = 23.13; Standard Deviation = 19.12\n",
      "\n",
      "urine_24h:\n",
      "Min = -6000.0; Max = 555975.0; Mean = 58.79; Standard Deviation = 595.66\n",
      "\n",
      "wbc_24h:\n",
      "Min = 0.0; Max = 572.5; Mean = 11.28; Standard Deviation = 9.24\n",
      "\n"
     ]
    }
   ],
   "source": [
    "# Check the data to make sure there's nothing too crazy going on\n",
    "feat_names = [\"sched_surg_48h\", \"unsched_surg_48h\", \"medical_48h\", \"age_48h\", \"aids_48h\", \"haem_48h\", \"mets_48h\", \"bicarb_48h\", \"bilirubin_48h\", \"bp_48h\", \\\n",
    "            \"fio2_48h\", \"gcs_eyes_48h\", \"gcs_motor_48h\", \"gcs_verbal_48h\", \"hr_48h\", \"pao2_48h\", \"potassium_48h\", \"sodium_48h\", \"temp_48h\", \"urea_48h\", \"urine_48h\", \"wbc_48h\"]\n",
    "\n",
    "n = len(feat_names)\n",
    "for i in range(n):\n",
    "    feature = dataset[:,i,:]\n",
    "    print(\"{}:\".format(feat_names[i]))\n",
    "    print(\"Min = {}; Max = {}; Mean = {}; Standard Deviation = {}\".format(round(np.min(feature),2), round(np.max(feature),2), round(np.mean(feature),2), round(np.std(feature),2)))\n",
    "    print(\"\")"
   ]
  },
  {
   "cell_type": "code",
   "execution_count": 8,
   "metadata": {},
   "outputs": [],
   "source": [
    "# As seen above, some features have values below zero and need to be clipped\n",
    "clipped_dataset = np.clip(dataset, 0, a_max=None)"
   ]
  },
  {
   "cell_type": "code",
   "execution_count": 9,
   "metadata": {},
   "outputs": [
    {
     "name": "stdout",
     "output_type": "stream",
     "text": [
      "mortality:  (38549,)\n"
     ]
    }
   ],
   "source": [
    "# Load the mortality data\n",
    "_data = np.load('res/mortality.npy', allow_pickle=True).tolist()\n",
    "mortality = _data['mortality']\n",
    "\n",
    "# Remove the patient IDs\n",
    "mortality = mortality[:,1]\n",
    "\n",
    "# Check the shape of the mortality\n",
    "print(\"mortality: \", np.shape(mortality))"
   ]
  },
  {
   "cell_type": "code",
   "execution_count": 10,
   "metadata": {},
   "outputs": [
    {
     "name": "stdout",
     "output_type": "stream",
     "text": [
      "X_train: (30839, 22, 24)\n",
      "y_train: (30839,)\n",
      "X_val: (3855, 22, 24)\n",
      "y_val: (3855,)\n",
      "X_test: (3855, 22, 24)\n",
      "y_test: (3855,)\n"
     ]
    }
   ],
   "source": [
    "# Split the data into training and test sets\n",
    "X_train, X_test, y_train, y_test = train_test_split(clipped_dataset, mortality, train_size=0.8, random_state=42)\n",
    "\n",
    "# Split the test data into validation and test sets\n",
    "X_val, X_test, y_val, y_test = train_test_split(X_test, y_test, train_size=0.5, random_state=42)\n",
    "\n",
    "# Check the shapes of the outputs\n",
    "print(\"X_train: {}\".format(np.shape(X_train)))\n",
    "print(\"y_train: {}\".format(np.shape(y_train)))\n",
    "print(\"X_val: {}\".format(np.shape(X_val)))\n",
    "print(\"y_val: {}\".format(np.shape(y_val)))\n",
    "print(\"X_test: {}\".format(np.shape(X_test)))\n",
    "print(\"y_test: {}\".format(np.shape(y_test)))"
   ]
  },
  {
   "cell_type": "code",
   "execution_count": 11,
   "metadata": {},
   "outputs": [
    {
     "name": "stdout",
     "output_type": "stream",
     "text": [
      "No. of patients: 38549\n",
      "No. of patients in train, val, test sets: 30839, 3855, 3855\n",
      "No. of patients who died in hospital in train, val, test sets: 3458.0, 417.0, 445.0\n",
      "Proportion of patients who died in hospital in train, val, test sets: 11.213%, 10.817%, 11.543%\n"
     ]
    }
   ],
   "source": [
    "# Print information about the created arrays\n",
    "print(\"No. of patients: {}\".format(len(dataset)))\n",
    "print(\"No. of patients in train, val, test sets: {}, {}, {}\".format(len(X_train), len(X_val), len(X_test)))\n",
    "print(\"No. of patients who died in hospital in train, val, test sets: {}, {}, {}\".format(str(sum(y_train)), str(sum(y_val)), str(sum(y_test))))\n",
    "print(\"Proportion of patients who died in hospital in train, val, test sets: {}%, {}%, {}%\".format(round(sum(y_train)/len(y_train)*100,3), round(sum(y_val)/len(y_val)*100,3), round(sum(y_test)/len(y_test)*100,3)))"
   ]
  },
  {
   "cell_type": "code",
   "execution_count": 12,
   "metadata": {},
   "outputs": [],
   "source": [
    "# Write a function to normalises the data using the MinMaxScaler, treating each feature separately\n",
    "def MinMaxScaler_3D(array, minimum=None, maximum=None):\n",
    "    \n",
    "    '''\n",
    "    INPUTS:\n",
    "    array - a 3D array of shape (m, n, T), where m = number of examples, n = number of features, and T = number of time steps.\n",
    "    minimum (optional) - the minimum you want to apply for the scaling. If not specified, the minimum will be calculated from the array.\n",
    "    maximum (optional) - the maximum you want to apply for the scaling. If not specified, the maximum will be calculated from the array.\n",
    "    -> note that minimum and maximum, if specified, need to be n-length vectors, where each entry represents the min/max for each feature in the array.\n",
    "    \n",
    "    OUTPUTS:\n",
    "    scaled_array - a 3D array where each entry in array has been scaled using the equation y = (x - min) / (max - min), and the min/max has been calculated individually for each feature.\n",
    "    min_vector (optional) - an n-length vector where each entry is the minimum for each feature. Only returned if minimum is not specified.\n",
    "    max_vector (optional) - an n-length vector where each entry is the maximum for each feature. Only returned if maximum is not specified.\n",
    "    '''\n",
    "    \n",
    "    # First, get the dimensions of the input array\n",
    "    m, n, T = np.shape(array)\n",
    "    \n",
    "    # Calculate the mininimum of each feature\n",
    "    if minimum == None:\n",
    "        min_vector = []\n",
    "        for i in range(n):\n",
    "            min_vector.append(np.min(array[:,i,:]))\n",
    "        no_minmax = True # used for deciding whether to output the min_vector at the end\n",
    "    else:\n",
    "        min_vector = minimum\n",
    "        no_minmax = False\n",
    "    \n",
    "    # Calculate the maximum of each feature\n",
    "    if maximum == None:\n",
    "        max_vector = []\n",
    "        for i in range(n):\n",
    "            max_vector.append(np.max(array[:,i,:]))\n",
    "    else:\n",
    "        max_vector = maximum\n",
    "        \n",
    "    # Scale each feature using the formula: y = (x - min) / (max - min)\n",
    "    scaled_array = np.zeros((m,n,T))\n",
    "    for i in range(n):\n",
    "        scaled_array[:,i,:] = (array[:,i,:] - min_vector[i]) / (max_vector[i] - min_vector[i])\n",
    "    \n",
    "    # Return the outputs\n",
    "    if no_minmax == True:\n",
    "        return scaled_array, min_vector, max_vector\n",
    "    else:\n",
    "        return scaled_array"
   ]
  },
  {
   "cell_type": "code",
   "execution_count": 13,
   "metadata": {},
   "outputs": [],
   "source": [
    "# Write a function to normalises the data using the z-score, treating each feature separately\n",
    "def ZScoreScaler_3D(array, mean=None, std=None):\n",
    "    \n",
    "    '''\n",
    "    INPUTS:\n",
    "    array - a 3D array of shape (m, n, T), where m = number of examples, n = number of features, and T = number of time steps.\n",
    "    mean (optional) - the mean you want to apply for the scaling. If not specified, the mean will be calculated from the array.\n",
    "    std (optional) - the standard deviation you want to apply for the scaling. If not specified, the standard deviation will be calculated from the array.\n",
    "    -> note that minimum and maximum, if specified, need to be n-length vectors, where each entry represents the min/max for each feature in the array.\n",
    "    \n",
    "    OUTPUTS:\n",
    "    scaled_array - a 3D array where each entry in array has been scaled using the equation y = (x - mean) / std, and the mean/standard deviation has been calculated individually for each feature.\n",
    "    mean_vector (optional) - an n-length vector where each entry is the mean for each feature. Only returned if mean is not specified.\n",
    "    std_vector (optional) - an n-length vector where each entry is the standard deviation for each feature. Only returned if std is not specified.\n",
    "    '''\n",
    "    \n",
    "    # First, get the dimensions of the input array\n",
    "    m, n, T = np.shape(array)\n",
    "    \n",
    "    # Calculate the mean of each feature\n",
    "    if mean == None:\n",
    "        mean_vector = []\n",
    "        for i in range(n):\n",
    "            mean_vector.append(np.mean(array[:,i,:]))\n",
    "        no_mean_std = True # used for deciding whether to output the min_vector at the end\n",
    "    else:\n",
    "        mean_vector = mean\n",
    "        no_mean_std = False\n",
    "    \n",
    "    # Calculate the standard deviation of each feature\n",
    "    if std == None:\n",
    "        std_vector = []\n",
    "        for i in range(n):\n",
    "            std_vector.append(np.std(array[:,i,:]))\n",
    "    else:\n",
    "        std_vector = std\n",
    "        \n",
    "    # Scale each feature using the formula: y = (x - mean) / std\n",
    "    scaled_array = np.zeros((m,n,T))\n",
    "    for i in range(n):\n",
    "        scaled_array[:,i,:] = (array[:,i,:] - mean_vector[i]) / std_vector[i]\n",
    "    \n",
    "    # Return the outputs\n",
    "    if no_mean_std == True:\n",
    "        return scaled_array, mean_vector, std_vector\n",
    "    else:\n",
    "        return scaled_array"
   ]
  },
  {
   "cell_type": "code",
   "execution_count": 14,
   "metadata": {},
   "outputs": [],
   "source": [
    "# Scale the training data, and save the scaler\n",
    "X_train_norm, mean_vector, std_vector = ZScoreScaler_3D(X_train)\n",
    "\n",
    "# Use the same scaler to scale the validation and test data\n",
    "X_val_norm = ZScoreScaler_3D(X_val, mean_vector, std_vector)\n",
    "X_test_norm = ZScoreScaler_3D(X_test, mean_vector, std_vector)"
   ]
  },
  {
   "cell_type": "code",
   "execution_count": 15,
   "metadata": {},
   "outputs": [
    {
     "name": "stdout",
     "output_type": "stream",
     "text": [
      "X_train_norm:\n",
      "Shape: (30839, 22, 24), minimum = -7.34, maximum = 839.3\n",
      "\n",
      "X_val_norm:\n",
      "Shape: (3855, 22, 24), minimum = -7.34, maximum = 72.28\n",
      "\n",
      "X_test_norm:\n",
      "Shape: (3855, 22, 24), minimum = -7.34, maximum = 51.15\n",
      "\n"
     ]
    }
   ],
   "source": [
    "# Return the shapes, minimums and maximums of the scaled arrays just to make sure everything has worked OK\n",
    "print(\"X_train_norm:\")\n",
    "print(\"Shape: {}, minimum = {}, maximum = {}\".format(np.shape(X_train_norm), round(np.min(X_train_norm),2), round(np.max(X_train_norm),2)))\n",
    "print(\"\")\n",
    "print(\"X_val_norm:\")\n",
    "print(\"Shape: {}, minimum = {}, maximum = {}\".format(np.shape(X_val_norm), round(np.min(X_val_norm),2), round(np.max(X_val_norm),2)))\n",
    "print(\"\")\n",
    "print(\"X_test_norm:\")\n",
    "print(\"Shape: {}, minimum = {}, maximum = {}\".format(np.shape(X_test_norm), round(np.min(X_test_norm),2), round(np.max(X_test_norm),2)))\n",
    "print(\"\")"
   ]
  },
  {
   "cell_type": "code",
   "execution_count": null,
   "metadata": {},
   "outputs": [],
   "source": [
    "# Create a separate day 1 dataset\n",
    "D1_X_train_norm = X_train_norm[:,:,:24]\n",
    "D1_X_val_norm = X_val_norm[:,:,:24]\n",
    "D1_X_test_norm = X_test_norm[:,:,:24]\n",
    "\n",
    "# Create a separate day 2 dataset\n",
    "D2_X_train_norm = X_train_norm[:,:,24:]\n",
    "D2_X_val_norm = X_val_norm[:,:,24:]\n",
    "D2_X_test_norm = X_test_norm[:,:,24:]"
   ]
  },
  {
   "cell_type": "code",
   "execution_count": 16,
   "metadata": {},
   "outputs": [
    {
     "name": "stdout",
     "output_type": "stream",
     "text": [
      "Saved!\n"
     ]
    }
   ],
   "source": [
    "# Save to data.npy\n",
    "if not os.path.exists('./res'):\n",
    "    os.makedirs('./res')\n",
    "\n",
    "tosave = {'X_train': X_train, 'X_val': X_val, 'X_test': X_test, \\\n",
    "          'X_train_norm': X_train_norm, 'X_val_norm': X_val_norm, 'X_test_norm': X_test_norm, \\\n",
    "          'D1_X_train_norm': D1_X_train_norm, 'D1_X_val_norm': D1_X_val_norm, 'D1_X_test_norm': D1_X_test_norm, \\\n",
    "          'D2_X_train_norm': D2_X_train_norm, 'D2_X_val_norm': D2_X_val_norm, 'D2_X_test_norm': D2_X_test_norm, \\\n",
    "          'y_train': y_train, 'y_val': y_val, 'y_test': y_test}\n",
    "np.save('res/data.npy',tosave)\n",
    "print(\"Saved!\")"
   ]
  },
  {
   "cell_type": "code",
   "execution_count": 17,
   "metadata": {},
   "outputs": [],
   "source": [
    "# Extract data for some individual\n",
    "id = 0\n",
    "time = np.arange(48)\n",
    "patient_data = X_train[id,:,:]\n",
    "hr = patient_data[14,:]\n",
    "bp = patient_data[9,:]\n",
    "temp = patient_data[18,:]"
   ]
  },
  {
   "cell_type": "code",
   "execution_count": 23,
   "metadata": {},
   "outputs": [
    {
     "data": {
      "image/png": "[encoded data removed]",
      "text/plain": [
       "<Figure size 576x360 with 1 Axes>"
      ]
     },
     "metadata": {
      "needs_background": "light"
     },
     "output_type": "display_data"
    }
   ],
   "source": [
    "# Plot the processed HR data for hospital admission ID 145834\n",
    "plt.figure(figsize=(8,5))\n",
    "plt.plot(time+1, bp, marker=\"o\", label = 'Systolic Blood Pressure')\n",
    "plt.plot(time+1, hr, marker=\"o\", label = 'Heart Rate')\n",
    "plt.plot(time+1, temp, marker=\"o\", label = 'Temperature')\n",
    "plt.xlabel('Time (Hours Since Admission)')\n",
    "plt.xticks(np.arange(0, 48.1, step=4))\n",
    "plt.ylabel('Measurement Value')\n",
    "plt.title('Data for an Individual Patient')\n",
    "plt.legend()\n",
    "plt.savefig('patient.png', bbox_inches='tight')\n",
    "plt.show()"
   ]
  },
  {
   "cell_type": "code",
   "execution_count": null,
   "metadata": {},
   "outputs": [],
   "source": []
  }
 ],
 "metadata": {
  "kernelspec": {
   "display_name": "Python 3",
   "language": "python",
   "name": "python3"
  },
  "language_info": {
   "codemirror_mode": {
    "name": "ipython",
    "version": 3
   },
   "file_extension": ".py",
   "mimetype": "text/x-python",
   "name": "python",
   "nbconvert_exporter": "python",
   "pygments_lexer": "ipython3",
   "version": "3.7.3"
  }
 },
 "nbformat": 4,
 "nbformat_minor": 4
}
