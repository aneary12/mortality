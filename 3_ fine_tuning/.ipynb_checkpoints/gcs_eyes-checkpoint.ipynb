{
 "cells": [
  {
   "cell_type": "code",
   "execution_count": 1,
   "metadata": {},
   "outputs": [],
   "source": [
    "# Import libraries\n",
    "import psycopg2\n",
    "import getpass\n",
    "import matplotlib.pyplot as plt\n",
    "import numpy as np\n",
    "import os.path\n",
    "import time"
   ]
  },
  {
   "cell_type": "code",
   "execution_count": 2,
   "metadata": {},
   "outputs": [
    {
     "name": "stdout",
     "output_type": "stream",
     "text": [
      "Loaded!\n"
     ]
    }
   ],
   "source": [
    "# load the data\n",
    "_data = np.load('res/admission.npy', allow_pickle=True).tolist()\n",
    "adm_labels = _data['adm_labels']\n",
    "all_adm = _data['all_adm']\n",
    "first_adm = _data['first_adm']\n",
    "adult_first_adm = _data['adult_first_adm']\n",
    "print(\"Loaded!\")"
   ]
  },
  {
   "cell_type": "code",
   "execution_count": 3,
   "metadata": {},
   "outputs": [],
   "source": [
    "# Create a database connection\n",
    "user = 'postgres'\n",
    "host = 'localhost'\n",
    "port = '5433'\n",
    "dbname = 'mimic'\n",
    "schema = 'mimiciii'"
   ]
  },
  {
   "cell_type": "code",
   "execution_count": 4,
   "metadata": {},
   "outputs": [
    {
     "name": "stdin",
     "output_type": "stream",
     "text": [
      "Password: ··········\n"
     ]
    },
    {
     "name": "stdout",
     "output_type": "stream",
     "text": [
      "Connected!\n"
     ]
    }
   ],
   "source": [
    "# Connect to the database\n",
    "con = psycopg2.connect(dbname=dbname, user=user, host=host, port=port, \n",
    "                       password=getpass.getpass(prompt='Password:'.format(user)))\n",
    "cur = con.cursor()\n",
    "cur.execute('SET search_path TO {}'.format(schema))\n",
    "con.commit()\n",
    "print(\"Connected!\")"
   ]
  },
  {
   "cell_type": "code",
   "execution_count": 5,
   "metadata": {},
   "outputs": [
    {
     "name": "stdout",
     "output_type": "stream",
     "text": [
      "This query took 15.83 seconds\n"
     ]
    }
   ],
   "source": [
    "start = time.time()\n",
    "\n",
    "# Select GCS (eyes) measurements\n",
    "query = \\\n",
    "\"\"\"\n",
    "SELECT subject_id, hadm_id, icustay_id, itemid, charttime, valuenum, valueuom\n",
    "FROM chartevents\n",
    "WHERE itemid = 184 OR itemid = 220739\n",
    "\"\"\"\n",
    "\n",
    "# Execute the query and fetch the result\n",
    "cur.execute(query)\n",
    "con.commit()\n",
    "data = cur.fetchall()\n",
    "\n",
    "# Store the result of the query as a numpy array\n",
    "gcs_eyes = np.array(data)\n",
    "\n",
    "end = time.time()\n",
    "\n",
    "# Print run time\n",
    "print(\"This query took {} seconds\".format(round((end-start),2)))"
   ]
  },
  {
   "cell_type": "code",
   "execution_count": 6,
   "metadata": {},
   "outputs": [
    {
     "name": "stdout",
     "output_type": "stream",
     "text": [
      "Units:\n",
      "[[None]]\n"
     ]
    }
   ],
   "source": [
    "# Select the different units\n",
    "query = \\\n",
    "\"\"\"\n",
    "SELECT DISTINCT(valueuom)\n",
    "FROM chartevents\n",
    "WHERE itemid = 184 OR itemid = 220739\n",
    "\"\"\"\n",
    "\n",
    "# Execute the query and fetch the result\n",
    "cur.execute(query)\n",
    "con.commit()\n",
    "data = cur.fetchall()\n",
    "\n",
    "# Store the result of the query as a numpy array\n",
    "units = np.array(data)\n",
    "\n",
    "# Display the units\n",
    "print(\"Units:\")\n",
    "print(units)"
   ]
  },
  {
   "cell_type": "code",
   "execution_count": 7,
   "metadata": {},
   "outputs": [
    {
     "name": "stdout",
     "output_type": "stream",
     "text": [
      "No. of GCS eye measurements: 1521602\n",
      "No. of 'None' values: 529 (0.0003%)\n"
     ]
    }
   ],
   "source": [
    "# Check how many GCS (eyes) measurements are in the data set\n",
    "print(\"No. of GCS eye measurements: {}\".format(np.shape(gcs_eyes)[0]))\n",
    "print(\"No. of 'None' values: {} ({}%)\".format(sum(x is None for x in gcs_eyes[:,5]), round(sum(x is None for x in gcs_eyes[:,5])/np.shape(gcs_eyes)[0],4)))"
   ]
  },
  {
   "cell_type": "code",
   "execution_count": 8,
   "metadata": {},
   "outputs": [
    {
     "name": "stdout",
     "output_type": "stream",
     "text": [
      "Shape of gcs_eyes before removing None values: (1521602, 7)\n",
      "Shape of gcs_eyes after removing None values: (1521073, 7)\n"
     ]
    }
   ],
   "source": [
    "print(\"Shape of gcs_eyes before removing None values: {}\".format(np.shape(gcs_eyes)))\n",
    "\n",
    "# Remove None values\n",
    "gcs_eyes = gcs_eyes[~np.isnan(gcs_eyes[:,5].astype(float))]\n",
    "\n",
    "print(\"Shape of gcs_eyes after removing None values: {}\".format(np.shape(gcs_eyes)))"
   ]
  },
  {
   "cell_type": "code",
   "execution_count": 9,
   "metadata": {},
   "outputs": [],
   "source": [
    "# Select data for hospital admission ID 145834 only\n",
    "eyes = gcs_eyes[gcs_eyes[:,1]==145834]"
   ]
  },
  {
   "cell_type": "code",
   "execution_count": 10,
   "metadata": {},
   "outputs": [],
   "source": [
    "# Sort measurements by time\n",
    "eyes = eyes[eyes[:,4].argsort()]\n",
    "eyes[:,4] = eyes[:,4] - adult_first_adm[:,-1][adult_first_adm[:,1]==145834] # convert raw times to time since admission\n",
    "for i in range(len(eyes[:,4])):\n",
    "    eyes[:,4][i] = eyes[:,4][i].total_seconds()/(60*60)"
   ]
  },
  {
   "cell_type": "code",
   "execution_count": 11,
   "metadata": {},
   "outputs": [
    {
     "data": {
      "image/png": "[encoded data removed]",
      "text/plain": [
       "<Figure size 432x288 with 1 Axes>"
      ]
     },
     "metadata": {
      "needs_background": "light"
     },
     "output_type": "display_data"
    }
   ],
   "source": [
    "# Plot GCS (eyes) data for hospital admission ID 145834\n",
    "hrs = 48 # select how many hours post admission to display\n",
    "plt.plot(eyes[:,4][eyes[:,4]<=hrs], eyes[:,5][eyes[:,4]<=hrs], marker=\"o\")\n",
    "plt.xlabel('Time (hours after admission)')\n",
    "plt.ylabel('GCS (eyes only)')\n",
    "plt.title('GCS (Eyes Only) for Hospital Admission ID 145834')\n",
    "plt.show()"
   ]
  },
  {
   "cell_type": "code",
   "execution_count": 12,
   "metadata": {},
   "outputs": [
    {
     "name": "stdout",
     "output_type": "stream",
     "text": [
      "No. of measurements in first 48 hours: 10\n",
      "Total no. of measurements: 29\n"
     ]
    }
   ],
   "source": [
    "print(\"No. of measurements in first {} hours: {}\".format(hrs,len(eyes[:,4][eyes[:,4]<=hrs])))\n",
    "print(\"Total no. of measurements: {}\".format(len(eyes[:,4])))"
   ]
  },
  {
   "cell_type": "code",
   "execution_count": 15,
   "metadata": {},
   "outputs": [],
   "source": [
    "# Get mean GCS (eyes) for each hour\n",
    "processed_eyes = np.zeros((hrs,2))\n",
    "for i in range(hrs):\n",
    "    eyes_values = eyes[:,5][np.logical_and(eyes[:,4]>=i, eyes[:,4]<(i+1))]\n",
    "    x = 1\n",
    "    while len(eyes_values) == 0:\n",
    "        eyes_values = eyes[:,5][np.logical_and(eyes[:,4]>=(i-x), eyes[:,4]<(i+1+x))]\n",
    "        x+=1\n",
    "    mean_eyes = np.mean(eyes_values)\n",
    "    processed_eyes[i,0] = i+1\n",
    "    processed_eyes[i,1] = mean_eyes"
   ]
  },
  {
   "cell_type": "code",
   "execution_count": 16,
   "metadata": {},
   "outputs": [
    {
     "data": {
      "image/png": "[encoded data removed]",
      "text/plain": [
       "<Figure size 432x288 with 1 Axes>"
      ]
     },
     "metadata": {
      "needs_background": "light"
     },
     "output_type": "display_data"
    }
   ],
   "source": [
    "# Plot the processed GCS (eyes) data for hospital admission ID 145834\n",
    "plt.plot(processed_eyes[:,0], processed_eyes[:,1], marker=\"o\")\n",
    "plt.xlabel('Time (hours after admission)')\n",
    "plt.ylabel('GCS (eyes only)')\n",
    "plt.title('GCS (Eyes Only) for Hospital Admission ID 145834')\n",
    "plt.show()"
   ]
  },
  {
   "cell_type": "code",
   "execution_count": null,
   "metadata": {},
   "outputs": [],
   "source": [
    "# Initialise a 3D numpy array for 24 hour measurements\n",
    "hrs = 48\n",
    "m = len(adult_first_adm) # number of patients\n",
    "gcs_eyes_48h = np.zeros((m, hrs+1, 1))"
   ]
  },
  {
   "cell_type": "code",
   "execution_count": null,
   "metadata": {},
   "outputs": [],
   "source": [
    "# Create processed 24 hour GCS (eyes) time series for every patient\n",
    "start = time.time()\n",
    "\n",
    "for i in range(m):\n",
    "    \n",
    "    # Define hospital admission ID number\n",
    "    admission_id = adult_first_adm[i,1]\n",
    "    \n",
    "    # Select data for hospital admission ID\n",
    "    eyes = gcs_eyes[gcs_eyes[:,1]==admission_id]\n",
    "    \n",
    "    # Account for patients with no GCS (eyes) measurements\n",
    "    if len(eyes) == 0:\n",
    "        processed_eyes = np.zeros((hrs,1))\n",
    "        \n",
    "    else:\n",
    "    \n",
    "        # Sort measurements by time\n",
    "        admit_time = adult_first_adm[i,-1]\n",
    "        eyes = eyes[eyes[:,4].argsort()]\n",
    "        eyes[:,4] = eyes[:,4] - admit_time # convert raw times to time since admission\n",
    "        for j in range(len(eyes[:,4])):\n",
    "            eyes[:,4][j] = eyes[:,4][j].total_seconds()/(60*60)\n",
    "    \n",
    "        # Get mean GCS (eyes) for each hour\n",
    "        processed_eyes = np.zeros((hrs,1))\n",
    "        for k in range(hrs):\n",
    "            eyes_values = eyes[:,5][np.logical_and(eyes[:,4]>=k, eyes[:,4]<(k+1))]\n",
    "            x = 1\n",
    "            while len(eyes_values) == 0:\n",
    "                eyes_values = eyes[:,5][np.logical_and(eyes[:,4]>=(k-x), eyes[:,4]<(k+1+x))]\n",
    "                x+=1\n",
    "            mean_eyes = np.mean(eyes_values)\n",
    "            processed_eyes[k] = mean_eyes\n",
    "    \n",
    "    # Store in gcs_eyes_24h\n",
    "    gcs_eyes_48h[i,0,:] = admission_id\n",
    "    gcs_eyes_48h[i,1:,:] = processed_eyes\n",
    "    \n",
    "    # Print progress\n",
    "    if (i+1) % 1000 == 0:\n",
    "        print(\"{}% complete ({}/{})\".format(round((i+1)/m*100,2), i+1, m))\n",
    "\n",
    "end = time.time()\n",
    "\n",
    "# Evaluate run time\n",
    "print(\"\")\n",
    "print(\"Finished! This took {} minutes\".format(round((end-start)/60,2)))"
   ]
  },
  {
   "cell_type": "code",
   "execution_count": 18,
   "metadata": {},
   "outputs": [
    {
     "name": "stdout",
     "output_type": "stream",
     "text": [
      "Saved!\n"
     ]
    }
   ],
   "source": [
    "gcs_eyes_labels = [\"subject_id\", \"hadm_id\", \"icustay_id\", \"itemid\", \"charttime\", \"valuenum\", \"valueuom\"]\n",
    "\n",
    "# Save to gcs_eyes.npy\n",
    "if not os.path.exists('./res'):\n",
    "    os.makedirs('./res')\n",
    "\n",
    "tosave = {'gcs_eyes_labels': gcs_eyes_labels, 'gcs_eyes': gcs_eyes, 'gcs_eyes_48h': gcs_eyes_48h}\n",
    "np.save('res/gcs_eyes.npy',tosave)\n",
    "print(\"Saved!\")"
   ]
  },
  {
   "cell_type": "code",
   "execution_count": null,
   "metadata": {},
   "outputs": [],
   "source": []
  }
 ],
 "metadata": {
  "kernelspec": {
   "display_name": "Python 3",
   "language": "python",
   "name": "python3"
  },
  "language_info": {
   "codemirror_mode": {
    "name": "ipython",
    "version": 3
   },
   "file_extension": ".py",
   "mimetype": "text/x-python",
   "name": "python",
   "nbconvert_exporter": "python",
   "pygments_lexer": "ipython3",
   "version": "3.7.3"
  }
 },
 "nbformat": 4,
 "nbformat_minor": 4
}
