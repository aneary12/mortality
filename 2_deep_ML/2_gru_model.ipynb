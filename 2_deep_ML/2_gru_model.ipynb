{
 "cells": [
  {
   "cell_type": "code",
   "execution_count": 2,
   "metadata": {},
   "outputs": [
    {
     "name": "stderr",
     "output_type": "stream",
     "text": [
      "Using TensorFlow backend.\n"
     ]
    }
   ],
   "source": [
    "import numpy as np\n",
    "import tensorflow as tf\n",
    "\n",
    "from sklearn import preprocessing\n",
    "from keras.models import Sequential\n",
    "from keras.layers import GRU, Flatten, Dropout, Dense, BatchNormalization, Activation\n",
    "from keras.callbacks import EarlyStopping\n",
    "from keras import optimizers\n",
    "from keras import metrics\n",
    "\n",
    "import itertools\n",
    "import matplotlib.pyplot as plt\n",
    "from sklearn.metrics import confusion_matrix, classification_report"
   ]
  },
  {
   "cell_type": "code",
   "execution_count": 3,
   "metadata": {},
   "outputs": [
    {
     "name": "stdout",
     "output_type": "stream",
     "text": [
      "WARNING:tensorflow:From C:\\Users\\anear\\Anaconda3\\lib\\site-packages\\keras\\backend\\tensorflow_backend.py:3172: add_dispatch_support.<locals>.wrapper (from tensorflow.python.ops.array_ops) is deprecated and will be removed in a future version.\n",
      "Instructions for updating:\n",
      "Use tf.where in 2.0, which has the same broadcast rule as np.where\n",
      "Model: \"sequential_1\"\n",
      "_________________________________________________________________\n",
      "Layer (type)                 Output Shape              Param #   \n",
      "=================================================================\n",
      "gru_1 (GRU)                  (None, 24, 30)            4770      \n",
      "_________________________________________________________________\n",
      "flatten_1 (Flatten)          (None, 720)               0         \n",
      "_________________________________________________________________\n",
      "dropout_1 (Dropout)          (None, 720)               0         \n",
      "_________________________________________________________________\n",
      "dense_1 (Dense)              (None, 40)                28840     \n",
      "_________________________________________________________________\n",
      "dropout_2 (Dropout)          (None, 40)                0         \n",
      "_________________________________________________________________\n",
      "dense_2 (Dense)              (None, 1)                 41        \n",
      "_________________________________________________________________\n",
      "batch_normalization_1 (Batch (None, 1)                 4         \n",
      "_________________________________________________________________\n",
      "activation_1 (Activation)    (None, 1)                 0         \n",
      "=================================================================\n",
      "Total params: 33,655\n",
      "Trainable params: 33,653\n",
      "Non-trainable params: 2\n",
      "_________________________________________________________________\n",
      "None\n"
     ]
    }
   ],
   "source": [
    "# Define model architecture\n",
    "model = Sequential()\n",
    "model.add(GRU(30, return_sequences=True, input_shape=(24,22)))\n",
    "model.add(Flatten())\n",
    "model.add(Dropout(0.1))\n",
    "model.add(Dense(40, activation = \"sigmoid\"))\n",
    "model.add(Dropout(0.1))\n",
    "model.add(Dense(1, activation = \"sigmoid\"))\n",
    "model.add(BatchNormalization())\n",
    "model.add((Activation('sigmoid')))\n",
    "\n",
    "# Compile model\n",
    "model.compile(loss='binary_crossentropy', optimizer=optimizers.Adam(learning_rate=0.001), metrics=[metrics.AUC()])\n",
    "\n",
    "# Print model summary\n",
    "print(model.summary())"
   ]
  },
  {
   "cell_type": "code",
   "execution_count": 4,
   "metadata": {},
   "outputs": [
    {
     "name": "stdout",
     "output_type": "stream",
     "text": [
      "Loaded!\n"
     ]
    }
   ],
   "source": [
    "# Load the data\n",
    "_data = np.load('res/data.npy', allow_pickle=True).tolist()\n",
    "X_train = _data['X_train_norm']\n",
    "y_train = _data['y_train']\n",
    "X_val = _data['X_val_norm']\n",
    "y_val = _data['y_val']\n",
    "X_test = _data['X_test_norm']\n",
    "y_test = _data['y_test']\n",
    "print(\"Loaded!\")"
   ]
  },
  {
   "cell_type": "code",
   "execution_count": 5,
   "metadata": {},
   "outputs": [
    {
     "name": "stdout",
     "output_type": "stream",
     "text": [
      "No. of patients: 38549\n",
      "No. of patients in train, val, test sets: 30839, 3855, 3855\n",
      "No. of patients who died in hospital in train, val, test sets: 3458.0, 417.0, 445.0\n",
      "Proportion of patients who died in hospital in train, val, test sets: 11.213%, 10.817%, 11.543%\n"
     ]
    }
   ],
   "source": [
    "# Print information about the created arrays\n",
    "print(\"No. of patients: {}\".format(len(y_train)+len(y_val)+len(y_test)))\n",
    "print(\"No. of patients in train, val, test sets: {}, {}, {}\".format(len(X_train), len(X_val), len(X_test)))\n",
    "print(\"No. of patients who died in hospital in train, val, test sets: {}, {}, {}\".format(str(sum(y_train)), str(sum(y_val)), str(sum(y_test))))\n",
    "print(\"Proportion of patients who died in hospital in train, val, test sets: {}%, {}%, {}%\".format(round(sum(y_train)/len(y_train)*100,3), round(sum(y_val)/len(y_val)*100,3), round(sum(y_test)/len(y_test)*100,3)))"
   ]
  },
  {
   "cell_type": "code",
   "execution_count": 6,
   "metadata": {},
   "outputs": [
    {
     "name": "stdout",
     "output_type": "stream",
     "text": [
      "X_train: (30839, 22, 24)\n",
      "y_train: (30839,)\n",
      "X_val: (3855, 22, 24)\n",
      "y_val: (3855,)\n",
      "X_test: (3855, 22, 24)\n",
      "y_test: (3855,)\n"
     ]
    }
   ],
   "source": [
    "# Check the shapes of the arrays\n",
    "print(\"X_train: {}\".format(np.shape(X_train)))\n",
    "print(\"y_train: {}\".format(np.shape(y_train)))\n",
    "print(\"X_val: {}\".format(np.shape(X_val)))\n",
    "print(\"y_val: {}\".format(np.shape(y_val)))\n",
    "print(\"X_test: {}\".format(np.shape(X_test)))\n",
    "print(\"y_test: {}\".format(np.shape(y_test)))"
   ]
  },
  {
   "cell_type": "code",
   "execution_count": 7,
   "metadata": {},
   "outputs": [],
   "source": [
    "# Reshape the input tensors so they are in the shape (m,T,n) to fit Keras standards\n",
    "X_train = np.transpose(X_train, (0,2,1))\n",
    "X_val = np.transpose(X_val, (0,2,1))\n",
    "X_test = np.transpose(X_test, (0,2,1))"
   ]
  },
  {
   "cell_type": "code",
   "execution_count": 8,
   "metadata": {},
   "outputs": [
    {
     "name": "stdout",
     "output_type": "stream",
     "text": [
      "X_train: (30839, 24, 22)\n",
      "X_val: (3855, 24, 22)\n",
      "X_test: (3855, 24, 22)\n"
     ]
    }
   ],
   "source": [
    "# Check the shapes of the arrays again\n",
    "print(\"X_train: {}\".format(np.shape(X_train)))\n",
    "print(\"X_val: {}\".format(np.shape(X_val)))\n",
    "print(\"X_test: {}\".format(np.shape(X_test)))"
   ]
  },
  {
   "cell_type": "code",
   "execution_count": 9,
   "metadata": {},
   "outputs": [
    {
     "name": "stdout",
     "output_type": "stream",
     "text": [
      "WARNING:tensorflow:From C:\\Users\\anear\\Anaconda3\\lib\\site-packages\\keras\\backend\\tensorflow_backend.py:422: The name tf.global_variables is deprecated. Please use tf.compat.v1.global_variables instead.\n",
      "\n",
      "Train on 30839 samples, validate on 3855 samples\n",
      "Epoch 1/250\n",
      "30839/30839 [==============================] - 4s 140us/step - loss: 0.6100 - auc_1: 0.8319 - val_loss: 0.4357 - val_auc_1: 0.8656\n",
      "Epoch 2/250\n",
      "30839/30839 [==============================] - 4s 121us/step - loss: 0.4884 - auc_1: 0.8645 - val_loss: 0.4176 - val_auc_1: 0.8819\n",
      "Epoch 3/250\n",
      "30839/30839 [==============================] - 4s 123us/step - loss: 0.4173 - auc_1: 0.8796 - val_loss: 0.3879 - val_auc_1: 0.8908\n",
      "Epoch 4/250\n",
      "30839/30839 [==============================] - 4s 118us/step - loss: 0.3645 - auc_1: 0.8899 - val_loss: 0.3329 - val_auc_1: 0.8954\n",
      "Epoch 5/250\n",
      "30839/30839 [==============================] - 4s 119us/step - loss: 0.3261 - auc_1: 0.8934 - val_loss: 0.3047 - val_auc_1: 0.8994\n",
      "Epoch 6/250\n",
      "30839/30839 [==============================] - 4s 119us/step - loss: 0.2956 - auc_1: 0.9018 - val_loss: 0.2926 - val_auc_1: 0.8986\n",
      "Epoch 7/250\n",
      "30839/30839 [==============================] - 4s 119us/step - loss: 0.2741 - auc_1: 0.9076 - val_loss: 0.2656 - val_auc_1: 0.9019\n",
      "Epoch 8/250\n",
      "30839/30839 [==============================] - 4s 121us/step - loss: 0.2563 - auc_1: 0.9117 - val_loss: 0.2486 - val_auc_1: 0.9014\n",
      "Epoch 9/250\n",
      "30839/30839 [==============================] - 4s 123us/step - loss: 0.2430 - auc_1: 0.9114 - val_loss: 0.2439 - val_auc_1: 0.9048\n",
      "Epoch 10/250\n",
      "30839/30839 [==============================] - 4s 129us/step - loss: 0.2334 - auc_1: 0.9143 - val_loss: 0.2368 - val_auc_1: 0.9014\n",
      "Epoch 11/250\n",
      "30839/30839 [==============================] - 4s 140us/step - loss: 0.2262 - auc_1: 0.9151 - val_loss: 0.2280 - val_auc_1: 0.9049\n",
      "Epoch 12/250\n",
      "30839/30839 [==============================] - 4s 135us/step - loss: 0.2183 - auc_1: 0.9189 - val_loss: 0.2239 - val_auc_1: 0.9069\n",
      "Epoch 13/250\n",
      "30839/30839 [==============================] - 4s 133us/step - loss: 0.2136 - auc_1: 0.9199 - val_loss: 0.2211 - val_auc_1: 0.9062\n",
      "Epoch 14/250\n",
      "30839/30839 [==============================] - 4s 134us/step - loss: 0.2096 - auc_1: 0.9211 - val_loss: 0.2176 - val_auc_1: 0.9077\n",
      "Epoch 15/250\n",
      "30839/30839 [==============================] - 4s 134us/step - loss: 0.2049 - auc_1: 0.9231 - val_loss: 0.2159 - val_auc_1: 0.9057\n",
      "Epoch 16/250\n",
      "30839/30839 [==============================] - 4s 134us/step - loss: 0.2027 - auc_1: 0.9231 - val_loss: 0.2167 - val_auc_1: 0.9055\n",
      "Epoch 00016: early stopping\n"
     ]
    }
   ],
   "source": [
    "# Define the early stopping callback\n",
    "es = EarlyStopping(monitor='val_loss', mode='min', verbose=1)\n",
    "\n",
    "# Train the model\n",
    "history = model.fit(X_train, y_train, validation_data=(X_val,y_val), epochs=250, batch_size=100, verbose=1, callbacks=[es])"
   ]
  },
  {
   "cell_type": "code",
   "execution_count": 10,
   "metadata": {},
   "outputs": [
    {
     "data": {
      "image/png": "[encoded data removed]",
      "text/plain": [
       "<Figure size 720x432 with 2 Axes>"
      ]
     },
     "metadata": {
      "needs_background": "light"
     },
     "output_type": "display_data"
    }
   ],
   "source": [
    "# Create two subplots\n",
    "fig, (ax1, ax2) = plt.subplots(1, 2, sharex='col', figsize=(10,6))\n",
    "\n",
    "# PLot the loss\n",
    "ax1.plot(history.history['loss'])\n",
    "ax1.plot(history.history['val_loss'])\n",
    "ax1.set(title='Model Loss', ylabel='Loss (binary cross-entropy)', xlabel='Epoch')\n",
    "ax1.legend(['Training Set', 'Validation Set'], loc='upper right')\n",
    "\n",
    "# Plot the AUC\n",
    "ax2.plot(history.history['auc_1'])\n",
    "ax2.plot(history.history['val_auc_1'])\n",
    "ax2.set(title='AUROC', ylabel='AUC', xlabel='Epoch')\n",
    "ax2.legend(['Training Set', 'Validation Set'], loc='lower right')\n",
    "\n",
    "plt.savefig('training.png', bbox_inches='tight')\n",
    "plt.show()"
   ]
  },
  {
   "cell_type": "code",
   "execution_count": 11,
   "metadata": {},
   "outputs": [],
   "source": [
    "# Calculate TPR and FPR on the test set for plotting the ROC curve\n",
    "from sklearn.metrics import roc_curve\n",
    "y_pred = model.predict(X_test).ravel()\n",
    "fpr_rnn, tpr_rnn, thresholds_rnn = roc_curve(y_test, y_pred)"
   ]
  },
  {
   "cell_type": "code",
   "execution_count": 12,
   "metadata": {},
   "outputs": [],
   "source": [
    "# Calculate the AUROC for the test set using the RNN\n",
    "from sklearn.metrics import auc\n",
    "auc_rnn = auc(fpr_rnn, tpr_rnn)"
   ]
  },
  {
   "cell_type": "code",
   "execution_count": 13,
   "metadata": {},
   "outputs": [],
   "source": [
    "# Write a function that plots nice confusion matrices\n",
    "def plot_confusion_matrix(cm, classes, normalize=False, title='Confusion Matrix', cmap=plt.cm.Blues):\n",
    "    \n",
    "    \"\"\"\n",
    "    This function prints and plots the confusion matrix.\n",
    "    Normalization can be applied by setting `normalize=True`.\n",
    "    \"\"\"\n",
    "    plt.figure(figsize=(10,5))\n",
    "    plt.imshow(cm, interpolation='nearest', cmap=cmap)\n",
    "    plt.title(title)\n",
    "    plt.colorbar()\n",
    "    tick_marks = np.arange(len(classes))\n",
    "    plt.xticks(tick_marks, classes, rotation=45)\n",
    "    plt.yticks(tick_marks, classes)\n",
    "\n",
    "    if normalize:\n",
    "        cm = cm.astype('float') / cm.sum(axis=1)[:, np.newaxis]\n",
    "        cm[0][0] = round(cm[0][0],2)\n",
    "        cm[0][1] = round(cm[0][1],2)\n",
    "        cm[1][0] = round(cm[1][0],2)\n",
    "        cm[1][1] = round(cm[1][1],2)\n",
    "\n",
    "    thresh = cm.max() / 2.\n",
    "    for i, j in itertools.product(range(cm.shape[0]), range(cm.shape[1])):\n",
    "        plt.text(j, i, cm[i, j],\n",
    "            horizontalalignment=\"center\",\n",
    "            color=\"white\" if cm[i, j] > thresh else \"black\")\n",
    "\n",
    "    plt.tight_layout()\n",
    "    plt.ylabel('True label')\n",
    "    plt.xlabel('Predicted label')"
   ]
  },
  {
   "cell_type": "code",
   "execution_count": 40,
   "metadata": {},
   "outputs": [
    {
     "data": {
      "image/png": "[encoded data removed]",
      "text/plain": [
       "<Figure size 720x360 with 2 Axes>"
      ]
     },
     "metadata": {
      "needs_background": "light"
     },
     "output_type": "display_data"
    }
   ],
   "source": [
    "# Calculate the confusion matrix\n",
    "decision_threshold = 0.3\n",
    "cm = confusion_matrix(y_test, y_pred[:]>decision_threshold)\n",
    "plot_confusion_matrix(cm, ['Survived', 'Died'], normalize=False, title='GRU Model')"
   ]
  },
  {
   "cell_type": "code",
   "execution_count": 41,
   "metadata": {},
   "outputs": [
    {
     "data": {
      "text/plain": [
       "0.6171206225680934"
      ]
     },
     "execution_count": 41,
     "metadata": {},
     "output_type": "execute_result"
    }
   ],
   "source": [
    "# Calculate accuracy\n",
    "from sklearn.metrics import accuracy_score\n",
    "accuracy_score(y_test, y_pred[:]>decision_threshold)"
   ]
  },
  {
   "cell_type": "code",
   "execution_count": 15,
   "metadata": {},
   "outputs": [
    {
     "name": "stdout",
     "output_type": "stream",
     "text": [
      "Loaded!\n"
     ]
    }
   ],
   "source": [
    "# Load the raw data\n",
    "_data = np.load('res/data.npy', allow_pickle=True).tolist()\n",
    "X_train_raw = _data['X_train']\n",
    "X_test_raw = _data['X_test']\n",
    "print(\"Loaded!\")"
   ]
  },
  {
   "cell_type": "code",
   "execution_count": 16,
   "metadata": {},
   "outputs": [
    {
     "name": "stdout",
     "output_type": "stream",
     "text": [
      "X_train_static: (30839, 88)\n",
      "X_test_static: (3855, 88)\n"
     ]
    }
   ],
   "source": [
    "# Prepare training data for non-temporal models\n",
    "m, n, T = np.shape(X_train_raw)\n",
    "X_train_static = np.zeros((m,n*4))\n",
    "for i in range(m):\n",
    "    for j in range(n):\n",
    "        feature = X_train_raw[i,j,:]\n",
    "        extracted_features = [np.min(feature), np.max(feature), np.mean(feature), np.std(feature)]\n",
    "        X_train_static[i,(j*4):(j*4+4)] = extracted_features\n",
    "        \n",
    "# Prepare test data for non-temporal models\n",
    "m, n, T = np.shape(X_test_raw)\n",
    "X_test_static = np.zeros((m,n*4))\n",
    "for i in range(m):\n",
    "    for j in range(n):\n",
    "        feature = X_test_raw[i,j,:]\n",
    "        extracted_features = [np.min(feature), np.max(feature), np.mean(feature), np.std(feature)]\n",
    "        X_test_static[i,(j*4):(j*4+4)] = extracted_features\n",
    "        \n",
    "# Check the shapes of the new arrays\n",
    "print(\"X_train_static: {}\".format(np.shape(X_train_static)))\n",
    "print(\"X_test_static: {}\".format(np.shape(X_test_static)))"
   ]
  },
  {
   "cell_type": "code",
   "execution_count": 17,
   "metadata": {},
   "outputs": [
    {
     "name": "stdout",
     "output_type": "stream",
     "text": [
      "(30839, 88)\n"
     ]
    }
   ],
   "source": [
    "# Scale the training data using a z-transform, and apply that scaler to the test data\n",
    "from sklearn.preprocessing import StandardScaler\n",
    "scaler = StandardScaler()\n",
    "X_train_scaled = scaler.fit_transform(X_train_static)\n",
    "X_test_scaled = scaler.transform(X_test_static)\n",
    "print(np.shape(X_train_scaled))"
   ]
  },
  {
   "cell_type": "code",
   "execution_count": 18,
   "metadata": {},
   "outputs": [],
   "source": [
    "# Create logistic regression classifer object\n",
    "from sklearn.linear_model import LogisticRegression\n",
    "logisticRegr = LogisticRegression(solver = \"liblinear\")\n",
    "\n",
    "# Train logistic regression classifer\n",
    "logisticRegr.fit(X_train_scaled, y_train)\n",
    "\n",
    "# Predict the response for test dataset\n",
    "y_pred = logisticRegr.predict_proba(X_test_scaled)[:,1]"
   ]
  },
  {
   "cell_type": "code",
   "execution_count": 19,
   "metadata": {},
   "outputs": [],
   "source": [
    "# Calculate TPR and FPR on the test set for plotting the ROC curve\n",
    "fpr_lr, tpr_lr, thresholds_lr = roc_curve(y_test, y_pred)"
   ]
  },
  {
   "cell_type": "code",
   "execution_count": 20,
   "metadata": {},
   "outputs": [],
   "source": [
    "# Calculate the AUROC for the test set using logistic regression\n",
    "auc_lr = auc(fpr_lr, tpr_lr)"
   ]
  },
  {
   "cell_type": "code",
   "execution_count": 21,
   "metadata": {},
   "outputs": [],
   "source": [
    "# Create a function to calculate the SAPS II score given some input data\n",
    "def saps_ii(data):\n",
    "    \n",
    "    '''\n",
    "    Function to calculate the SAPS II clinical score, and predicted mortality, for each patient.\n",
    "    \n",
    "    INPUTS:\n",
    "    data - array of shape (m,n*4), where m = number of patients and n = number of features, and each feature has a min, max, mean and std.\n",
    "    \n",
    "    OUTPUTS:\n",
    "    saps_ii - array of shape (m,1), with the calculated SAPS II clinical score.\n",
    "    mortality - array of shape (m,1), with the predicted mortality from the corresponding SAPS II score.\n",
    "    '''\n",
    "    \n",
    "    # Define variables\n",
    "    m, n = np.shape(data)\n",
    "    age = data[:,(3*4)+2]\n",
    "    sched_surg = data[:,(0*4)+2]\n",
    "    medical = data[:,(2*4)+2]\n",
    "    unsched_surg = data[:,(1*4)+2]\n",
    "    hr = data[:,(14*4)+2]\n",
    "    bp = data[:,(9*4)+2]\n",
    "    temp = data[:,(18*4)+2]\n",
    "    gcs = data[:,(11*4)+2] + data[:,(12*4)+2] + data[:,(13*4)+2]\n",
    "    urine = data[:,(20*4)+2]\n",
    "    urea = data[:,(19*4)+2]\n",
    "    sodium = data[:,(17*4)+2]\n",
    "    potassium = data[:,(16*4)+2]\n",
    "    bicarb = data[:,(7*4)+2]\n",
    "    bilirubin = data[:,(8*4)+2]\n",
    "    wbc = data[:,(21*4)+2]\n",
    "    mets = data[:,(6*4)+2]\n",
    "    haem = data[:,(4*4)+2]\n",
    "    aids = data[:,(5*4)+2]\n",
    "    \n",
    "    # Calculate SAPS II\n",
    "    saps_ii = np.zeros((m,1))\n",
    "    \n",
    "    for i in range(m):\n",
    "        \n",
    "        # Age\n",
    "        if age[i] >= 40 and age[i] < 60:\n",
    "            saps_ii[i] += 7\n",
    "        elif age[i] >= 60 and age[i] < 69:\n",
    "            saps_ii[i] += 12\n",
    "        elif age[i] >= 70 and age[i] < 75:\n",
    "            saps_ii[i] += 15\n",
    "        elif age[i] >= 75 and age[i] < 80:\n",
    "            saps_ii[i] += 16\n",
    "        elif age[i] >= 80:\n",
    "            saps_ii[i] += 18\n",
    "            \n",
    "        # Type of admission\n",
    "        if unsched_surg[i] == 1:\n",
    "            saps_ii[i] += 8\n",
    "        elif medical[i] == 1:\n",
    "            saps_ii[i] += 6\n",
    "        \n",
    "        # Heart rate\n",
    "        if hr[i] < 40:\n",
    "            saps_ii[i] += 11\n",
    "        elif hr[i] >= 40 and hr[i] < 70:\n",
    "            saps_ii[i] += 2\n",
    "        elif hr[i] >= 70 and hr[i] < 120:\n",
    "            saps_ii[i] += 0\n",
    "        elif hr[i] >= 120 and hr[i] < 160:\n",
    "            saps_ii[i] += 4\n",
    "        elif hr[i] >= 160:\n",
    "            saps_ii[i] += 7\n",
    "        \n",
    "        # Blood pressure\n",
    "        if bp[i] < 70:\n",
    "            saps_ii[i] += 13\n",
    "        elif bp[i] >= 70 and bp[i] < 100:\n",
    "            saps_ii[i] += 5\n",
    "        elif bp[i] >= 100 and bp[i] < 200:\n",
    "            saps_ii[i] += 0\n",
    "        elif bp[i] >= 200:\n",
    "            saps_ii[i] += 2\n",
    "        \n",
    "        # Temperature\n",
    "        if temp[i] >= 39:\n",
    "            saps_ii[i] += 3\n",
    "            \n",
    "        # Glasgow Coma Scale\n",
    "        if gcs[i] < 6:\n",
    "            saps_ii[i] += 26\n",
    "        elif gcs[i] >= 6 and gcs[i] < 9:\n",
    "            saps_ii[i] += 13\n",
    "        elif gcs[i] >= 9 and gcs[i] < 11:\n",
    "            saps_ii[i] += 7\n",
    "        elif gcs[i] >= 11 and gcs[i] < 14:\n",
    "            saps_ii[i] += 5\n",
    "        elif gcs[i] < 14:\n",
    "            saps_ii[i] += 0\n",
    "        \n",
    "        # Urine output\n",
    "        if urine[i]*24 < 0.5:\n",
    "            saps_ii[i] += 11\n",
    "        elif urine[i]*24 >= 0.5 and urine[i]*24 < 1:\n",
    "            saps_ii[i] += 4\n",
    "            \n",
    "        # Urea\n",
    "        if urea[i] >= 0.6 and urea[i] < 1.8:\n",
    "            saps_ii[i] += 0\n",
    "        elif urea[i] >= 1.8:\n",
    "            saps_ii[i] += 2\n",
    "        \n",
    "        # Sodium\n",
    "        if sodium[i] < 125:\n",
    "            saps_ii[i] += 5\n",
    "        elif sodium[i] >= 125 and sodium[i] < 145:\n",
    "            saps_ii[i] += 0\n",
    "        elif sodium[i] >= 145:\n",
    "            saps_ii[i] += 1\n",
    "        \n",
    "        # Potassium\n",
    "        if potassium[i] < 3:\n",
    "            saps_ii[i] += 3\n",
    "        elif potassium[i] >= 3 and potassium[i] < 5:\n",
    "            saps_ii[i] += 0\n",
    "        elif potassium[i] >= 5:\n",
    "            saps_ii[i] += 3\n",
    "        \n",
    "        # Bicarbonate\n",
    "        if bicarb[i] < 15:\n",
    "            saps_ii[i] += 6\n",
    "        elif bicarb[i] >= 15 and bicarb[i] < 20:\n",
    "            saps_ii[i] += 3\n",
    "        elif bicarb[i] >= 20:\n",
    "            saps_ii[i] += 0\n",
    "        \n",
    "        # Bilirubin\n",
    "        if bilirubin[i] < 4:\n",
    "            saps_ii[i] += 0\n",
    "        elif bilirubin[i] >= 4 and bilirubin[i] < 6:\n",
    "            saps_ii[i] += 4\n",
    "        elif bilirubin[i] >= 6:\n",
    "            saps_ii[i] += 9\n",
    "        \n",
    "        # White blood cells\n",
    "        if wbc[i] < 1000:\n",
    "            saps_ii[i] += 12\n",
    "        elif wbc[i] >= 1000 and wbc[i] < 20000:\n",
    "            saps_ii[i] += 0\n",
    "        elif wbc[i] >= 20000:\n",
    "            saps_ii[i] += 3\n",
    "        \n",
    "        # Chronic diseases\n",
    "        if aids[i] == 1:\n",
    "            saps_ii[i] += 17\n",
    "        elif haem[i] == 1:\n",
    "            saps_ii[i] += 10\n",
    "        elif mets[i] == 1:\n",
    "            saps_ii[i] += 9\n",
    "        \n",
    "    # Calculate mortality\n",
    "    mortality = np.zeros((m,1))\n",
    "    \n",
    "    for i in range(m):\n",
    "        \n",
    "        logit = -7.7631 + 0.0737*saps_ii[i] + 0.9971*np.log(saps_ii[i]+1)\n",
    "        \n",
    "        mortality[i] = np.exp(logit) / (1 + np.exp(logit))\n",
    "    \n",
    "    # Return results\n",
    "    return saps_ii, mortality"
   ]
  },
  {
   "cell_type": "code",
   "execution_count": 22,
   "metadata": {},
   "outputs": [],
   "source": [
    "# Calculate SAPS II score and make predictions\n",
    "saps_scores, y_pred = saps_ii(X_test_static)"
   ]
  },
  {
   "cell_type": "code",
   "execution_count": 23,
   "metadata": {},
   "outputs": [],
   "source": [
    "# Calculate TPR and FPR on the test set for plotting the ROC curve\n",
    "fpr_saps, tpr_saps, thresholds_saps = roc_curve(y_test, y_pred)"
   ]
  },
  {
   "cell_type": "code",
   "execution_count": 24,
   "metadata": {},
   "outputs": [],
   "source": [
    "# Calculate the AUROC for the test set\n",
    "auc_saps = auc(fpr_saps, tpr_saps)"
   ]
  },
  {
   "cell_type": "code",
   "execution_count": 28,
   "metadata": {},
   "outputs": [
    {
     "data": {
      "image/png": "[encoded data removed]",
      "text/plain": [
       "<Figure size 576x576 with 1 Axes>"
      ]
     },
     "metadata": {
      "needs_background": "light"
     },
     "output_type": "display_data"
    }
   ],
   "source": [
    "# Plot the ROC curve\n",
    "plt.figure(figsize=(8,8))\n",
    "plt.plot([0, 1], [0, 1], 'k--')\n",
    "plt.plot(fpr_saps, tpr_saps, label='SAPS II (AUC = {:.3f})'.format(auc_saps))\n",
    "plt.plot(fpr_lr, tpr_lr, label='Logistic Regression (AUC = {:.3f})'.format(auc_lr))\n",
    "plt.plot(fpr_rnn, tpr_rnn, label='Recurrent Neural Network (AUC = {:.3f})'.format(auc_rnn))\n",
    "plt.xlabel('False Positive Rate')\n",
    "plt.ylabel('True Positive Rate')\n",
    "plt.title('ROC Curve')\n",
    "plt.legend(loc='lower right')\n",
    "plt.savefig('roc_curve.png', bbox_inches='tight')\n",
    "plt.show()"
   ]
  },
  {
   "cell_type": "code",
   "execution_count": null,
   "metadata": {},
   "outputs": [],
   "source": []
  }
 ],
 "metadata": {
  "kernelspec": {
   "display_name": "Python 3",
   "language": "python",
   "name": "python3"
  },
  "language_info": {
   "codemirror_mode": {
    "name": "ipython",
    "version": 3
   },
   "file_extension": ".py",
   "mimetype": "text/x-python",
   "name": "python",
   "nbconvert_exporter": "python",
   "pygments_lexer": "ipython3",
   "version": "3.7.3"
  }
 },
 "nbformat": 4,
 "nbformat_minor": 4
}
