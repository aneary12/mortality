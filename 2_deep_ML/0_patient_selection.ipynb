{
 "cells": [
  {
   "cell_type": "code",
   "execution_count": 1,
   "metadata": {},
   "outputs": [],
   "source": [
    "# Import libraries\n",
    "import psycopg2\n",
    "import getpass\n",
    "import numpy as np\n",
    "import os.path"
   ]
  },
  {
   "cell_type": "code",
   "execution_count": 2,
   "metadata": {},
   "outputs": [],
   "source": [
    "# Create a database connection\n",
    "user = 'postgres'\n",
    "host = 'localhost'\n",
    "port = '5433'\n",
    "dbname = 'mimic'\n",
    "schema = 'mimiciii'"
   ]
  },
  {
   "cell_type": "code",
   "execution_count": 3,
   "metadata": {},
   "outputs": [
    {
     "name": "stdin",
     "output_type": "stream",
     "text": [
      "Password: ··········\n"
     ]
    },
    {
     "name": "stdout",
     "output_type": "stream",
     "text": [
      "Connected!\n"
     ]
    }
   ],
   "source": [
    "# Connect to the database\n",
    "con = psycopg2.connect(dbname=dbname, user=user, host=host, port=port, \n",
    "                       password=getpass.getpass(prompt='Password:'.format(user)))\n",
    "cur = con.cursor()\n",
    "cur.execute('SET search_path TO {}'.format(schema))\n",
    "con.commit()\n",
    "print(\"Connected!\")"
   ]
  },
  {
   "cell_type": "code",
   "execution_count": 4,
   "metadata": {},
   "outputs": [],
   "source": [
    "# Select admission IDs from MIMIC III that correspond to first time admissions, for patient 18 years old or older\n",
    "query = \\\n",
    "\"\"\"\n",
    "WITH full_patient_info AS\n",
    "    (\n",
    "    SELECT a.subject_id, a.hadm_id, p.gender,\n",
    "        ROUND((CAST(a.admittime AS date) - CAST(p.dob AS date))/365.242,2) AS age,\n",
    "        p.dob, a.admittime, a.dischtime,\n",
    "        a.hospital_expire_flag,\n",
    "        ROUND(CAST(EXTRACT(epoch FROM (CAST(a.dischtime AS timestamp) - CAST(a.admittime AS timestamp)))/3600 AS numeric) ,2) AS los,\n",
    "        MIN(a.admittime) OVER (PARTITION BY a.subject_id) AS first_admittime\n",
    "    FROM admissions a\n",
    "    INNER JOIN patients p\n",
    "    ON p.subject_id = a.subject_id\n",
    "    )\n",
    "SELECT subject_id, hadm_id, age::float, los::float, hospital_expire_flag,\n",
    "    CAST((admittime = first_admittime) AS int) AS first_admit_flag, admittime\n",
    "FROM full_patient_info\n",
    "\"\"\"\n",
    "\n",
    "# Execute the query and fetch the result\n",
    "cur.execute(query)\n",
    "con.commit()\n",
    "data = cur.fetchall()\n",
    "\n",
    "# Store the result of the query as a numpy array\n",
    "all_adm = np.array(data)"
   ]
  },
  {
   "cell_type": "code",
   "execution_count": 5,
   "metadata": {},
   "outputs": [
    {
     "name": "stdout",
     "output_type": "stream",
     "text": [
      "No. of patients: 58976\n"
     ]
    }
   ],
   "source": [
    "# Check the number of patients\n",
    "adm_labels = ['subject_id', 'hadm_id', 'age', 'los', 'hospital_expire_flag', 'first_admit_flag', 'admittime']\n",
    "print(\"No. of patients: {}\".format(np.shape(all_adm)[0]))"
   ]
  },
  {
   "cell_type": "code",
   "execution_count": 6,
   "metadata": {},
   "outputs": [
    {
     "name": "stdout",
     "output_type": "stream",
     "text": [
      "No. of patients on first admission: 46520\n"
     ]
    }
   ],
   "source": [
    "# Check the number of patients on their first admission\n",
    "first_adm = all_adm[all_adm[:,5]==1]\n",
    "print(\"No. of patients on first admission: {}\".format(np.shape(first_adm)[0]))"
   ]
  },
  {
   "cell_type": "code",
   "execution_count": 7,
   "metadata": {},
   "outputs": [
    {
     "name": "stdout",
     "output_type": "stream",
     "text": [
      "No. of adult patients on first admission: 38549\n"
     ]
    }
   ],
   "source": [
    "# Check the number of adult patients on their first admission\n",
    "adult_first_adm = first_adm[first_adm[:,2]>=18]\n",
    "print(\"No. of adult patients on first admission: {}\".format(np.shape(adult_first_adm)[0]))"
   ]
  },
  {
   "cell_type": "code",
   "execution_count": 8,
   "metadata": {},
   "outputs": [
    {
     "name": "stdout",
     "output_type": "stream",
     "text": [
      "Saved!\n"
     ]
    }
   ],
   "source": [
    "# Save to admission_ids.npy\n",
    "if not os.path.exists('./res'):\n",
    "    os.makedirs('./res')\n",
    "\n",
    "tosave = {'adm_labels':adm_labels, 'all_adm':all_adm, 'first_adm':first_adm, 'adult_first_adm':adult_first_adm}\n",
    "np.save('res/admission.npy',tosave)\n",
    "print(\"Saved!\")"
   ]
  },
  {
   "cell_type": "code",
   "execution_count": null,
   "metadata": {},
   "outputs": [],
   "source": []
  }
 ],
 "metadata": {
  "kernelspec": {
   "display_name": "Python 3",
   "language": "python",
   "name": "python3"
  },
  "language_info": {
   "codemirror_mode": {
    "name": "ipython",
    "version": 3
   },
   "file_extension": ".py",
   "mimetype": "text/x-python",
   "name": "python",
   "nbconvert_exporter": "python",
   "pygments_lexer": "ipython3",
   "version": "3.7.3"
  }
 },
 "nbformat": 4,
 "nbformat_minor": 4
}
