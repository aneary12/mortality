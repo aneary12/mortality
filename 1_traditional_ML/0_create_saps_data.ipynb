{
 "cells": [
  {
   "cell_type": "code",
   "execution_count": null,
   "metadata": {},
   "outputs": [],
   "source": [
    "# Import libraries\n",
    "import psycopg2\n",
    "import getpass\n",
    "import numpy as np\n",
    "import os.path"
   ]
  },
  {
   "cell_type": "code",
   "execution_count": null,
   "metadata": {},
   "outputs": [],
   "source": [
    "# Create a database connection\n",
    "user = 'postgres'\n",
    "host = 'localhost'\n",
    "port = '5432'\n",
    "dbname = 'mimic'\n",
    "schema = 'mimiciii'"
   ]
  },
  {
   "cell_type": "code",
   "execution_count": null,
   "metadata": {},
   "outputs": [],
   "source": [
    "# Connect to the database\n",
    "con = psycopg2.connect(dbname=dbname, user=user, host=host, port=port, \n",
    "                       password=getpass.getpass(prompt='Password:'.format(user)))\n",
    "cur = con.cursor()\n",
    "cur.execute('SET search_path to {}'.format(schema))\n",
    "con.commit()\n",
    "print(\"Connected!\")"
   ]
  },
  {
   "cell_type": "code",
   "execution_count": null,
   "metadata": {},
   "outputs": [],
   "source": [
    "# Query the database for SAPS-II variables for patients on their first admission over 18 years old\n",
    "# Note that ALL the files in the sql folder need to be run before this script will work\n",
    "query = \\\n",
    "\"\"\"\n",
    "SELECT *\n",
    "FROM sapsii_raw_filtered\n",
    "\"\"\"\n",
    "\n",
    "# Execute the query and fetch the result\n",
    "cur.execute(query)\n",
    "con.commit()\n",
    "data = cur.fetchall()\n",
    "\n",
    "# Store the result of the query as an array\n",
    "saps_ii = []\n",
    "for row in data:\n",
    "    saps_ii.append(row)\n",
    "\n",
    "# Quick sanity check\n",
    "print(\"Shape of saps_ii: {}\".format(np.shape(saps_ii)))"
   ]
  },
  {
   "cell_type": "code",
   "execution_count": null,
   "metadata": {},
   "outputs": [],
   "source": [
    "# Save to admission_ids.npy\n",
    "if not os.path.exists('./res'):\n",
    "    os.makedirs('./res')\n",
    "\n",
    "tosave = {'saps_ii': saps_ii}\n",
    "np.save('res/saps_ii.npy',tosave)\n",
    "print(\"Saved!\")"
   ]
  },
  {
   "cell_type": "code",
   "execution_count": null,
   "metadata": {},
   "outputs": [],
   "source": []
  }
 ],
 "metadata": {
  "kernelspec": {
   "display_name": "Python 3",
   "language": "python",
   "name": "python3"
  },
  "language_info": {
   "codemirror_mode": {
    "name": "ipython",
    "version": 3
   },
   "file_extension": ".py",
   "mimetype": "text/x-python",
   "name": "python",
   "nbconvert_exporter": "python",
   "pygments_lexer": "ipython3",
   "version": "3.7.3"
  }
 },
 "nbformat": 4,
 "nbformat_minor": 4
}
