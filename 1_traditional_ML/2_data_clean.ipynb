{
 "cells": [
  {
   "cell_type": "code",
   "execution_count": 1,
   "metadata": {},
   "outputs": [],
   "source": [
    "# Import libraries\n",
    "import numpy as np\n",
    "import matplotlib.pyplot as plt\n",
    "import os.path\n",
    "from math import floor"
   ]
  },
  {
   "cell_type": "code",
   "execution_count": 2,
   "metadata": {},
   "outputs": [
    {
     "name": "stdout",
     "output_type": "stream",
     "text": [
      "Loaded!\n"
     ]
    }
   ],
   "source": [
    "# load the data\n",
    "_data = np.load('res/data.npy', allow_pickle=True).tolist()\n",
    "saps_ii = _data['saps_ii']\n",
    "X_train, X_val, X_test = _data['X_train'], _data['X_val'], _data['X_test']\n",
    "Y_train, Y_val, Y_test = _data['Y_train'], _data['Y_val'], _data['Y_test']\n",
    "print(\"Loaded!\")"
   ]
  },
  {
   "cell_type": "code",
   "execution_count": 3,
   "metadata": {},
   "outputs": [
    {
     "name": "stdout",
     "output_type": "stream",
     "text": [
      "No. of patients: 38628\n",
      "No. of patients in train, val, test sets: 27039, 5794, 5795\n",
      "No. of patients who died in hospital in train, val, test sets: 3039, 678, 685\n",
      "Proportion of patients who died in hospital in train, val, test sets: 11.239%, 11.702%, 11.821%\n"
     ]
    }
   ],
   "source": [
    "# Check that the data has been loaded correctly (outputs should be the same as in data_split.ipynb)\n",
    "print(\"No. of patients: {}\".format(len(saps_ii)))\n",
    "print(\"No. of patients in train, val, test sets: {}, {}, {}\".format(len(X_train), len(X_val), len(X_test)))\n",
    "print(\"No. of patients who died in hospital in train, val, test sets: {}, {}, {}\".format(sum(Y_train), sum(Y_val), sum(Y_test)))\n",
    "print(\"Proportion of patients who died in hospital in train, val, test sets: {}%, {}%, {}%\".format(round(sum(Y_train)/len(Y_train)*100,3), round(sum(Y_val)/len(Y_val)*100,3), round(sum(Y_test)/len(Y_test)*100,3)))"
   ]
  },
  {
   "cell_type": "code",
   "execution_count": 4,
   "metadata": {},
   "outputs": [],
   "source": [
    "# Define labels for each feature\n",
    "labels = ['Age', 'Heart Rate', 'Systolic BP', 'Temperature', 'PaO2/FiO2', 'Urine Output', 'BUN', \\\n",
    "          'WBC', 'Potassium', 'Sodium', 'Bicarbonate', 'Bilirubin', 'GCS', 'Comorbidity', 'Admission Type']"
   ]
  },
  {
   "cell_type": "code",
   "execution_count": 5,
   "metadata": {},
   "outputs": [
    {
     "name": "stdout",
     "output_type": "stream",
     "text": [
      "Age: 38.93\n",
      "Heart Rate: 120.0\n",
      "Systolic BP: 130.0\n",
      "Temperature: 38.3888880411784\n",
      "PaO2/FiO2: None\n",
      "Urine Output: 1110.0\n",
      "BUN: 10.0\n",
      "WBC: 8.1\n",
      "Potassium: 3.6\n",
      "Sodium: 139.0\n",
      "Bicarbonate: 29.0\n",
      "Bilirubin: None\n",
      "GCS: 15.0\n",
      "Comorbidity: None\n",
      "Admission Type: Medical\n",
      "Outcome: Survived\n"
     ]
    }
   ],
   "source": [
    "# Show example of one patient\n",
    "patient = 2\n",
    "for feature in range(len(labels)):\n",
    "    print('{}: {}'.format(labels[feature], X_train[patient,feature]))\n",
    "print('Outcome: {}'.format('Died in hospital' if Y_train[patient]==1 else 'Survived'))"
   ]
  },
  {
   "cell_type": "code",
   "execution_count": 6,
   "metadata": {},
   "outputs": [],
   "source": [
    "# Replace None values in comorbidity with \"None\" saps_ii - 18\n",
    "saps_ii[:,18][saps_ii[:,18] == None] = \"None\"\n",
    "X_train[:,13][X_train[:,13] == None] = \"None\"\n",
    "X_val[:,13][X_val[:,13] == None] = \"None\"\n",
    "X_test[:,13][X_test[:,13] == None] = \"None\""
   ]
  },
  {
   "cell_type": "code",
   "execution_count": 7,
   "metadata": {},
   "outputs": [
    {
     "name": "stdout",
     "output_type": "stream",
     "text": [
      "Saved!\n"
     ]
    }
   ],
   "source": [
    "# Save to data1.npy\n",
    "if not os.path.exists('./res'):\n",
    "    os.makedirs('./res')\n",
    "\n",
    "tosave = {'saps_ii': saps_ii, 'X_train': X_train, 'X_val': X_val, 'X_test': X_test, 'Y_train': Y_train, 'Y_val': Y_val, 'Y_test': Y_test}\n",
    "np.save('res/data1.npy',tosave)\n",
    "print(\"Saved!\")"
   ]
  },
  {
   "cell_type": "code",
   "execution_count": 8,
   "metadata": {},
   "outputs": [
    {
     "name": "stdout",
     "output_type": "stream",
     "text": [
      "Age: 0.0% (0/38628)\n",
      "Heart Rate: 1.76% (678/38628)\n",
      "Systolic BP: 1.84% (710/38628)\n",
      "Temperature: 3.62% (1397/38628)\n",
      "PaO2/FiO2: 62.43% (24115/38628)\n",
      "Urine Output: 3.36% (1299/38628)\n",
      "BUN: 1.57% (608/38628)\n",
      "WBC: 2.13% (821/38628)\n",
      "Potassium: 1.36% (526/38628)\n",
      "Sodium: 1.5% (581/38628)\n",
      "Bicarbonate: 2.31% (891/38628)\n",
      "Bilirubin: 57.6% (22248/38628)\n",
      "GCS: 2.01% (777/38628)\n",
      "Comorbidity: 0.0% (0/38628)\n",
      "Admission Type: 0.0% (0/38628)\n"
     ]
    }
   ],
   "source": [
    "# Calculate the amount of missing data for each feature\n",
    "num_missing = np.sum(saps_ii[:,5:20]==None,0)\n",
    "m = len(saps_ii)\n",
    "pct_missing = num_missing/m * 100\n",
    "for feature in range(len(labels)):\n",
    "    print('{}: {}% ({}/{})'.format(labels[feature], round(pct_missing[feature],2), num_missing[feature], m))"
   ]
  },
  {
   "cell_type": "code",
   "execution_count": 8,
   "metadata": {},
   "outputs": [
    {
     "data": {
      "image/png": "[encoded data removed]",
      "text/plain": [
       "<Figure size 432x288 with 1 Axes>"
      ]
     },
     "metadata": {
      "needs_background": "light"
     },
     "output_type": "display_data"
    }
   ],
   "source": [
    "# Visualise how much data is missing per patient\n",
    "num_missing = np.sum(saps_ii[:,5:20]==None,1)\n",
    "num_features = np.shape(X_train)[1]\n",
    "pct_missing = num_missing/num_features * 100\n",
    "n, bins, patches = plt.hist(pct_missing, 80, density=True, histtype='stepfilled', facecolor='g')\n",
    "plt.xlabel('% of Missing Data per Patient')\n",
    "plt.ylabel('% of Patients')\n",
    "plt.title('Missing Data for Each Patient')\n",
    "plt.xlim(0, 100)\n",
    "plt.grid(True)"
   ]
  },
  {
   "cell_type": "code",
   "execution_count": 9,
   "metadata": {},
   "outputs": [
    {
     "name": "stdout",
     "output_type": "stream",
     "text": [
      "Patients with 0% to 10% of features missing: 61.64% (23811/38628)\n",
      "Patients with 10% to 20% of features missing: 34.18% (13203/38628)\n",
      "Patients with 20% to 30% of features missing: 1.65% (638/38628)\n",
      "Patients with 30% to 40% of features missing: 0.18% (70/38628)\n",
      "Patients with 40% to 50% of features missing: 1.35% (522/38628)\n",
      "Patients with 50% to 60% of features missing: 0.09% (33/38628)\n",
      "Patients with 60% to 70% of features missing: 0.09% (33/38628)\n",
      "Patients with 70% to 80% of features missing: 0.02% (8/38628)\n",
      "Patients with 80% to 90% of features missing: 0.8% (310/38628)\n",
      "Patients with 90% to 100% of features missing: 0.0% (0/38628)\n"
     ]
    }
   ],
   "source": [
    "# Calculate how much data is missing for each patient (as a percentage)\n",
    "bins = [10, 20, 30, 40, 50, 60, 70, 80, 90, 100]\n",
    "for num in bins:\n",
    "    diff = bins[2] - bins[1]\n",
    "    print(\"Patients with {}% to {}% of features missing: {}% ({}/{})\".format(num-diff, num, round((sum(pct_missing<num)-sum(pct_missing<(num-diff)))/m*100,2), sum(pct_missing<num)-sum(pct_missing<(num-diff)), m))"
   ]
  },
  {
   "cell_type": "code",
   "execution_count": 10,
   "metadata": {},
   "outputs": [
    {
     "name": "stdout",
     "output_type": "stream",
     "text": [
      "Patients with 0 features missing: 14.97% (5781/38628)\n",
      "Patients with 1 feature missing: 46.68% (18030/38628)\n",
      "Patients with 2 features missing: 34.18% (13203/38628)\n",
      "Patients with 3 features missing: 1.42% (547/38628)\n",
      "Patients with 4 features missing: 0.24% (91/38628)\n",
      "Patients with 5 features missing: 0.18% (70/38628)\n",
      "Patients with 6 features missing: 0.47% (181/38628)\n",
      "Patients with 7 features missing: 0.88% (341/38628)\n",
      "Patients with 8 features missing: 0.09% (33/38628)\n",
      "Patients with 9 features missing: 0.04% (15/38628)\n",
      "Patients with 10 features missing: 0.05% (18/38628)\n",
      "Patients with 11 features missing: 0.02% (8/38628)\n",
      "Patients with 12 features missing: 0.8% (310/38628)\n",
      "Patients with 13 features missing: 0.0% (0/38628)\n",
      "Patients with 14 features missing: 0.0% (0/38628)\n",
      "Patients with 15 features missing: 0.0% (0/38628)\n"
     ]
    }
   ],
   "source": [
    "# Calculate how much data is missing for each patient (by no. of features)\n",
    "bins = np.array(range(num_features+1))\n",
    "for num in bins:\n",
    "    diff = bins[2] - bins[1]\n",
    "    print(\"Patients with {} feature{} missing: {}% ({}/{})\".format(num, \"\" if num==1 else \"s\", round(sum(num_missing==num)/m*100,2), sum(num_missing==num), m))"
   ]
  },
  {
   "cell_type": "code",
   "execution_count": 12,
   "metadata": {},
   "outputs": [
    {
     "name": "stdout",
     "output_type": "stream",
     "text": [
      "Shape of saps_ii: (38628, 23)\n",
      "Shape of saps_ii_dense: (5781, 23)\n"
     ]
    }
   ],
   "source": [
    "# Extract a smaller dataset with no missing features\n",
    "print(\"Shape of saps_ii: {}\".format(np.shape(saps_ii)))\n",
    "num_missing = np.sum(saps_ii[:,5:20]==None,1)\n",
    "saps_ii_dense = saps_ii[num_missing==0]\n",
    "print(\"Shape of saps_ii_dense: {}\".format(np.shape(saps_ii_dense)))\n",
    "print(\"\")"
   ]
  },
  {
   "cell_type": "code",
   "execution_count": 18,
   "metadata": {},
   "outputs": [],
   "source": [
    "# Randomly shuffle the newly created dense dataset\n",
    "saps_ii = np.array(saps_ii_dense)\n",
    "np.random.shuffle(saps_ii_dense)\n",
    "\n",
    "# Split the data into training, validation and test sets as before\n",
    "m = len(saps_ii_dense)\n",
    "train_split, val_split, test_split = m*0.7, m*0.15, m*0.15 # make sure these numbers sum to m*1.0\n",
    "train, val, test = \\\n",
    "    saps_ii_dense[:floor(train_split),:], \\\n",
    "    saps_ii_dense[floor(train_split):floor(train_split+test_split),:], \\\n",
    "    saps_ii_dense[floor(train_split+test_split):,:]\n",
    "\n",
    "# Create input (X) and output (Y) arrays\n",
    "X_train_dense, X_val_dense, X_test_dense = train[:,5:20], val[:,5:20], test[:,5:20]\n",
    "Y_train_dense, Y_val_dense, Y_test_dense = train[:,22], val[:,22], test[:,22]"
   ]
  },
  {
   "cell_type": "code",
   "execution_count": 19,
   "metadata": {},
   "outputs": [
    {
     "name": "stdout",
     "output_type": "stream",
     "text": [
      "No. of patients: 5781\n",
      "No. of patients in train, val, test sets: 4046, 867, 868\n",
      "No. of patients who died in hospital in train, val, test sets: 1018, 220, 225\n",
      "Proportion of patients who died in hospital in train, val, test sets: 25.161%, 25.375%, 25.922%\n"
     ]
    }
   ],
   "source": [
    "# Print information about the created arrays\n",
    "print(\"No. of patients: {}\".format(m))\n",
    "print(\"No. of patients in train, val, test sets: {}, {}, {}\".format(len(X_train_dense), len(X_val_dense), len(X_test_dense)))\n",
    "print(\"No. of patients who died in hospital in train, val, test sets: {}, {}, {}\".format(sum(Y_train_dense), sum(Y_val_dense), sum(Y_test_dense)))\n",
    "print(\"Proportion of patients who died in hospital in train, val, test sets: {}%, {}%, {}%\".format(round(sum(Y_train_dense)/len(Y_train_dense)*100,3), round(sum(Y_val_dense)/len(Y_val_dense)*100,3), round(sum(Y_test_dense)/len(Y_test_dense)*100,3)))"
   ]
  },
  {
   "cell_type": "code",
   "execution_count": 21,
   "metadata": {},
   "outputs": [
    {
     "name": "stdout",
     "output_type": "stream",
     "text": [
      "Saved!\n"
     ]
    }
   ],
   "source": [
    "# Save to data_dense.npy\n",
    "if not os.path.exists('./res'):\n",
    "    os.makedirs('./res')\n",
    "\n",
    "tosave = {'saps_ii_dense': saps_ii_dense, 'X_train_dense': X_train_dense, 'X_val_dense': X_val_dense, 'X_test_dense': X_test_dense, 'Y_train_dense': Y_train_dense, 'Y_val_dense': Y_val_dense, 'Y_test_dense': Y_test_dense}\n",
    "np.save('res/data_dense.npy',tosave)\n",
    "print(\"Saved!\")"
   ]
  },
  {
   "cell_type": "code",
   "execution_count": 35,
   "metadata": {},
   "outputs": [
    {
     "data": {
      "text/plain": [
       "array([0, 0, 0, 0, 0, 0, 0, 0, 0, 1, 0, 0, 0, 1, 0, 0, 0, 1, 0, 1, 1, 0,\n",
       "       0, 1, 1, 0, 0, 0, 0, 0, 0, 0, 0, 0, 0, 0, 0, 0, 0, 0, 0, 0, 0, 0,\n",
       "       0, 1, 0, 0, 0, 0, 0, 0, 0, 0, 0, 0, 0, 0, 0, 0, 0, 0, 1, 0, 0, 0,\n",
       "       0, 0, 0, 0, 0, 0, 0, 0, 1, 0, 1, 0, 0, 0, 0, 0, 0, 0, 0, 0, 0, 0,\n",
       "       0, 0, 0, 0, 0, 0, 0, 0, 0, 0, 0, 0], dtype=object)"
      ]
     },
     "execution_count": 35,
     "metadata": {},
     "output_type": "execute_result"
    }
   ],
   "source": [
    "saps_ii[:100,-1]"
   ]
  },
  {
   "cell_type": "code",
   "execution_count": 64,
   "metadata": {},
   "outputs": [
    {
     "data": {
      "image/png": "[encoded data removed]",
      "text/plain": [
       "<Figure size 432x288 with 1 Axes>"
      ]
     },
     "metadata": {
      "needs_background": "light"
     },
     "output_type": "display_data"
    }
   ],
   "source": [
    "# Filter for patients that have a measurement of PaO2/FiO2\n",
    "PaO2_pos = saps_ii[saps_ii[:,9] != None]\n",
    "PaO2_neg = saps_ii[saps_ii[:,9] == None]\n",
    "\n",
    "# Filter for patients that have a measurement of Bilirubin\n",
    "bili_pos = saps_ii[saps_ii[:,16] != None]\n",
    "bili_neg = saps_ii[saps_ii[:,16] == None]\n",
    "\n",
    "# Calculate mortality rates for patients with/without PaO2/FiO2 measurements\n",
    "mort_PaO2_pos = sum(PaO2_pos[:,-1])/len(PaO2_pos[:,-1]) * 100\n",
    "mort_PaO2_neg = sum(PaO2_neg[:,-1])/len(PaO2_neg[:,-1]) * 100\n",
    "mort_paO2 = [mort_PaO2_pos, mort_PaO2_neg]\n",
    "\n",
    "# Calculate mortality rates for patients with/without Bilirubin measurements\n",
    "mort_bili_pos = sum(bili_pos[:,-1])/len(bili_pos[:,-1]) * 100\n",
    "mort_bili_neg = sum(bili_neg[:,-1])/len(bili_neg[:,-1]) * 100\n",
    "mort_pos = [mort_bili_pos, mort_bili_neg]\n",
    "mort_neg = [mort_PaO2_pos, mort_PaO2_neg]\n",
    "\n",
    "# Plot\n",
    "labels = [\"PaO2/FiO2\", \"Bilirubin\"]\n",
    "x = np.arange(len(labels))\n",
    "width = 0.35\n",
    "mort_pos = [mort_PaO2_pos, mort_bili_pos]\n",
    "mort_neg = [mort_PaO2_neg, mort_bili_neg]\n",
    "fig, ax = plt.subplots()\n",
    "rects1 = ax.bar(x - width/2, mort_pos, width, label='Measurement available')\n",
    "rects2 = ax.bar(x + width/2, mort_neg, width, label='No measurement available')\n",
    "ax.set_ylabel('Mortality (%)')\n",
    "ax.set_title('Mortality by Feature Availability')\n",
    "ax.set_xticks(x)\n",
    "ax.set_xticklabels(labels)\n",
    "ax.legend(bbox_to_anchor=(0.77,-0.08))\n",
    "plt.show()"
   ]
  },
  {
   "cell_type": "code",
   "execution_count": null,
   "metadata": {},
   "outputs": [],
   "source": []
  }
 ],
 "metadata": {
  "kernelspec": {
   "display_name": "Python 3",
   "language": "python",
   "name": "python3"
  },
  "language_info": {
   "codemirror_mode": {
    "name": "ipython",
    "version": 3
   },
   "file_extension": ".py",
   "mimetype": "text/x-python",
   "name": "python",
   "nbconvert_exporter": "python",
   "pygments_lexer": "ipython3",
   "version": "3.7.3"
  }
 },
 "nbformat": 4,
 "nbformat_minor": 4
}
