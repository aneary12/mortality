{
 "cells": [
  {
   "cell_type": "code",
   "execution_count": 2,
   "metadata": {},
   "outputs": [],
   "source": [
    "# Import libraries\n",
    "import numpy as np\n",
    "from math import floor\n",
    "import os.path"
   ]
  },
  {
   "cell_type": "code",
   "execution_count": 3,
   "metadata": {},
   "outputs": [
    {
     "name": "stdout",
     "output_type": "stream",
     "text": [
      "Loaded!\n"
     ]
    }
   ],
   "source": [
    "# load saps_ii as a NumPy array\n",
    "_saps = np.load('res/saps_ii.npy', allow_pickle=True).tolist()\n",
    "saps_ii = _saps['saps_ii']\n",
    "print(\"Loaded!\")"
   ]
  },
  {
   "cell_type": "code",
   "execution_count": 5,
   "metadata": {},
   "outputs": [],
   "source": [
    "# Randomly shuffle the dataset\n",
    "saps_ii = np.array(saps_ii)\n",
    "np.random.shuffle(saps_ii)\n",
    "\n",
    "# Split the data into training, validation and test sets\n",
    "m = len(saps_ii)\n",
    "train_split, val_split, test_split = m*0.7, m*0.15, m*0.15 # make sure these numbers sum to m*1.0\n",
    "train, val, test = \\\n",
    "    saps_ii[:floor(train_split),:], \\\n",
    "    saps_ii[floor(train_split):floor(train_split+test_split),:], \\\n",
    "    saps_ii[floor(train_split+test_split):,:]\n",
    "\n",
    "# Create input (X) and output (Y) arrays\n",
    "X_train, X_val, X_test = train[:,5:20], val[:,5:20], test[:,5:20]\n",
    "Y_train, Y_val, Y_test = train[:,22], val[:,22], test[:,22]"
   ]
  },
  {
   "cell_type": "code",
   "execution_count": 6,
   "metadata": {},
   "outputs": [
    {
     "name": "stdout",
     "output_type": "stream",
     "text": [
      "No. of patients: 38628\n",
      "No. of patients in train, val, test sets: 27039, 5794, 5795\n",
      "No. of patients who died in hospital in train, val, test sets: 3039, 678, 685\n",
      "Proportion of patients who died in hospital in train, val, test sets: 11.239%, 11.702%, 11.821%\n"
     ]
    }
   ],
   "source": [
    "# Print information about the created arrays\n",
    "print(\"No. of patients: {}\".format(m))\n",
    "print(\"No. of patients in train, val, test sets: {}, {}, {}\".format(len(X_train), len(X_val), len(X_test)))\n",
    "print(\"No. of patients who died in hospital in train, val, test sets: {}, {}, {}\".format(sum(Y_train), sum(Y_val), sum(Y_test)))\n",
    "print(\"Proportion of patients who died in hospital in train, val, test sets: {}%, {}%, {}%\".format(round(sum(Y_train)/len(Y_train)*100,3), round(sum(Y_val)/len(Y_val)*100,3), round(sum(Y_test)/len(Y_test)*100,3)))"
   ]
  },
  {
   "cell_type": "code",
   "execution_count": 7,
   "metadata": {},
   "outputs": [
    {
     "name": "stdout",
     "output_type": "stream",
     "text": [
      "Saved!\n"
     ]
    }
   ],
   "source": [
    "# Save to data.npy\n",
    "if not os.path.exists('./res'):\n",
    "    os.makedirs('./res')\n",
    "\n",
    "tosave = {'saps_ii': saps_ii, 'X_train': X_train, 'X_val': X_val, 'X_test': X_test, 'Y_train': Y_train, 'Y_val': Y_val, 'Y_test': Y_test}\n",
    "np.save('res/data.npy',tosave)\n",
    "print(\"Saved!\")"
   ]
  },
  {
   "cell_type": "code",
   "execution_count": null,
   "metadata": {},
   "outputs": [],
   "source": []
  }
 ],
 "metadata": {
  "kernelspec": {
   "display_name": "Python 3",
   "language": "python",
   "name": "python3"
  },
  "language_info": {
   "codemirror_mode": {
    "name": "ipython",
    "version": 3
   },
   "file_extension": ".py",
   "mimetype": "text/x-python",
   "name": "python",
   "nbconvert_exporter": "python",
   "pygments_lexer": "ipython3",
   "version": "3.7.3"
  }
 },
 "nbformat": 4,
 "nbformat_minor": 4
}
