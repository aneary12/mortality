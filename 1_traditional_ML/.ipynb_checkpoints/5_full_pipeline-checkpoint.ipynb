{
 "cells": [
  {
   "cell_type": "code",
   "execution_count": 1,
   "metadata": {},
   "outputs": [],
   "source": [
    "# Import libraries\n",
    "import psycopg2\n",
    "import getpass\n",
    "import numpy as np\n",
    "import matplotlib.pyplot as plt\n",
    "import os.path\n",
    "from math import floor\n",
    "from sklearn.tree import DecisionTreeClassifier\n",
    "from sklearn.linear_model import LogisticRegression\n",
    "from sklearn import metrics\n",
    "import seaborn as sns"
   ]
  },
  {
   "cell_type": "code",
   "execution_count": 2,
   "metadata": {},
   "outputs": [],
   "source": [
    "# Create a database connection\n",
    "user = 'postgres'\n",
    "host = 'localhost'\n",
    "port = '5433'\n",
    "dbname = 'mimic'\n",
    "schema = 'mimiciii'"
   ]
  },
  {
   "cell_type": "code",
   "execution_count": 3,
   "metadata": {},
   "outputs": [
    {
     "name": "stdin",
     "output_type": "stream",
     "text": [
      "Password: ··········\n"
     ]
    },
    {
     "name": "stdout",
     "output_type": "stream",
     "text": [
      "Connected!\n"
     ]
    }
   ],
   "source": [
    "# Connect to the database\n",
    "con = psycopg2.connect(dbname=dbname, user=user, host=host, port=port, \n",
    "                       password=getpass.getpass(prompt='Password:'.format(user)))\n",
    "cur = con.cursor()\n",
    "cur.execute('SET search_path to {}'.format(schema))\n",
    "con.commit()\n",
    "print(\"Connected!\")"
   ]
  },
  {
   "cell_type": "code",
   "execution_count": 4,
   "metadata": {},
   "outputs": [
    {
     "name": "stdout",
     "output_type": "stream",
     "text": [
      "Shape of fulldataset: (37859, 74)\n"
     ]
    }
   ],
   "source": [
    "# Query the database for the full combined dataset, for patients over 18 years old on their first admission\n",
    "query = \\\n",
    "\"\"\"\n",
    "SELECT *\n",
    "FROM fulldataset\n",
    "\"\"\"\n",
    "\n",
    "# Execute the query and fetch the result\n",
    "cur.execute(query)\n",
    "con.commit()\n",
    "data = cur.fetchall()\n",
    "\n",
    "# Store the result of the query as a numpy array\n",
    "fulldataset = np.array(data)\n",
    "fulldataset = fulldataset[:,:-1] # we don't need first_admit_flag because it'll be true for every patient\n",
    "\n",
    "# Quick sanity check\n",
    "print(\"Shape of fulldataset: {}\".format(np.shape(fulldataset)))"
   ]
  },
  {
   "cell_type": "code",
   "execution_count": 5,
   "metadata": {},
   "outputs": [
    {
     "name": "stdout",
     "output_type": "stream",
     "text": [
      "Shape of fulldataset_labels: (74,)\n",
      "Column names: ['subject_id', 'hadm_id', 'icustay_id', 'heartrate_min', 'heartrate_max', 'heartrate_mean', 'sysbp_min', 'sysbp_max', 'sysbp_mean', 'diasbp_min', 'diasbp_max', 'diasbp_mean', 'meanbp_min', 'meanbp_max', 'meanbp_mean', 'resprate_min', 'resprate_max', 'resprate_mean', 'tempc_min', 'tempc_max', 'tempc_mean', 'spo2_min', 'spo2_max', 'spo2_mean', 'glucose_min', 'glucose_max', 'glucose_mean', 'aniongap_min', 'aniongap_max', 'albumin_min', 'albumin_max', 'bands_min', 'bands_max', 'bicarbonate_min', 'bicarbonate_max', 'bilirubin_min', 'bilirubin_max', 'creatinine_min', 'creatinine_max', 'chloride_min', 'chloride_max', 'lab_glucose_min', 'lab_glucose_max', 'hematocrit_min', 'hematocrit_max', 'hemoglobin_min', 'hemoglobin_max', 'lactate_min', 'lactate_max', 'platelet_min', 'platelet_max', 'potassium_min', 'potassium_max', 'ptt_min', 'ptt_max', 'inr_min', 'inr_max', 'pt_min', 'pt_max', 'sodium_min', 'sodium_max', 'bun_min', 'bun_max', 'wbc_min', 'wbc_max', 'urineoutput', 'mingcs', 'gcsmotor', 'gcsverbal', 'gcseyes', 'endotrachflag', 'age', 'los_hours', 'mortality']\n"
     ]
    }
   ],
   "source": [
    "# Query the database for the column names\n",
    "query = \\\n",
    "\"\"\"\n",
    "SELECT attname\n",
    "FROM   pg_attribute\n",
    "WHERE  attrelid = 'fulldataset'::regclass\n",
    "AND    attnum > 0\n",
    "AND    NOT attisdropped\n",
    "ORDER  BY attnum;\n",
    "\"\"\"\n",
    "\n",
    "# Execute the query and fetch the result\n",
    "cur.execute(query)\n",
    "con.commit()\n",
    "data = cur.fetchall()\n",
    "\n",
    "# Store the result of the query as an array\n",
    "fulldataset_labels = []\n",
    "for row in data:\n",
    "    fulldataset_labels.append(row[0])\n",
    "fulldataset_labels = fulldataset_labels[:-1] # we don't need first_admit_flag because it'll be true for every patient\n",
    "\n",
    "# Quick sanity check\n",
    "print(\"Shape of fulldataset_labels: {}\".format(np.shape(fulldataset_labels)))\n",
    "print(\"Column names: {}\".format(fulldataset_labels))"
   ]
  },
  {
   "cell_type": "code",
   "execution_count": 6,
   "metadata": {},
   "outputs": [
    {
     "name": "stdout",
     "output_type": "stream",
     "text": [
      "subject_id: 12\n",
      "hadm_id: 112213\n",
      "icustay_id: 232669\n",
      "heartrate_min: 71.0\n",
      "heartrate_max: 105.0\n",
      "heartrate_mean: 85.8285714285714\n",
      "sysbp_min: 98.0\n",
      "sysbp_max: 165.0\n",
      "sysbp_mean: 128.228571428571\n",
      "diasbp_min: 55.0\n",
      "diasbp_max: 79.0\n",
      "diasbp_mean: 64.8857142857143\n",
      "meanbp_min: 73.0\n",
      "meanbp_max: 110.0\n",
      "meanbp_mean: 88.2\n",
      "resprate_min: 8.0\n",
      "resprate_max: 18.0\n",
      "resprate_mean: 15.2380952380952\n",
      "tempc_min: 35.5000008477105\n",
      "tempc_max: 37.6666683620877\n",
      "tempc_mean: 36.6161620014846\n",
      "spo2_min: 94.0\n",
      "spo2_max: 100.0\n",
      "spo2_mean: 96.4838709677419\n",
      "glucose_min: 79.0\n",
      "glucose_max: 191.0\n",
      "glucose_mean: 138.28\n",
      "aniongap_min: 11.0\n",
      "aniongap_max: 28.0\n",
      "albumin_min: None\n",
      "albumin_max: None\n",
      "bands_min: None\n",
      "bands_max: None\n",
      "bicarbonate_min: 11.0\n",
      "bicarbonate_max: 25.0\n",
      "bilirubin_min: None\n",
      "bilirubin_max: None\n",
      "creatinine_min: 1.3\n",
      "creatinine_max: 1.7\n",
      "chloride_min: 111.0\n",
      "chloride_max: 113.0\n",
      "lab_glucose_min: 88.0\n",
      "lab_glucose_max: 191.0\n",
      "hematocrit_min: 23.0\n",
      "hematocrit_max: 39.4\n",
      "hemoglobin_min: 7.8\n",
      "hemoglobin_max: 13.3\n",
      "lactate_min: 2.0\n",
      "lactate_max: 15.1\n",
      "platelet_min: 51.0\n",
      "platelet_max: 156.0\n",
      "potassium_min: 3.4\n",
      "potassium_max: 5.1\n",
      "ptt_min: 36.0\n",
      "ptt_max: 82.7\n",
      "inr_min: 1.2\n",
      "inr_max: 1.8\n",
      "pt_min: 13.4\n",
      "pt_max: 16.8\n",
      "sodium_min: 138.0\n",
      "sodium_max: 145.0\n",
      "bun_min: 28.0\n",
      "bun_max: 39.0\n",
      "wbc_min: 7.8\n",
      "wbc_max: 8.4\n",
      "urineoutput: 1425.0\n",
      "mingcs: 15.0\n",
      "gcsmotor: 5.0\n",
      "gcsverbal: 0.0\n",
      "gcseyes: 3.0\n",
      "endotrachflag: 1\n",
      "age: 72.37\n",
      "los_hours: 183.235555555556\n",
      "mortality: 1\n"
     ]
    }
   ],
   "source": [
    "# Print example for one patient\n",
    "num_features = len(fulldataset_labels)\n",
    "patient = 5\n",
    "for i in range(num_features):\n",
    "    print(\"{}: {}\".format(fulldataset_labels[i], fulldataset[patient][i]))"
   ]
  },
  {
   "cell_type": "code",
   "execution_count": 7,
   "metadata": {},
   "outputs": [
    {
     "name": "stdout",
     "output_type": "stream",
     "text": [
      "Features with more than 10% missing values:\n",
      "albumin_min: 64.64% (24472/37859)\n",
      "albumin_max: 64.64% (24472/37859)\n",
      "bands_min: 88.8% (33620/37859)\n",
      "bands_max: 88.8% (33620/37859)\n",
      "bilirubin_min: 57.16% (21642/37859)\n",
      "bilirubin_max: 57.16% (21642/37859)\n",
      "lactate_min: 42.19% (15971/37859)\n",
      "lactate_max: 42.19% (15971/37859)\n",
      "ptt_min: 11.02% (4172/37859)\n",
      "ptt_max: 11.02% (4172/37859)\n",
      "inr_min: 10.76% (4072/37859)\n",
      "inr_max: 10.76% (4072/37859)\n",
      "pt_min: 10.77% (4078/37859)\n",
      "pt_max: 10.77% (4078/37859)\n"
     ]
    }
   ],
   "source": [
    "# Calculate the amount of missing data for each feature\n",
    "data = fulldataset[:,3:]\n",
    "labels = fulldataset_labels[3:]\n",
    "num_missing = np.sum(data==None,0)\n",
    "m = len(data)\n",
    "pct_missing = num_missing/m * 100\n",
    "print(\"Features with more than 10% missing values:\")\n",
    "for feature in range(len(labels)):\n",
    "    if round(pct_missing[feature],2) >= 10:\n",
    "        print('{}: {}% ({}/{})'.format(labels[feature], round(pct_missing[feature],2), num_missing[feature], m))"
   ]
  },
  {
   "cell_type": "code",
   "execution_count": 8,
   "metadata": {},
   "outputs": [
    {
     "name": "stdout",
     "output_type": "stream",
     "text": [
      "Patients with 0% to 10% of features missing: 66.61% (25218/37859)\n",
      "Patients with 10% to 20% of features missing: 31.85% (12059/37859)\n",
      "Patients with 20% to 30% of features missing: 0.67% (252/37859)\n",
      "Patients with 30% to 40% of features missing: 0.29% (110/37859)\n",
      "Patients with 40% to 50% of features missing: 0.15% (56/37859)\n",
      "Patients with 50% to 60% of features missing: 0.41% (154/37859)\n",
      "Patients with 60% to 70% of features missing: 0.03% (10/37859)\n",
      "Patients with 70% to 80% of features missing: 0.0% (0/37859)\n",
      "Patients with 80% to 90% of features missing: 0.0% (0/37859)\n",
      "Patients with 90% to 100% of features missing: 0.0% (0/37859)\n"
     ]
    }
   ],
   "source": [
    "# Calculate how much data is missing for each patient (as a percentage)\n",
    "num_missing = np.sum(data==None,1)\n",
    "num_features = len(labels)\n",
    "pct_missing = num_missing/num_features * 100\n",
    "bins = [10, 20, 30, 40, 50, 60, 70, 80, 90, 100]\n",
    "diff = bins[2] - bins[1]\n",
    "for num in bins:\n",
    "    print(\"Patients with {}% to {}% of features missing: {}% ({}/{})\".format(num-diff, num, round((sum(pct_missing<num)-sum(pct_missing<(num-diff)))/m*100,2), sum(pct_missing<num)-sum(pct_missing<(num-diff)), m))"
   ]
  },
  {
   "cell_type": "code",
   "execution_count": 9,
   "metadata": {},
   "outputs": [
    {
     "name": "stdout",
     "output_type": "stream",
     "text": [
      "Patients with 0 features missing: 5.27% (1997/37859)\n",
      "Patients with 1 feature missing: 0.05% (18/37859)\n",
      "Patients with 2 features missing: 16.44% (6224/37859)\n",
      "Patients with 3 features missing: 0.18% (70/37859)\n",
      "Patients with 4 features missing: 17.17% (6501/37859)\n",
      "Patients with 5 features missing: 0.52% (196/37859)\n",
      "Patients with 6 features missing: 26.37% (9984/37859)\n",
      "Patients with 7 features missing: 0.6% (228/37859)\n",
      "Patients with 8 features missing: 19.68% (7450/37859)\n",
      "Patients with 9 features missing: 1.48% (559/37859)\n",
      "Patients with 10 features missing: 2.74% (1038/37859)\n",
      "Patients with 11 features missing: 0.46% (175/37859)\n",
      "Patients with 12 features missing: 3.3% (1250/37859)\n",
      "Patients with 13 features missing: 0.22% (85/37859)\n",
      "Patients with 14 features missing: 3.97% (1502/37859)\n",
      "Patients with 15 features missing: 0.13% (49/37859)\n",
      "Patients with 16 features missing: 0.17% (64/37859)\n",
      "Patients with 17 features missing: 0.13% (50/37859)\n",
      "Patients with 18 features missing: 0.12% (44/37859)\n",
      "Patients with 19 features missing: 0.01% (5/37859)\n",
      "Patients with 20 features missing: 0.09% (35/37859)\n",
      "Patients with 21 features missing: 0.01% (5/37859)\n",
      "Patients with 22 features missing: 0.09% (35/37859)\n",
      "Patients with 23 features missing: 0.03% (10/37859)\n",
      "Patients with 24 features missing: 0.09% (33/37859)\n",
      "Patients with 25 features missing: 0.02% (8/37859)\n",
      "Patients with 26 features missing: 0.01% (4/37859)\n",
      "Patients with 27 features missing: 0.02% (9/37859)\n",
      "Patients with 28 features missing: 0.03% (11/37859)\n",
      "Patients with 29 features missing: 0.03% (11/37859)\n",
      "Patients with 30 features missing: 0.01% (4/37859)\n",
      "Patients with 31 features missing: 0.03% (13/37859)\n",
      "Patients with 32 features missing: 0.01% (3/37859)\n",
      "Patients with 33 features missing: 0.03% (12/37859)\n",
      "Patients with 34 features missing: 0.02% (7/37859)\n",
      "Patients with 35 features missing: 0.02% (6/37859)\n",
      "Patients with 36 features missing: 0.01% (4/37859)\n",
      "Patients with 37 features missing: 0.01% (4/37859)\n",
      "Patients with 38 features missing: 0.18% (68/37859)\n",
      "Patients with 39 features missing: 0.04% (14/37859)\n",
      "Patients with 40 features missing: 0.0% (1/37859)\n",
      "Patients with 41 features missing: 0.16% (62/37859)\n",
      "Patients with 42 features missing: 0.0% (1/37859)\n",
      "Patients with 43 features missing: 0.01% (4/37859)\n",
      "Patients with 44 features missing: 0.01% (5/37859)\n",
      "Patients with 45 features missing: 0.0% (1/37859)\n",
      "Patients with 46 features missing: 0.0% (0/37859)\n",
      "Patients with 47 features missing: 0.0% (0/37859)\n",
      "Patients with 48 features missing: 0.0% (0/37859)\n",
      "Patients with 49 features missing: 0.0% (0/37859)\n",
      "Patients with 50 features missing: 0.0% (0/37859)\n",
      "Patients with 51 features missing: 0.0% (0/37859)\n",
      "Patients with 52 features missing: 0.0% (0/37859)\n",
      "Patients with 53 features missing: 0.0% (0/37859)\n",
      "Patients with 54 features missing: 0.0% (0/37859)\n",
      "Patients with 55 features missing: 0.0% (0/37859)\n",
      "Patients with 56 features missing: 0.0% (0/37859)\n",
      "Patients with 57 features missing: 0.0% (0/37859)\n",
      "Patients with 58 features missing: 0.0% (0/37859)\n",
      "Patients with 59 features missing: 0.0% (0/37859)\n",
      "Patients with 60 features missing: 0.0% (0/37859)\n",
      "Patients with 61 features missing: 0.0% (0/37859)\n",
      "Patients with 62 features missing: 0.0% (0/37859)\n",
      "Patients with 63 features missing: 0.0% (0/37859)\n",
      "Patients with 64 features missing: 0.0% (0/37859)\n",
      "Patients with 65 features missing: 0.0% (0/37859)\n",
      "Patients with 66 features missing: 0.0% (0/37859)\n",
      "Patients with 67 features missing: 0.0% (0/37859)\n",
      "Patients with 68 features missing: 0.0% (0/37859)\n",
      "Patients with 69 features missing: 0.0% (0/37859)\n",
      "Patients with 70 features missing: 0.0% (0/37859)\n",
      "Patients with 71 features missing: 0.0% (0/37859)\n"
     ]
    }
   ],
   "source": [
    "# Calculate how much data is missing for each patient (by no. of features)\n",
    "bins = np.array(range(num_features+1))\n",
    "for num in bins:\n",
    "    diff = bins[2] - bins[1]\n",
    "    print(\"Patients with {} feature{} missing: {}% ({}/{})\".format(num, \"\" if num==1 else \"s\", round(sum(num_missing==num)/m*100,2), sum(num_missing==num), m))"
   ]
  },
  {
   "cell_type": "code",
   "execution_count": 10,
   "metadata": {},
   "outputs": [
    {
     "data": {
      "image/png": "[encoded data removed]",
      "text/plain": [
       "<Figure size 1296x432 with 1 Axes>"
      ]
     },
     "metadata": {
      "needs_background": "light"
     },
     "output_type": "display_data"
    }
   ],
   "source": [
    "# Plot bar chart to illustrate missing data\n",
    "x = np.arange(len(fulldataset_labels[3:]))\n",
    "num_missing = np.sum(data==None,0)\n",
    "m = len(data)\n",
    "pct_missing = num_missing/m * 100\n",
    "cleaned_x = x[pct_missing<10]\n",
    "cleaned_labels = []\n",
    "for i in range(len(cleaned_x)):\n",
    "    cleaned_labels.append(labels[cleaned_x[i]])\n",
    "cleaned_pct_missing = pct_missing[pct_missing<10]\n",
    "fig = plt.figure(figsize=(18,6))\n",
    "plt.bar(x, pct_missing)\n",
    "plt.xticks(x, labels, rotation='vertical')\n",
    "plt.show()"
   ]
  },
  {
   "cell_type": "code",
   "execution_count": 11,
   "metadata": {},
   "outputs": [
    {
     "name": "stdout",
     "output_type": "stream",
     "text": [
      "Patients with 0 features missing: 92.37% (34969/37859)\n",
      "Patients with 1 feature missing: 0.72% (271/37859)\n",
      "Patients with 2 features missing: 2.05% (775/37859)\n",
      "Patients with 3 features missing: 2.74% (1037/37859)\n",
      "Patients with 4 features missing: 0.38% (145/37859)\n",
      "Patients with 5 features missing: 0.14% (53/37859)\n",
      "Patients with 6 features missing: 0.27% (103/37859)\n",
      "Patients with 7 features missing: 0.16% (62/37859)\n",
      "Patients with 8 features missing: 0.28% (105/37859)\n",
      "Patients with 9 features missing: 0.03% (11/37859)\n",
      "Patients with 10 features missing: 0.13% (48/37859)\n",
      "Patients with 11 features missing: 0.03% (13/37859)\n",
      "Patients with 12 features missing: 0.03% (12/37859)\n",
      "Patients with 13 features missing: 0.01% (2/37859)\n",
      "Patients with 14 features missing: 0.03% (12/37859)\n",
      "Patients with 15 features missing: 0.03% (11/37859)\n",
      "Patients with 16 features missing: 0.01% (5/37859)\n",
      "Patients with 17 features missing: 0.05% (20/37859)\n",
      "Patients with 18 features missing: 0.0% (0/37859)\n",
      "Patients with 19 features missing: 0.04% (16/37859)\n",
      "Patients with 20 features missing: 0.02% (7/37859)\n",
      "Patients with 21 features missing: 0.01% (5/37859)\n",
      "Patients with 22 features missing: 0.01% (4/37859)\n",
      "Patients with 23 features missing: 0.02% (6/37859)\n",
      "Patients with 24 features missing: 0.19% (72/37859)\n",
      "Patients with 25 features missing: 0.03% (11/37859)\n",
      "Patients with 26 features missing: 0.01% (2/37859)\n",
      "Patients with 27 features missing: 0.19% (71/37859)\n",
      "Patients with 28 features missing: 0.0% (0/37859)\n",
      "Patients with 29 features missing: 0.01% (4/37859)\n",
      "Patients with 30 features missing: 0.02% (6/37859)\n",
      "Patients with 31 features missing: 0.0% (1/37859)\n",
      "Patients with 32 features missing: 0.0% (0/37859)\n",
      "Patients with 33 features missing: 0.0% (0/37859)\n",
      "Patients with 34 features missing: 0.0% (0/37859)\n",
      "Patients with 35 features missing: 0.0% (0/37859)\n",
      "Patients with 36 features missing: 0.0% (0/37859)\n",
      "Patients with 37 features missing: 0.0% (0/37859)\n",
      "Patients with 38 features missing: 0.0% (0/37859)\n",
      "Patients with 39 features missing: 0.0% (0/37859)\n",
      "Patients with 40 features missing: 0.0% (0/37859)\n",
      "Patients with 41 features missing: 0.0% (0/37859)\n",
      "Patients with 42 features missing: 0.0% (0/37859)\n",
      "Patients with 43 features missing: 0.0% (0/37859)\n",
      "Patients with 44 features missing: 0.0% (0/37859)\n",
      "Patients with 45 features missing: 0.0% (0/37859)\n",
      "Patients with 46 features missing: 0.0% (0/37859)\n",
      "Patients with 47 features missing: 0.0% (0/37859)\n",
      "Patients with 48 features missing: 0.0% (0/37859)\n",
      "Patients with 49 features missing: 0.0% (0/37859)\n",
      "Patients with 50 features missing: 0.0% (0/37859)\n",
      "Patients with 51 features missing: 0.0% (0/37859)\n",
      "Patients with 52 features missing: 0.0% (0/37859)\n",
      "Patients with 53 features missing: 0.0% (0/37859)\n",
      "Patients with 54 features missing: 0.0% (0/37859)\n",
      "Patients with 55 features missing: 0.0% (0/37859)\n",
      "Patients with 56 features missing: 0.0% (0/37859)\n",
      "Patients with 57 features missing: 0.0% (0/37859)\n"
     ]
    }
   ],
   "source": [
    "# Remove all features with >10% missing data\n",
    "cleaned_data = data[:,pct_missing<=10]\n",
    "\n",
    "# Calculate how much data is missing for each patient (by no. of features)\n",
    "num_missing = np.sum(cleaned_data==None,1)\n",
    "num_features = len(cleaned_labels)\n",
    "bins = np.array(range(num_features+1))\n",
    "for num in bins:\n",
    "    diff = bins[2] - bins[1]\n",
    "    print(\"Patients with {} feature{} missing: {}% ({}/{})\".format(num, \"\" if num==1 else \"s\", round(sum(num_missing==num)/m*100,2), sum(num_missing==num), m))"
   ]
  },
  {
   "cell_type": "code",
   "execution_count": 12,
   "metadata": {},
   "outputs": [],
   "source": [
    "# Extract a dense dataset and split into test and train sets\n",
    "dense_data = cleaned_data[num_missing==0,:]\n",
    "\n",
    "# Randomly shuffle the newly created dense dataset\n",
    "np.random.shuffle(dense_data)\n",
    "\n",
    "# Split the data into training and test set\n",
    "m = len(dense_data)\n",
    "train_split, test_split = m*0.85, m*0.15 # make sure these numbers sum to m*1.0\n",
    "train, test = \\\n",
    "    dense_data[:floor(train_split),:], \\\n",
    "    dense_data[floor(train_split):,:]\n",
    "\n",
    "# Create input (X) and output (Y) arrays\n",
    "X_train_dense, X_test_dense = train[:,:-1], test[:,:-1]\n",
    "Y_train_dense, Y_test_dense = train[:,-1], test[:,-1]"
   ]
  },
  {
   "cell_type": "code",
   "execution_count": 13,
   "metadata": {},
   "outputs": [
    {
     "name": "stdout",
     "output_type": "stream",
     "text": [
      "No. of patients: 34969\n",
      "No. of features: 56\n",
      "No. of patients in train and test sets: 29723, 5246\n",
      "No. of patients who died in hospital in train and test sets: 3230, 582\n",
      "Proportion of patients who died in hospital in train and test sets: 10.867%, 11.094%\n"
     ]
    }
   ],
   "source": [
    "# Print information about the created arrays\n",
    "print(\"No. of patients: {}\".format(len(dense_data)))\n",
    "print(\"No. of features: {}\".format(X_train_dense.shape[1]))\n",
    "print(\"No. of patients in train and test sets: {}, {}\".format(len(X_train_dense), len(X_test_dense)))\n",
    "print(\"No. of patients who died in hospital in train and test sets: {}, {}\".format(sum(Y_train_dense), sum(Y_test_dense)))\n",
    "print(\"Proportion of patients who died in hospital in train and test sets: {}%, {}%\".format(round(sum(Y_train_dense)/len(Y_train_dense)*100,3), round(sum(Y_test_dense)/len(Y_test_dense)*100,3)))"
   ]
  },
  {
   "cell_type": "code",
   "execution_count": 14,
   "metadata": {},
   "outputs": [],
   "source": [
    "# Convert all data to floats\n",
    "X_train_dense = X_train_dense.astype(float)\n",
    "Y_train_dense = Y_train_dense.astype(float)\n",
    "X_test_dense = X_test_dense.astype(float)\n",
    "Y_test_dense = Y_test_dense.astype(float)"
   ]
  },
  {
   "cell_type": "code",
   "execution_count": 15,
   "metadata": {},
   "outputs": [],
   "source": [
    "# Create decision tree classifer object\n",
    "decisionTree = DecisionTreeClassifier()\n",
    "\n",
    "# Train decision tree classifer\n",
    "decisionTree = decisionTree.fit(X_train_dense,Y_train_dense)\n",
    "\n",
    "# Predict the response for test dataset\n",
    "Y_pred = decisionTree.predict(X_test_dense)"
   ]
  },
  {
   "cell_type": "code",
   "execution_count": 16,
   "metadata": {},
   "outputs": [
    {
     "name": "stdout",
     "output_type": "stream",
     "text": [
      "Metrics for decision tree classifier:\n",
      "\n",
      "              precision    recall  f1-score   support\n",
      "\n",
      "    Survived       0.92      0.92      0.92      4664\n",
      "        Died       0.37      0.38      0.38       582\n",
      "\n",
      "    accuracy                           0.86      5246\n",
      "   macro avg       0.65      0.65      0.65      5246\n",
      "weighted avg       0.86      0.86      0.86      5246\n",
      "\n"
     ]
    }
   ],
   "source": [
    "# Show metrics for decision tree classifier\n",
    "print(\"Metrics for decision tree classifier:\")\n",
    "print(\"\")\n",
    "print(metrics.classification_report(Y_test_dense, Y_pred, target_names = [\"Survived\", \"Died\"]))"
   ]
  },
  {
   "cell_type": "code",
   "execution_count": 17,
   "metadata": {},
   "outputs": [
    {
     "name": "stdout",
     "output_type": "stream",
     "text": [
      "AUROC for decision tree classifier:\n",
      "\n",
      "0.6503056975119803\n"
     ]
    }
   ],
   "source": [
    "# Show AUROC for decision tree classifier\n",
    "print(\"AUROC for decision tree classifier:\")\n",
    "print(\"\")\n",
    "print(metrics.roc_auc_score(Y_test_dense, Y_pred))"
   ]
  },
  {
   "cell_type": "code",
   "execution_count": 18,
   "metadata": {},
   "outputs": [],
   "source": [
    "# Create logistic regression classifer object\n",
    "logisticRegr = LogisticRegression(solver = \"liblinear\", max_iter = 10000)\n",
    "\n",
    "# Train logistic regression classifer\n",
    "logisticRegr.fit(X_train_dense, Y_train_dense)\n",
    "\n",
    "# Predict the response for test dataset\n",
    "Y_pred = logisticRegr.predict(X_test_dense)"
   ]
  },
  {
   "cell_type": "code",
   "execution_count": 19,
   "metadata": {},
   "outputs": [
    {
     "name": "stdout",
     "output_type": "stream",
     "text": [
      "Metrics for logistic regression classifier:\n",
      "\n",
      "              precision    recall  f1-score   support\n",
      "\n",
      "    Survived       0.91      0.98      0.95      4664\n",
      "        Died       0.67      0.26      0.38       582\n",
      "\n",
      "    accuracy                           0.90      5246\n",
      "   macro avg       0.79      0.62      0.66      5246\n",
      "weighted avg       0.89      0.90      0.88      5246\n",
      "\n"
     ]
    }
   ],
   "source": [
    "# Show metrics for logistic regression classifier\n",
    "print(\"Metrics for logistic regression classifier:\")\n",
    "print(\"\")\n",
    "print(metrics.classification_report(Y_test_dense, Y_pred, target_names = [\"Survived\", \"Died\"]))"
   ]
  },
  {
   "cell_type": "code",
   "execution_count": 20,
   "metadata": {},
   "outputs": [
    {
     "name": "stdout",
     "output_type": "stream",
     "text": [
      "AUROC for logistic regression classifier:\n",
      "\n",
      "0.6241548926337878\n"
     ]
    }
   ],
   "source": [
    "# Show AUROC for logistic regression classifier\n",
    "print(\"AUROC for logistic regression classifier:\")\n",
    "print(\"\")\n",
    "print(metrics.roc_auc_score(Y_test_dense, Y_pred))"
   ]
  },
  {
   "cell_type": "code",
   "execution_count": 21,
   "metadata": {},
   "outputs": [
    {
     "name": "stdout",
     "output_type": "stream",
     "text": [
      "(3812, 57)\n",
      "(3812, 57)\n",
      "(7624, 57)\n"
     ]
    }
   ],
   "source": [
    "# Resample a balanced dataset\n",
    "survived = dense_data[dense_data[:,-1]==0]\n",
    "died = dense_data[dense_data[:,-1]==1]\n",
    "\n",
    "np.random.shuffle(survived)\n",
    "\n",
    "survived = survived[:len(died),:]\n",
    "\n",
    "data = np.concatenate((survived,died))\n",
    "\n",
    "print(np.shape(survived))\n",
    "print(np.shape(died))\n",
    "print(np.shape(data))"
   ]
  },
  {
   "cell_type": "code",
   "execution_count": 22,
   "metadata": {},
   "outputs": [],
   "source": [
    "# Randomly shuffle the newly created dense dataset\n",
    "np.random.shuffle(data)\n",
    "\n",
    "# Split the data into training and test set\n",
    "m = len(data)\n",
    "train_split, test_split = m*0.85, m*0.15 # make sure these numbers sum to m*1.0\n",
    "train, test = \\\n",
    "    data[:floor(train_split),:], \\\n",
    "    data[floor(train_split):,:]\n",
    "\n",
    "# Create input (X) and output (Y) arrays\n",
    "X_train_dense, X_test_dense = train[:,:-1], test[:,:-1]\n",
    "Y_train_dense, Y_test_dense = train[:,-1], test[:,-1]"
   ]
  },
  {
   "cell_type": "code",
   "execution_count": 23,
   "metadata": {},
   "outputs": [
    {
     "name": "stdout",
     "output_type": "stream",
     "text": [
      "No. of patients: 7624\n",
      "No. of features: 56\n",
      "No. of patients in train and test sets: 6480, 1144\n",
      "No. of patients who died in hospital in train and test sets: 3223, 589\n",
      "Proportion of patients who died in hospital in train and test sets: 49.738%, 51.486%\n"
     ]
    }
   ],
   "source": [
    "# Print information about the created arrays\n",
    "print(\"No. of patients: {}\".format(len(data)))\n",
    "print(\"No. of features: {}\".format(X_train_dense.shape[1]))\n",
    "print(\"No. of patients in train and test sets: {}, {}\".format(len(X_train_dense), len(X_test_dense)))\n",
    "print(\"No. of patients who died in hospital in train and test sets: {}, {}\".format(sum(Y_train_dense), sum(Y_test_dense)))\n",
    "print(\"Proportion of patients who died in hospital in train and test sets: {}%, {}%\".format(round(sum(Y_train_dense)/len(Y_train_dense)*100,3), round(sum(Y_test_dense)/len(Y_test_dense)*100,3)))"
   ]
  },
  {
   "cell_type": "code",
   "execution_count": 24,
   "metadata": {},
   "outputs": [],
   "source": [
    "# Convert all data to floats\n",
    "X_train_dense = X_train_dense.astype(float)\n",
    "Y_train_dense = Y_train_dense.astype(float)\n",
    "X_test_dense = X_test_dense.astype(float)\n",
    "Y_test_dense = Y_test_dense.astype(float)"
   ]
  },
  {
   "cell_type": "code",
   "execution_count": 25,
   "metadata": {},
   "outputs": [],
   "source": [
    "# Create decision tree classifer object\n",
    "decisionTree = DecisionTreeClassifier()\n",
    "\n",
    "# Train decision tree classifer\n",
    "decisionTree = decisionTree.fit(X_train_dense,Y_train_dense)\n",
    "\n",
    "# Predict the response for test dataset\n",
    "Y_pred = decisionTree.predict(X_test_dense)"
   ]
  },
  {
   "cell_type": "code",
   "execution_count": 26,
   "metadata": {},
   "outputs": [
    {
     "name": "stdout",
     "output_type": "stream",
     "text": [
      "Metrics for decision tree classifier:\n",
      "\n",
      "              precision    recall  f1-score   support\n",
      "\n",
      "    Survived       0.69      0.74      0.71       555\n",
      "        Died       0.74      0.68      0.71       589\n",
      "\n",
      "    accuracy                           0.71      1144\n",
      "   macro avg       0.71      0.71      0.71      1144\n",
      "weighted avg       0.71      0.71      0.71      1144\n",
      "\n"
     ]
    }
   ],
   "source": [
    "# Show metrics for decision tree classifier\n",
    "print(\"Metrics for decision tree classifier:\")\n",
    "print(\"\")\n",
    "print(metrics.classification_report(Y_test_dense, Y_pred, target_names = [\"Survived\", \"Died\"]))"
   ]
  },
  {
   "cell_type": "code",
   "execution_count": 27,
   "metadata": {},
   "outputs": [
    {
     "name": "stdout",
     "output_type": "stream",
     "text": [
      "AUROC for decision tree classifier:\n",
      "\n",
      "0.7098288441242601\n"
     ]
    }
   ],
   "source": [
    "# Show AUROC for decision tree classifier\n",
    "print(\"AUROC for decision tree classifier:\")\n",
    "print(\"\")\n",
    "print(metrics.roc_auc_score(Y_test_dense, Y_pred))"
   ]
  },
  {
   "cell_type": "code",
   "execution_count": 28,
   "metadata": {},
   "outputs": [],
   "source": [
    "# Create logistic regression classifer object\n",
    "logisticRegr = LogisticRegression(solver = \"liblinear\", max_iter = 10000)\n",
    "\n",
    "# Train logistic regression classifer\n",
    "logisticRegr.fit(X_train_dense, Y_train_dense)\n",
    "\n",
    "# Predict the response for test dataset\n",
    "Y_pred = logisticRegr.predict(X_test_dense)"
   ]
  },
  {
   "cell_type": "code",
   "execution_count": 29,
   "metadata": {},
   "outputs": [
    {
     "name": "stdout",
     "output_type": "stream",
     "text": [
      "Metrics for logistic regression classifier:\n",
      "\n",
      "              precision    recall  f1-score   support\n",
      "\n",
      "    Survived       0.75      0.81      0.78       555\n",
      "        Died       0.81      0.75      0.77       589\n",
      "\n",
      "    accuracy                           0.78      1144\n",
      "   macro avg       0.78      0.78      0.78      1144\n",
      "weighted avg       0.78      0.78      0.78      1144\n",
      "\n"
     ]
    }
   ],
   "source": [
    "# Show metrics for logistic regression classifier\n",
    "print(\"Metrics for logistic regression classifier:\")\n",
    "print(\"\")\n",
    "print(metrics.classification_report(Y_test_dense, Y_pred, target_names = [\"Survived\", \"Died\"]))"
   ]
  },
  {
   "cell_type": "code",
   "execution_count": 30,
   "metadata": {},
   "outputs": [
    {
     "name": "stdout",
     "output_type": "stream",
     "text": [
      "AUROC for logistic regression classifier:\n",
      "\n",
      "0.7780709402101592\n"
     ]
    }
   ],
   "source": [
    "# Show AUROC for logistic regression classifier\n",
    "print(\"AUROC for logistic regression classifier:\")\n",
    "print(\"\")\n",
    "print(metrics.roc_auc_score(Y_test_dense, Y_pred))"
   ]
  },
  {
   "cell_type": "code",
   "execution_count": 31,
   "metadata": {},
   "outputs": [
    {
     "data": {
      "text/plain": [
       "array([[450, 105],\n",
       "       [150, 439]], dtype=int64)"
      ]
     },
     "execution_count": 31,
     "metadata": {},
     "output_type": "execute_result"
    }
   ],
   "source": [
    "metrics.confusion_matrix(Y_test_dense, Y_pred)"
   ]
  },
  {
   "cell_type": "code",
   "execution_count": null,
   "metadata": {},
   "outputs": [],
   "source": []
  }
 ],
 "metadata": {
  "kernelspec": {
   "display_name": "Python 3",
   "language": "python",
   "name": "python3"
  },
  "language_info": {
   "codemirror_mode": {
    "name": "ipython",
    "version": 3
   },
   "file_extension": ".py",
   "mimetype": "text/x-python",
   "name": "python",
   "nbconvert_exporter": "python",
   "pygments_lexer": "ipython3",
   "version": "3.7.3"
  }
 },
 "nbformat": 4,
 "nbformat_minor": 4
}
