{
 "cells": [
  {
   "cell_type": "code",
   "execution_count": 1,
   "metadata": {},
   "outputs": [],
   "source": [
    "# Import libraries\n",
    "import psycopg2\n",
    "import getpass\n",
    "import numpy as np\n",
    "import os.path"
   ]
  },
  {
   "cell_type": "code",
   "execution_count": 2,
   "metadata": {},
   "outputs": [],
   "source": [
    "# Create a database connection\n",
    "user = 'postgres'\n",
    "host = 'localhost'\n",
    "port = '5433'\n",
    "dbname = 'mimic'\n",
    "schema = 'mimiciii'"
   ]
  },
  {
   "cell_type": "code",
   "execution_count": 3,
   "metadata": {},
   "outputs": [
    {
     "name": "stdin",
     "output_type": "stream",
     "text": [
      "Password: ··········\n"
     ]
    },
    {
     "name": "stdout",
     "output_type": "stream",
     "text": [
      "Connected!\n"
     ]
    }
   ],
   "source": [
    "# Connect to the database\n",
    "con = psycopg2.connect(dbname=dbname, user=user, host=host, port=port, \n",
    "                       password=getpass.getpass(prompt='Password:'.format(user)))\n",
    "cur = con.cursor()\n",
    "cur.execute('SET search_path to {}'.format(schema))\n",
    "con.commit()\n",
    "print(\"Connected!\")"
   ]
  },
  {
   "cell_type": "code",
   "execution_count": 4,
   "metadata": {},
   "outputs": [
    {
     "name": "stdout",
     "output_type": "stream",
     "text": [
      "Loaded!\n"
     ]
    }
   ],
   "source": [
    "# load admission_ids\n",
    "_adm = np.load('res/admission_ids.npy', allow_pickle=True).tolist()\n",
    "admission_ids = _adm['admission_ids']\n",
    "print(\"Loaded!\")"
   ]
  },
  {
   "cell_type": "code",
   "execution_count": 5,
   "metadata": {},
   "outputs": [
    {
     "name": "stdout",
     "output_type": "stream",
     "text": [
      "There are 3216 item IDs in the INPUTEVENTS tables.\n"
     ]
    }
   ],
   "source": [
    "# Item IDs from INPUTEVENTS\n",
    "# CareVue Item IDs are in the range (30000, 49999)\n",
    "# MetaVision Item IDs are all >=200000\n",
    "query = \\\n",
    "'''\n",
    "WITH input_itemids AS (\n",
    "        SELECT DISTINCT itemid\n",
    "        FROM inputevents_mv\n",
    "        WHERE itemid >= 200000\n",
    "        UNION\n",
    "        SELECT DISTINCT itemid\n",
    "        FROM inputevents_cv\n",
    "        WHERE itemid >= 30000 AND itemid <= 49999\n",
    "    )\n",
    "SELECT DISTINCT itemid\n",
    "FROM input_itemids\n",
    "'''\n",
    "cur = con.cursor()\n",
    "cur.execute(query)\n",
    "data = cur.fetchall()\n",
    "\n",
    "input_itemid = []\n",
    "for row in data:\n",
    "    input_itemid.append(row[0])\n",
    "\n",
    "print(\"There are {} item IDs in the INPUTEVENTS tables.\".format(len(input_itemid)))"
   ]
  },
  {
   "cell_type": "code",
   "execution_count": 6,
   "metadata": {},
   "outputs": [
    {
     "name": "stdout",
     "output_type": "stream",
     "text": [
      "There are 1155 item IDs in the OUTPUTEVENTS table.\n"
     ]
    }
   ],
   "source": [
    "# Item IDs from OUTPUTEVENTS\n",
    "query = \\\n",
    "'''\n",
    "SELECT DISTINCT itemid\n",
    "FROM outputevents\n",
    "'''\n",
    "cur = con.cursor()\n",
    "cur.execute(query)\n",
    "data = cur.fetchall()\n",
    "\n",
    "output_itemid = []\n",
    "for row in data:\n",
    "    output_itemid.append(row[0])\n",
    "\n",
    "print(\"There are {} item IDs in the OUTPUTEVENTS table.\".format(len(output_itemid)))"
   ]
  },
  {
   "cell_type": "code",
   "execution_count": 7,
   "metadata": {},
   "outputs": [
    {
     "name": "stdout",
     "output_type": "stream",
     "text": [
      "There are 6463 item IDs in the CHARTEVENTS table.\n"
     ]
    }
   ],
   "source": [
    "# Item IDs from CHARTEVENTS\n",
    "query = \\\n",
    "'''\n",
    "SELECT DISTINCT itemid\n",
    "FROM chartevents\n",
    "'''\n",
    "cur = con.cursor()\n",
    "cur.execute(query)\n",
    "data = cur.fetchall()\n",
    "\n",
    "chart_itemid = []\n",
    "for row in data:\n",
    "    chart_itemid.append(row[0])\n",
    "\n",
    "print(\"There are {} item IDs in the CHARTEVENTS table.\".format(len(chart_itemid)))"
   ]
  },
  {
   "cell_type": "code",
   "execution_count": 8,
   "metadata": {},
   "outputs": [
    {
     "name": "stdout",
     "output_type": "stream",
     "text": [
      "There are 726 item IDs in the LABEVENTS table.\n"
     ]
    }
   ],
   "source": [
    "# Item IDs from LABEVENTS\n",
    "query = \\\n",
    "'''\n",
    "SELECT DISTINCT itemid\n",
    "FROM labevents\n",
    "'''\n",
    "cur = con.cursor()\n",
    "cur.execute(query)\n",
    "data = cur.fetchall()\n",
    "\n",
    "lab_itemid = []\n",
    "for row in data:\n",
    "    lab_itemid.append(row[0])\n",
    "\n",
    "print(\"There are {} item IDs in the LABEVENTS table.\".format(len(lab_itemid)))"
   ]
  },
  {
   "cell_type": "code",
   "execution_count": 9,
   "metadata": {},
   "outputs": [
    {
     "name": "stdout",
     "output_type": "stream",
     "text": [
      "There are 9154 item IDs in the MICROBIOLOGYEVENTS table.\n"
     ]
    }
   ],
   "source": [
    "# Item IDs from MICROBIOLOGYEVENTS\n",
    "query = \\\n",
    "'''\n",
    "SELECT DISTINCT (spec_itemid,org_itemid,ab_itemid), spec_itemid, org_itemid, ab_itemid\n",
    "FROM microbiologyevents\n",
    "'''\n",
    "cur = con.cursor()\n",
    "cur.execute(query)\n",
    "data = cur.fetchall()\n",
    "\n",
    "microbio_itemid = []\n",
    "for row in data:\n",
    "    microbio_itemid.append(row[1:])\n",
    "\n",
    "print(\"There are {} item IDs in the MICROBIOLOGYEVENTS table.\".format(len(microbio_itemid)))"
   ]
  },
  {
   "cell_type": "code",
   "execution_count": 10,
   "metadata": {},
   "outputs": [
    {
     "name": "stdout",
     "output_type": "stream",
     "text": [
      "There are 3268 item IDs in the PRESCRIPTIONS table.\n"
     ]
    }
   ],
   "source": [
    "# Item IDs from PRESCRIPTIONS\n",
    "query = \\\n",
    "'''\n",
    "SELECT DISTINCT formulary_drug_cd\n",
    "FROM prescriptions\n",
    "'''\n",
    "cur = con.cursor()\n",
    "cur.execute(query)\n",
    "data = cur.fetchall()\n",
    "\n",
    "prescript_itemid = []\n",
    "for row in data:\n",
    "    prescript_itemid.append(row[0])\n",
    "\n",
    "print(\"There are {} item IDs in the PRESCRIPTIONS table.\".format(len(prescript_itemid)))"
   ]
  },
  {
   "cell_type": "code",
   "execution_count": 11,
   "metadata": {},
   "outputs": [
    {
     "name": "stdout",
     "output_type": "stream",
     "text": [
      "Saved!\n"
     ]
    }
   ],
   "source": [
    "# Save the Item IDs\n",
    "database = {'input':input_itemid,\n",
    "            'output':output_itemid,\n",
    "            'chart':chart_itemid,\n",
    "            'lab':lab_itemid,\n",
    "            'microbio':microbio_itemid,\n",
    "            'prescript':prescript_itemid}\n",
    "\n",
    "np.save('res/item_ids.npy',database);\n",
    "print('Saved!')"
   ]
  },
  {
   "cell_type": "code",
   "execution_count": null,
   "metadata": {},
   "outputs": [],
   "source": []
  }
 ],
 "metadata": {
  "kernelspec": {
   "display_name": "Python 3",
   "language": "python",
   "name": "python3"
  },
  "language_info": {
   "codemirror_mode": {
    "name": "ipython",
    "version": 3
   },
   "file_extension": ".py",
   "mimetype": "text/x-python",
   "name": "python",
   "nbconvert_exporter": "python",
   "pygments_lexer": "ipython3",
   "version": "3.7.3"
  }
 },
 "nbformat": 4,
 "nbformat_minor": 4
}
