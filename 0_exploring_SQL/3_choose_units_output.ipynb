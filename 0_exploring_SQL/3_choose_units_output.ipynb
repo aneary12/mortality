{
 "cells": [
  {
   "cell_type": "code",
   "execution_count": 9,
   "metadata": {},
   "outputs": [],
   "source": [
    "# Import libraries\n",
    "import psycopg2\n",
    "import getpass\n",
    "import numpy as np\n",
    "import os.path\n",
    "import datetime"
   ]
  },
  {
   "cell_type": "code",
   "execution_count": 2,
   "metadata": {},
   "outputs": [],
   "source": [
    "# Create a database connection\n",
    "user = 'postgres'\n",
    "host = 'localhost'\n",
    "port = '5433'\n",
    "dbname = 'mimic'\n",
    "schema = 'mimiciii'"
   ]
  },
  {
   "cell_type": "code",
   "execution_count": 3,
   "metadata": {},
   "outputs": [
    {
     "name": "stdin",
     "output_type": "stream",
     "text": [
      "Password: ··········\n"
     ]
    },
    {
     "name": "stdout",
     "output_type": "stream",
     "text": [
      "Connected!\n"
     ]
    }
   ],
   "source": [
    "# Connect to the database\n",
    "con = psycopg2.connect(dbname=dbname, user=user, host=host, port=port, \n",
    "                       password=getpass.getpass(prompt='Password:'.format(user)))\n",
    "cur = con.cursor()\n",
    "cur.execute('SET search_path to {}'.format(schema))\n",
    "con.commit()\n",
    "print(\"Connected!\")"
   ]
  },
  {
   "cell_type": "code",
   "execution_count": 4,
   "metadata": {},
   "outputs": [
    {
     "name": "stdout",
     "output_type": "stream",
     "text": [
      "Loaded!\n"
     ]
    }
   ],
   "source": [
    "# Load admission_ids\n",
    "_adm = np.load('res/admission_ids.npy', allow_pickle=True).tolist()\n",
    "admission_ids = _adm['admission_ids']\n",
    "\n",
    "# Load item_ids\n",
    "db = np.load('res/item_ids.npy', allow_pickle=True).tolist()\n",
    "input_itemid = db['input']\n",
    "output_itemid = db['output']\n",
    "chart_itemid = db['chart']\n",
    "lab_itemid = db['lab']\n",
    "microbio_itemid = db['microbio']\n",
    "prescript_itemid = db['prescript']\n",
    "\n",
    "print(\"Loaded!\")"
   ]
  },
  {
   "cell_type": "code",
   "execution_count": 5,
   "metadata": {},
   "outputs": [
    {
     "name": "stdout",
     "output_type": "stream",
     "text": [
      "[(None,), ('ml',), ('mL',)]\n"
     ]
    }
   ],
   "source": [
    "# Display all distinct units in OUTPUT table\n",
    "sql = \\\n",
    "'''\n",
    "SELECT DISTINCT valueuom \n",
    "FROM outputevents\n",
    "'''\n",
    "cur.execute(sql)\n",
    "output_units = cur.fetchall()\n",
    "print(output_units)"
   ]
  },
  {
   "cell_type": "code",
   "execution_count": 6,
   "metadata": {},
   "outputs": [
    {
     "name": "stdout",
     "output_type": "stream",
     "text": [
      "Saved!\n"
     ]
    }
   ],
   "source": [
    "# All records have the same units, so all item IDs can be saved\n",
    "valid_output = {'id':output_itemid, 'unit':None}\n",
    "np.save('res/filtered_output.npy', valid_output)\n",
    "print('Saved!')"
   ]
  },
  {
   "cell_type": "code",
   "execution_count": 11,
   "metadata": {},
   "outputs": [],
   "source": [
    "# Display all distinct units in OUTPUT table\n",
    "start = datetime.datetime.now()\n",
    "output_itemid_units = []\n",
    "for i in output_itemid:\n",
    "    sql = \\\n",
    "    f'''\n",
    "    SELECT valueuom, COUNT(*)\n",
    "    FROM outputevents\n",
    "    WHERE itemid={i} AND hadm_id IN (\n",
    "        SELECT *\n",
    "        FROM admission_ids)\n",
    "    GROUP BY valueuom\n",
    "    '''\n",
    "    cur.execute(sql)\n",
    "    res = cur.fetchall()\n",
    "    output_itemid_units.append(res)\n",
    "end = datetime.datetime.now()"
   ]
  },
  {
   "cell_type": "code",
   "execution_count": 12,
   "metadata": {},
   "outputs": [
    {
     "name": "stdout",
     "output_type": "stream",
     "text": [
      "0:00:21.180362\n",
      "[(None, 1), ('ml', 2)]\n",
      "[('mL', 446)]\n",
      "[(None, 1), ('ml', 8)]\n",
      "[(None, 25), ('ml', 219)]\n",
      "[(None, 3), ('ml', 33)]\n",
      "[('ml', 1)]\n",
      "[(None, 1), ('ml', 2)]\n",
      "[(None, 2), ('ml', 2)]\n",
      "[('ml', 26)]\n",
      "[('ml', 10)]\n"
     ]
    }
   ],
   "source": [
    "# Check everything is working\n",
    "print(end-start)\n",
    "for i in range(10):\n",
    "    print(output_itemid_units[i])"
   ]
  },
  {
   "cell_type": "code",
   "execution_count": null,
   "metadata": {},
   "outputs": [],
   "source": []
  }
 ],
 "metadata": {
  "kernelspec": {
   "display_name": "Python 3",
   "language": "python",
   "name": "python3"
  },
  "language_info": {
   "codemirror_mode": {
    "name": "ipython",
    "version": 3
   },
   "file_extension": ".py",
   "mimetype": "text/x-python",
   "name": "python",
   "nbconvert_exporter": "python",
   "pygments_lexer": "ipython3",
   "version": "3.7.3"
  }
 },
 "nbformat": 4,
 "nbformat_minor": 4
}
