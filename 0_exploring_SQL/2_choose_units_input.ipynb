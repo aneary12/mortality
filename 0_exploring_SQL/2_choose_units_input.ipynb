{
 "cells": [
  {
   "cell_type": "code",
   "execution_count": 1,
   "metadata": {},
   "outputs": [],
   "source": [
    "# Import libraries\n",
    "import psycopg2\n",
    "import getpass\n",
    "import numpy as np\n",
    "import os.path\n",
    "import datetime"
   ]
  },
  {
   "cell_type": "code",
   "execution_count": 2,
   "metadata": {},
   "outputs": [],
   "source": [
    "# Create a database connection\n",
    "user = 'postgres'\n",
    "host = 'localhost'\n",
    "port = '5433'\n",
    "dbname = 'mimic'\n",
    "schema = 'mimiciii'"
   ]
  },
  {
   "cell_type": "code",
   "execution_count": 3,
   "metadata": {},
   "outputs": [
    {
     "name": "stdin",
     "output_type": "stream",
     "text": [
      "Password: ··········\n"
     ]
    },
    {
     "name": "stdout",
     "output_type": "stream",
     "text": [
      "Connected!\n"
     ]
    }
   ],
   "source": [
    "# Connect to the database\n",
    "con = psycopg2.connect(dbname=dbname, user=user, host=host, port=port, \n",
    "                       password=getpass.getpass(prompt='Password:'.format(user)))\n",
    "cur = con.cursor()\n",
    "cur.execute('SET search_path to {}'.format(schema))\n",
    "con.commit()\n",
    "print(\"Connected!\")"
   ]
  },
  {
   "cell_type": "code",
   "execution_count": 4,
   "metadata": {},
   "outputs": [
    {
     "name": "stdout",
     "output_type": "stream",
     "text": [
      "Loaded!\n"
     ]
    }
   ],
   "source": [
    "# Load admission_ids\n",
    "_adm = np.load('res/admission_ids.npy', allow_pickle=True).tolist()\n",
    "admission_ids = _adm['admission_ids']\n",
    "\n",
    "# Load item_ids\n",
    "db = np.load('res/item_ids.npy', allow_pickle=True).tolist()\n",
    "input_itemid = db['input']\n",
    "output_itemid = db['output']\n",
    "chart_itemid = db['chart']\n",
    "lab_itemid = db['lab']\n",
    "microbio_itemid = db['microbio']\n",
    "prescript_itemid = db['prescript']\n",
    "\n",
    "print(\"Loaded!\")"
   ]
  },
  {
   "cell_type": "code",
   "execution_count": 5,
   "metadata": {},
   "outputs": [],
   "source": [
    "# Query the database for the units of all item IDs, and how many entries use each unit\n",
    "start = datetime.datetime.now()\n",
    "input_itemid_units = []\n",
    "for i in input_itemid:\n",
    "    if i >= 200000:\n",
    "        sql = \\\n",
    "        f'''\n",
    "        SELECT amountuom, COUNT(*)\n",
    "        FROM inputevents_mv\n",
    "        WHERE itemid={i} AND hadm_id IN (\n",
    "            SELECT *\n",
    "            FROM admission_ids)\n",
    "        GROUP BY amountuom\n",
    "        '''\n",
    "    elif i >= 30000 and i <= 49999:\n",
    "        sql = \\\n",
    "        f'''\n",
    "        SELECT amountuom, COUNT(*)\n",
    "        FROM inputevents_cv\n",
    "        WHERE itemid={i} AND hadm_id IN (\n",
    "            SELECT *\n",
    "            FROM admission_ids)\n",
    "        GROUP BY amountuom\n",
    "        '''\n",
    "    cur.execute(sql)\n",
    "    res = cur.fetchall()\n",
    "    input_itemid_units.append(res)\n",
    "end = datetime.datetime.now()"
   ]
  },
  {
   "cell_type": "code",
   "execution_count": 6,
   "metadata": {},
   "outputs": [
    {
     "name": "stdout",
     "output_type": "stream",
     "text": [
      "0:01:22.665615\n",
      "[('ml', 8)]\n",
      "[(None, 5), ('ml', 18)]\n",
      "[('ml', 111)]\n",
      "[('ml', 40)]\n",
      "[(None, 1), ('ml', 8)]\n",
      "[('ml', 83)]\n",
      "[(None, 1), ('ml', 1)]\n",
      "[(None, 1), ('ml', 1)]\n",
      "[(None, 1), ('ml', 14)]\n",
      "[(None, 1), ('ml', 4)]\n"
     ]
    }
   ],
   "source": [
    "# Make sure everything is working\n",
    "print(end-start)\n",
    "for i in range(10):\n",
    "    print(input_itemid_units[i])"
   ]
  },
  {
   "cell_type": "code",
   "execution_count": 47,
   "metadata": {},
   "outputs": [],
   "source": [
    "# Construct a list with each row = [item ID, no. of entries, (unit1, percentage of entries using unit1), (unit2, etc...)]\n",
    "start = datetime.datetime.now()\n",
    "input_itemid_units_percent = []\n",
    "for row in input_itemid_units:\n",
    "    # this loop calculates the total number of entries for each item ID\n",
    "    total = 0\n",
    "    for unit_tuple in row:\n",
    "        entries = unit_tuple[1]\n",
    "        total += entries\n",
    "    # this loop calculates the percentage of that item ID that each unit makes up\n",
    "    new_row = [input_itemid[input_itemid_units.index(row)], total]\n",
    "    for unit_tuple in row:\n",
    "        percentage = (unit_tuple[1]/total) * 100\n",
    "        if unit_tuple[0] != None:\n",
    "            new_row.append((unit_tuple[0],percentage))\n",
    "    # rearrange new_row so most common units are listed first\n",
    "    new_row = new_row[:2] + sorted(new_row[2:], key=lambda tup : tup[1], reverse=True)\n",
    "    input_itemid_units_percent.append(new_row)\n",
    "end = datetime.datetime.now()"
   ]
  },
  {
   "cell_type": "code",
   "execution_count": 48,
   "metadata": {},
   "outputs": [
    {
     "name": "stdout",
     "output_type": "stream",
     "text": [
      "0:00:00.099595\n",
      "[44377, 8, ('ml', 100.0)]\n",
      "[30367, 23, ('ml', 78.26086956521739)]\n",
      "[44743, 111, ('ml', 100.0)]\n",
      "[46126, 40, ('ml', 100.0)]\n",
      "[45431, 9, ('ml', 88.88888888888889)]\n",
      "[46236, 83, ('ml', 100.0)]\n",
      "[42866, 2, ('ml', 50.0)]\n",
      "[42866, 2, ('ml', 50.0)]\n",
      "[41619, 15, ('ml', 93.33333333333333)]\n",
      "[44127, 5, ('ml', 80.0)]\n"
     ]
    }
   ],
   "source": [
    "# Make sure everything is working\n",
    "print(end-start)\n",
    "for i in range(10):\n",
    "    print(input_itemid_units_percent[i])"
   ]
  },
  {
   "cell_type": "code",
   "execution_count": 55,
   "metadata": {},
   "outputs": [
    {
     "name": "stdout",
     "output_type": "stream",
     "text": [
      "[30052, 6227, ('gm', 41.0791713505701), ('ml', 0.22482736470210374)]\n",
      "[30163, 40996, ('mg', 40.6966533320324), ('ml', 0.07317787101180602)]\n",
      "[30089, 147509, ('tsp', 82.36853344541689), ('gm', 17.63146655458311)]\n",
      "[225913, 997, ('dose', 88.26479438314945), ('mg', 11.634904714142428), ('grams', 0.10030090270812438)]\n",
      "[225845, 1475, ('dose', 69.42372881355932), ('mg', 30.508474576271187), ('grams', 0.06779661016949153)]\n",
      "[221744, 86340, ('mcg', 79.94556404910817), ('mg', 20.054435950891822)]\n",
      "[30178, 32265, ('mg', 39.63427863009453), ('ml', 2.2408182240818224)]\n",
      "[30046, 158, ('ml', 53.79746835443038), ('mg', 20.253164556962027)]\n",
      "[30069, 2619, ('mg', 72.58495609011074), ('ml', 26.46048109965636)]\n",
      "[30174, 508, ('ml', 33.661417322834644), ('mg', 30.905511811023622)]\n",
      "[30151, 2471, ('mg', 47.875354107648725), ('ml', 8.984216916228247)]\n",
      "[225914, 109, ('mcg', 87.1559633027523), ('dose', 7.339449541284404), ('mg', 3.669724770642202), ('pg', 1.834862385321101)]\n",
      "[30172, 51532, ('mg', 43.805790576729024), ('ml', 0.18823255452922455)]\n",
      "[30022, 721, ('mg', 89.73647711511789), ('ml', 10.124826629680998)]\n",
      "[30135, 2251, ('mg', 51.7992003553976), ('ml', 9.551310528653932)]\n",
      "[30126, 97080, ('mg', 39.87948084054388), ('ml', 0.003090234857849197)]\n",
      "[30148, 832, ('mg', 34.97596153846153), ('ml', 3.6057692307692304)]\n",
      "[30114, 63982, ('mg', 39.628332968647435), ('ml', 2.7867212653558813)]\n",
      "[30111, 1941, ('gm', 42.194744976816075), ('ml', 0.41215868109222054)]\n",
      "[30384, 4285, ('ml', 46.25437572928821), ('mg', 23.337222870478413)]\n",
      "[30173, 26139, ('mg', 44.883124832625576), ('ml', 0.24867056888174757)]\n",
      "[30117, 28638, ('mcg', 39.11586004609261), ('ml', 0.01745931978490118)]\n",
      "[30167, 26613, ('mcg', 40.82215458610454), ('ml', 1.4316311577048813)]\n",
      "[225910, 27516, ('dose', 75.11629597325192), ('mg', 24.883704026748074)]\n",
      "[30133, 45729, ('mcg', 43.12361958494609), ('ml', 0.0021867961249972664)]\n",
      "[30025, 812381, ('U', 56.07762860037347), ('mEq', 0.023880420640069133), ('ml', 0.000738569710517602)]\n",
      "[30177, 7549, ('mg', 42.99907272486422), ('ml', 3.6826069678103064)]\n",
      "[30051, 164647, ('U', 37.631417517476784), ('ml', 0.1348339174111888)]\n",
      "[30298, 9967, ('mEQ', 86.72619644827932), ('U', 8.026487408447878), ('mEq', 5.036620848801043), ('ml', 0.2106952944717568)]\n",
      "[30138, 5160, ('mg', 39.224806201550386), ('ml', 0.09689922480620156)]\n"
     ]
    }
   ],
   "source": [
    "filtered_input = []\n",
    "less_than_90 = []\n",
    "no_entries = []\n",
    "for row in input_itemid_units_percent:\n",
    "    # cases with 2 or more units\n",
    "    if len(row) > 3:\n",
    "        if row[2][1] >= 90.0:\n",
    "            filtered_input.append(row)\n",
    "        else:\n",
    "            less_than_90.append(row)\n",
    "    # cases with only one unit\n",
    "    elif len(row) == 3:\n",
    "        filtered_input.append(row)   \n",
    "    else:\n",
    "        no_entries.append(row)\n",
    "\n",
    "for row in less_than_90:\n",
    "    print(row)\n"
   ]
  },
  {
   "cell_type": "code",
   "execution_count": null,
   "metadata": {},
   "outputs": [],
   "source": [
    "# Save the item IDs with corresponding units and percentages\n",
    "np.save('res/input_raw.npy', {'raw' : input_itemid_units_percent})\n",
    "print('Saved!')"
   ]
  }
 ],
 "metadata": {
  "kernelspec": {
   "display_name": "Python 3",
   "language": "python",
   "name": "python3"
  },
  "language_info": {
   "codemirror_mode": {
    "name": "ipython",
    "version": 3
   },
   "file_extension": ".py",
   "mimetype": "text/x-python",
   "name": "python",
   "nbconvert_exporter": "python",
   "pygments_lexer": "ipython3",
   "version": "3.7.3"
  }
 },
 "nbformat": 4,
 "nbformat_minor": 4
}
