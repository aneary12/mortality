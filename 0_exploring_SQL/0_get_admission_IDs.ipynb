{
 "cells": [
  {
   "cell_type": "code",
   "execution_count": 1,
   "metadata": {},
   "outputs": [],
   "source": [
    "# Import libraries\n",
    "import psycopg2\n",
    "import getpass\n",
    "import numpy as np\n",
    "import os.path"
   ]
  },
  {
   "cell_type": "code",
   "execution_count": 2,
   "metadata": {},
   "outputs": [],
   "source": [
    "# Create a database connection\n",
    "user = 'postgres'\n",
    "host = 'localhost'\n",
    "port = '5433'\n",
    "dbname = 'mimic'\n",
    "schema = 'mimiciii'"
   ]
  },
  {
   "cell_type": "code",
   "execution_count": 4,
   "metadata": {},
   "outputs": [
    {
     "name": "stdin",
     "output_type": "stream",
     "text": [
      "Password: ··········\n"
     ]
    },
    {
     "name": "stdout",
     "output_type": "stream",
     "text": [
      "Connected!\n"
     ]
    }
   ],
   "source": [
    "# Connect to the database\n",
    "con = psycopg2.connect(dbname=dbname, user=user, host=host, port=port, \n",
    "                       password=getpass.getpass(prompt='Password:'.format(user)))\n",
    "cur = con.cursor()\n",
    "cur.execute('SET search_path to {}'.format(schema))\n",
    "con.commit()\n",
    "print(\"Connected!\")"
   ]
  },
  {
   "cell_type": "code",
   "execution_count": 5,
   "metadata": {},
   "outputs": [],
   "source": [
    "# Select admission IDs from MIMIC III that correspond to first time admissions, for patient 18 years old or older\n",
    "query = \\\n",
    "\"\"\"\n",
    "WITH admission_time AS\n",
    "(\n",
    "    SELECT a.subject_id, a.hadm_id, a.admittime, p.dob,\n",
    "        MIN(a.admittime) OVER (PARTITION BY a.subject_id) AS first_admittime,\n",
    "        ROUND((CAST(a.admittime AS date) - CAST(p.dob AS date))/365.242,2) AS admit_age\n",
    "    FROM admissions a\n",
    "    INNER JOIN patients p\n",
    "    ON a.subject_id = p.subject_id\n",
    ")\n",
    ", age AS\n",
    "(\n",
    "    SELECT subject_id, hadm_id, admit_age,\n",
    "        admittime = first_admittime AS first_admit_flag\n",
    "    FROM admission_time\n",
    ")\n",
    "SELECT hadm_id\n",
    "FROM age\n",
    "WHERE admit_age >= 18 AND first_admit_flag = true;\n",
    "\"\"\"\n",
    "\n",
    "# Execute the query and fetch the result\n",
    "cur.execute(query)\n",
    "con.commit()\n",
    "data = cur.fetchall()\n",
    "\n",
    "# Store the result of the query as a list\n",
    "admission_ids = []\n",
    "for row in data:\n",
    "    admission_ids.append(row[0])\n",
    "\n",
    "admission_ids_txt = ','.join(map(str, admission_ids))"
   ]
  },
  {
   "cell_type": "code",
   "execution_count": 6,
   "metadata": {},
   "outputs": [
    {
     "name": "stdout",
     "output_type": "stream",
     "text": [
      "There are 38549 entries in admission_ids, and there are no duplicates.\n"
     ]
    }
   ],
   "source": [
    "# Make sure there are no duplicates in admission_ids\n",
    "if len(admission_ids) == len(set(admission_ids)):\n",
    "    print(\"There are {} entries in admission_ids, and there are no duplicates.\".format(len(admission_ids)))\n",
    "else:\n",
    "    print(\"There are {} entries in admission_ids, but only {} are unique.\".format(len(admission_ids), len(set(admission_ids))))"
   ]
  },
  {
   "cell_type": "code",
   "execution_count": 7,
   "metadata": {},
   "outputs": [
    {
     "name": "stdout",
     "output_type": "stream",
     "text": [
      "Saved!\n"
     ]
    }
   ],
   "source": [
    "# Save to admission_ids.npy\n",
    "if not os.path.exists('./res'):\n",
    "    os.makedirs('./res')\n",
    "\n",
    "tosave = {'admission_ids':admission_ids, 'admission_ids_txt': admission_ids_txt}\n",
    "np.save('res/admission_ids.npy',tosave)\n",
    "print(\"Saved!\")"
   ]
  },
  {
   "cell_type": "code",
   "execution_count": null,
   "metadata": {},
   "outputs": [],
   "source": []
  }
 ],
 "metadata": {
  "kernelspec": {
   "display_name": "Python 3",
   "language": "python",
   "name": "python3"
  },
  "language_info": {
   "codemirror_mode": {
    "name": "ipython",
    "version": 3
   },
   "file_extension": ".py",
   "mimetype": "text/x-python",
   "name": "python",
   "nbconvert_exporter": "python",
   "pygments_lexer": "ipython3",
   "version": "3.7.3"
  }
 },
 "nbformat": 4,
 "nbformat_minor": 4
}
