{
 "cells": [
  {
   "cell_type": "code",
   "execution_count": 1,
   "metadata": {},
   "outputs": [],
   "source": [
    "# Import libraries\n",
    "import psycopg2\n",
    "import getpass\n",
    "import matplotlib.pyplot as plt\n",
    "import numpy as np\n",
    "import os.path\n",
    "import time"
   ]
  },
  {
   "cell_type": "code",
   "execution_count": 2,
   "metadata": {},
   "outputs": [
    {
     "name": "stdout",
     "output_type": "stream",
     "text": [
      "Loaded!\n"
     ]
    }
   ],
   "source": [
    "# load the data\n",
    "_data = np.load('res/admission.npy', allow_pickle=True).tolist()\n",
    "adm_labels = _data['adm_labels']\n",
    "all_adm = _data['all_adm']\n",
    "first_adm = _data['first_adm']\n",
    "adult_first_adm = _data['adult_first_adm']\n",
    "print(\"Loaded!\")"
   ]
  },
  {
   "cell_type": "code",
   "execution_count": 3,
   "metadata": {},
   "outputs": [],
   "source": [
    "# Create a database connection\n",
    "user = 'postgres'\n",
    "host = 'localhost'\n",
    "port = '5433'\n",
    "dbname = 'mimic'\n",
    "schema = 'mimiciii'"
   ]
  },
  {
   "cell_type": "code",
   "execution_count": 4,
   "metadata": {},
   "outputs": [
    {
     "name": "stdin",
     "output_type": "stream",
     "text": [
      "Password: ··········\n"
     ]
    },
    {
     "name": "stdout",
     "output_type": "stream",
     "text": [
      "Connected!\n"
     ]
    }
   ],
   "source": [
    "# Connect to the database\n",
    "con = psycopg2.connect(dbname=dbname, user=user, host=host, port=port, \n",
    "                       password=getpass.getpass(prompt='Password:'.format(user)))\n",
    "cur = con.cursor()\n",
    "cur.execute('SET search_path TO {}'.format(schema))\n",
    "con.commit()\n",
    "print(\"Connected!\")"
   ]
  },
  {
   "cell_type": "code",
   "execution_count": 5,
   "metadata": {},
   "outputs": [
    {
     "name": "stdout",
     "output_type": "stream",
     "text": [
      "This query took 39.14 seconds\n"
     ]
    }
   ],
   "source": [
    "start = time.time()\n",
    "\n",
    "# Select heart rate measurements\n",
    "query = \\\n",
    "\"\"\"\n",
    "SELECT subject_id, hadm_id, icustay_id, itemid, charttime, valuenum, valueuom\n",
    "FROM chartevents\n",
    "WHERE itemid = 211 OR itemid = 220045\n",
    "\"\"\"\n",
    "\n",
    "# Execute the query and fetch the result\n",
    "cur.execute(query)\n",
    "con.commit()\n",
    "data = cur.fetchall()\n",
    "\n",
    "# Store the result of the query as a numpy array\n",
    "heart_rate = np.array(data)\n",
    "\n",
    "end = time.time()\n",
    "\n",
    "# Print run time\n",
    "print(\"This query took {} seconds\".format(round((end-start),2)))"
   ]
  },
  {
   "cell_type": "code",
   "execution_count": 6,
   "metadata": {},
   "outputs": [
    {
     "name": "stdout",
     "output_type": "stream",
     "text": [
      "Units:\n",
      "[['bpm']\n",
      " ['BPM']]\n"
     ]
    }
   ],
   "source": [
    "# Select the different units\n",
    "query = \\\n",
    "\"\"\"\n",
    "SELECT DISTINCT(valueuom)\n",
    "FROM chartevents\n",
    "WHERE itemid = 211 OR itemid = 220045\n",
    "\"\"\"\n",
    "\n",
    "# Execute the query and fetch the result\n",
    "cur.execute(query)\n",
    "con.commit()\n",
    "data = cur.fetchall()\n",
    "\n",
    "# Store the result of the query as a numpy array\n",
    "units = np.array(data)\n",
    "\n",
    "# Display the units\n",
    "print(\"Units:\")\n",
    "print(units)"
   ]
  },
  {
   "cell_type": "code",
   "execution_count": 7,
   "metadata": {},
   "outputs": [
    {
     "name": "stdout",
     "output_type": "stream",
     "text": [
      "No. of HR measurements: 7943034\n",
      "No. of 'None' values: 1446 (0.0002%)\n"
     ]
    }
   ],
   "source": [
    "# Check how many HR measurements are in the data set\n",
    "print(\"No. of HR measurements: {}\".format(np.shape(heart_rate)[0]))\n",
    "print(\"No. of 'None' values: {} ({}%)\".format(sum(x is None for x in heart_rate[:,5]), round(sum(x is None for x in heart_rate[:,5])/np.shape(heart_rate)[0],4)))"
   ]
  },
  {
   "cell_type": "code",
   "execution_count": 8,
   "metadata": {},
   "outputs": [
    {
     "name": "stdout",
     "output_type": "stream",
     "text": [
      "Shape of heart_rate before removing None values: (7943034, 7)\n",
      "Shape of heart_rate after removing None values: (7941588, 7)\n"
     ]
    }
   ],
   "source": [
    "print(\"Shape of heart_rate before removing None values: {}\".format(np.shape(heart_rate)))\n",
    "\n",
    "# Remove None values\n",
    "heart_rate = heart_rate[~np.isnan(heart_rate[:,5].astype(float))]\n",
    "\n",
    "print(\"Shape of heart_rate after removing None values: {}\".format(np.shape(heart_rate)))"
   ]
  },
  {
   "cell_type": "code",
   "execution_count": 9,
   "metadata": {},
   "outputs": [],
   "source": [
    "# Select data for hospital admission ID 145834 only\n",
    "hr = heart_rate[heart_rate[:,1]==145834]"
   ]
  },
  {
   "cell_type": "code",
   "execution_count": 10,
   "metadata": {},
   "outputs": [],
   "source": [
    "# Sort measurements by time\n",
    "hr = hr[hr[:,4].argsort()]\n",
    "hr[:,4] = hr[:,4] - adult_first_adm[:,-1][adult_first_adm[:,1]==145834] # convert raw times to time since admission\n",
    "for i in range(len(hr[:,4])):\n",
    "    hr[:,4][i] = hr[:,4][i].total_seconds()/(60*60)"
   ]
  },
  {
   "cell_type": "code",
   "execution_count": 11,
   "metadata": {},
   "outputs": [
    {
     "data": {
      "image/png": "[encoded data removed]",
      "text/plain": [
       "<Figure size 432x288 with 1 Axes>"
      ]
     },
     "metadata": {
      "needs_background": "light"
     },
     "output_type": "display_data"
    }
   ],
   "source": [
    "# Plot HR data for hospital admission ID 145834\n",
    "hrs = 24 # select how many hours post admission to display\n",
    "plt.plot(hr[:,4][hr[:,4]<=hrs], hr[:,5][hr[:,4]<=hrs], marker=\"o\")\n",
    "plt.xlabel('Time (hours after admission)')\n",
    "plt.ylabel('Heart rate (beats per minute)')\n",
    "plt.title('Heart Rate for Hospital Admission ID 145834')\n",
    "plt.show()"
   ]
  },
  {
   "cell_type": "code",
   "execution_count": 12,
   "metadata": {},
   "outputs": [
    {
     "name": "stdout",
     "output_type": "stream",
     "text": [
      "No. of measurements in first 24 hours: 43\n",
      "Total no. of measurements: 170\n"
     ]
    }
   ],
   "source": [
    "print(\"No. of measurements in first {} hours: {}\".format(hrs,len(hr[:,4][hr[:,4]<=hrs])))\n",
    "print(\"Total no. of measurements: {}\".format(len(hr[:,4])))"
   ]
  },
  {
   "cell_type": "code",
   "execution_count": 13,
   "metadata": {},
   "outputs": [],
   "source": [
    "# Get mean HR for each hour\n",
    "processed_hr = np.zeros((24,2))\n",
    "for i in range(24):\n",
    "    hr_values = hr[:,5][np.logical_and(hr[:,4]>=i, hr[:,4]<(i+1))]\n",
    "    if len(hr_values) == 0:\n",
    "        hr_values = hr[:,5][np.logical_and(hr[:,4]>=(i-1), hr[:,4]<(i+2))]\n",
    "    mean_hr = np.mean(hr_values)\n",
    "    processed_hr[i,0] = i+1\n",
    "    processed_hr[i,1] = mean_hr"
   ]
  },
  {
   "cell_type": "code",
   "execution_count": 14,
   "metadata": {},
   "outputs": [
    {
     "data": {
      "image/png": "[encoded data removed]",
      "text/plain": [
       "<Figure size 432x288 with 1 Axes>"
      ]
     },
     "metadata": {
      "needs_background": "light"
     },
     "output_type": "display_data"
    }
   ],
   "source": [
    "# Plot the processed HR data for hospital admission ID 145834\n",
    "plt.plot(processed_hr[:,0], processed_hr[:,1], marker=\"o\")\n",
    "plt.xlabel('Time (hours after admission)')\n",
    "plt.ylabel('Heart rate (beats per minute)')\n",
    "plt.title('Processed Heart Rate for Hospital Admission ID 145834')\n",
    "plt.show()"
   ]
  },
  {
   "cell_type": "code",
   "execution_count": 15,
   "metadata": {},
   "outputs": [],
   "source": [
    "# Initialise a 3D numpy array for 24 hour measurements\n",
    "m = len(adult_first_adm) # number of patients\n",
    "hr_24h = np.zeros((m, 25, 1))"
   ]
  },
  {
   "cell_type": "code",
   "execution_count": 16,
   "metadata": {},
   "outputs": [
    {
     "name": "stdout",
     "output_type": "stream",
     "text": [
      "0.65% complete (250/38549)\n",
      "1.3% complete (500/38549)\n",
      "1.95% complete (750/38549)\n",
      "2.59% complete (1000/38549)\n",
      "3.24% complete (1250/38549)\n",
      "3.89% complete (1500/38549)\n",
      "4.54% complete (1750/38549)\n",
      "5.19% complete (2000/38549)\n",
      "5.84% complete (2250/38549)\n",
      "6.49% complete (2500/38549)\n",
      "7.13% complete (2750/38549)\n",
      "7.78% complete (3000/38549)\n",
      "8.43% complete (3250/38549)\n",
      "9.08% complete (3500/38549)\n",
      "9.73% complete (3750/38549)\n",
      "10.38% complete (4000/38549)\n",
      "11.02% complete (4250/38549)\n",
      "11.67% complete (4500/38549)\n",
      "12.32% complete (4750/38549)\n",
      "12.97% complete (5000/38549)\n",
      "13.62% complete (5250/38549)\n",
      "14.27% complete (5500/38549)\n",
      "14.92% complete (5750/38549)\n",
      "15.56% complete (6000/38549)\n",
      "16.21% complete (6250/38549)\n",
      "16.86% complete (6500/38549)\n",
      "17.51% complete (6750/38549)\n",
      "18.16% complete (7000/38549)\n",
      "18.81% complete (7250/38549)\n",
      "19.46% complete (7500/38549)\n",
      "20.1% complete (7750/38549)\n",
      "20.75% complete (8000/38549)\n",
      "21.4% complete (8250/38549)\n",
      "22.05% complete (8500/38549)\n",
      "22.7% complete (8750/38549)\n",
      "23.35% complete (9000/38549)\n",
      "24.0% complete (9250/38549)\n",
      "24.64% complete (9500/38549)\n",
      "25.29% complete (9750/38549)\n",
      "25.94% complete (10000/38549)\n",
      "26.59% complete (10250/38549)\n",
      "27.24% complete (10500/38549)\n",
      "27.89% complete (10750/38549)\n",
      "28.54% complete (11000/38549)\n",
      "29.18% complete (11250/38549)\n",
      "29.83% complete (11500/38549)\n",
      "30.48% complete (11750/38549)\n",
      "31.13% complete (12000/38549)\n",
      "31.78% complete (12250/38549)\n",
      "32.43% complete (12500/38549)\n",
      "33.07% complete (12750/38549)\n",
      "33.72% complete (13000/38549)\n",
      "34.37% complete (13250/38549)\n",
      "35.02% complete (13500/38549)\n",
      "35.67% complete (13750/38549)\n",
      "36.32% complete (14000/38549)\n",
      "36.97% complete (14250/38549)\n",
      "37.61% complete (14500/38549)\n",
      "38.26% complete (14750/38549)\n",
      "38.91% complete (15000/38549)\n",
      "39.56% complete (15250/38549)\n",
      "40.21% complete (15500/38549)\n",
      "40.86% complete (15750/38549)\n",
      "41.51% complete (16000/38549)\n",
      "42.15% complete (16250/38549)\n",
      "42.8% complete (16500/38549)\n",
      "43.45% complete (16750/38549)\n",
      "44.1% complete (17000/38549)\n",
      "44.75% complete (17250/38549)\n",
      "45.4% complete (17500/38549)\n",
      "46.05% complete (17750/38549)\n",
      "46.69% complete (18000/38549)\n",
      "47.34% complete (18250/38549)\n",
      "47.99% complete (18500/38549)\n",
      "48.64% complete (18750/38549)\n",
      "49.29% complete (19000/38549)\n",
      "49.94% complete (19250/38549)\n",
      "50.58% complete (19500/38549)\n",
      "51.23% complete (19750/38549)\n",
      "51.88% complete (20000/38549)\n",
      "52.53% complete (20250/38549)\n",
      "53.18% complete (20500/38549)\n",
      "53.83% complete (20750/38549)\n",
      "54.48% complete (21000/38549)\n",
      "55.12% complete (21250/38549)\n",
      "55.77% complete (21500/38549)\n",
      "56.42% complete (21750/38549)\n",
      "57.07% complete (22000/38549)\n",
      "57.72% complete (22250/38549)\n",
      "58.37% complete (22500/38549)\n",
      "59.02% complete (22750/38549)\n",
      "59.66% complete (23000/38549)\n",
      "60.31% complete (23250/38549)\n",
      "60.96% complete (23500/38549)\n",
      "61.61% complete (23750/38549)\n",
      "62.26% complete (24000/38549)\n",
      "62.91% complete (24250/38549)\n",
      "63.56% complete (24500/38549)\n",
      "64.2% complete (24750/38549)\n",
      "64.85% complete (25000/38549)\n",
      "65.5% complete (25250/38549)\n",
      "66.15% complete (25500/38549)\n",
      "66.8% complete (25750/38549)\n",
      "67.45% complete (26000/38549)\n",
      "68.1% complete (26250/38549)\n",
      "68.74% complete (26500/38549)\n",
      "69.39% complete (26750/38549)\n",
      "70.04% complete (27000/38549)\n",
      "70.69% complete (27250/38549)\n",
      "71.34% complete (27500/38549)\n",
      "71.99% complete (27750/38549)\n",
      "72.63% complete (28000/38549)\n",
      "73.28% complete (28250/38549)\n",
      "73.93% complete (28500/38549)\n",
      "74.58% complete (28750/38549)\n",
      "75.23% complete (29000/38549)\n",
      "75.88% complete (29250/38549)\n",
      "76.53% complete (29500/38549)\n",
      "77.17% complete (29750/38549)\n",
      "77.82% complete (30000/38549)\n",
      "78.47% complete (30250/38549)\n",
      "79.12% complete (30500/38549)\n",
      "79.77% complete (30750/38549)\n",
      "80.42% complete (31000/38549)\n",
      "81.07% complete (31250/38549)\n",
      "81.71% complete (31500/38549)\n",
      "82.36% complete (31750/38549)\n",
      "83.01% complete (32000/38549)\n",
      "83.66% complete (32250/38549)\n",
      "84.31% complete (32500/38549)\n",
      "84.96% complete (32750/38549)\n",
      "85.61% complete (33000/38549)\n",
      "86.25% complete (33250/38549)\n",
      "86.9% complete (33500/38549)\n",
      "87.55% complete (33750/38549)\n",
      "88.2% complete (34000/38549)\n",
      "88.85% complete (34250/38549)\n",
      "89.5% complete (34500/38549)\n",
      "90.15% complete (34750/38549)\n",
      "90.79% complete (35000/38549)\n",
      "91.44% complete (35250/38549)\n",
      "92.09% complete (35500/38549)\n",
      "92.74% complete (35750/38549)\n",
      "93.39% complete (36000/38549)\n",
      "94.04% complete (36250/38549)\n",
      "94.68% complete (36500/38549)\n",
      "95.33% complete (36750/38549)\n",
      "95.98% complete (37000/38549)\n",
      "96.63% complete (37250/38549)\n",
      "97.28% complete (37500/38549)\n",
      "97.93% complete (37750/38549)\n",
      "98.58% complete (38000/38549)\n",
      "99.22% complete (38250/38549)\n",
      "99.87% complete (38500/38549)\n",
      "This took 99.33 minutes\n"
     ]
    }
   ],
   "source": [
    "# Create processed 24 hour HR time series for every patient\n",
    "start = time.time()\n",
    "\n",
    "for i in range(m):\n",
    "    \n",
    "    # Define hospital admission ID number\n",
    "    admission_id = adult_first_adm[i,1]\n",
    "    \n",
    "    # Select data for hospital admission ID\n",
    "    hr = heart_rate[heart_rate[:,1]==admission_id]\n",
    "    \n",
    "    # Account for patients with no heart rate measurements\n",
    "    if len(hr) == 0:\n",
    "        processed_hr = np.zeros((24,1))\n",
    "        \n",
    "    else:\n",
    "    \n",
    "        # Sort measurements by time\n",
    "        admit_time = adult_first_adm[i,-1]\n",
    "        hr = hr[hr[:,4].argsort()]\n",
    "        hr[:,4] = hr[:,4] - admit_time # convert raw times to time since admission\n",
    "        for j in range(len(hr[:,4])):\n",
    "            hr[:,4][j] = hr[:,4][j].total_seconds()/(60*60)\n",
    "    \n",
    "        # Get mean HR for each hour\n",
    "        processed_hr = np.zeros((24,1))\n",
    "        for k in range(24):\n",
    "            hr_values = hr[:,5][np.logical_and(hr[:,4]>=k, hr[:,4]<(k+1))]\n",
    "            x = 1\n",
    "            while len(hr_values) == 0:\n",
    "                hr_values = hr[:,5][np.logical_and(hr[:,4]>=(k-x), hr[:,4]<(k+1+x))]\n",
    "                x+=1\n",
    "            mean_hr = np.mean(hr_values)\n",
    "            processed_hr[k] = mean_hr\n",
    "    \n",
    "    # Store in hr_24h\n",
    "    hr_24h[i,0,:] = admission_id\n",
    "    hr_24h[i,1:,:] = processed_hr\n",
    "    \n",
    "    # Print progress\n",
    "    if (i+1) % 250 == 0:\n",
    "        print(\"{}% complete ({}/{})\".format(round((i+1)/m*100,2), i+1, m))\n",
    "\n",
    "end = time.time()\n",
    "\n",
    "# Evaluate run time\n",
    "print(\"This took {} minutes\".format(round((end-start)/60,2)))"
   ]
  },
  {
   "cell_type": "code",
   "execution_count": 17,
   "metadata": {},
   "outputs": [
    {
     "name": "stdout",
     "output_type": "stream",
     "text": [
      "Saved!\n"
     ]
    }
   ],
   "source": [
    "hr_labels = [\"subject_id\", \"hadm_id\", \"icustay_id\", \"itemid\", \"charttime\", \"valuenum\", \"valueuom\"]\n",
    "\n",
    "# Save to heart_rate.npy\n",
    "if not os.path.exists('./res'):\n",
    "    os.makedirs('./res')\n",
    "\n",
    "tosave = {'hr_labels': hr_labels, 'heart_rate': heart_rate, 'hr_24h': hr_24h}\n",
    "np.save('res/heart_rate.npy',tosave)\n",
    "print(\"Saved!\")"
   ]
  },
  {
   "cell_type": "code",
   "execution_count": null,
   "metadata": {},
   "outputs": [],
   "source": []
  }
 ],
 "metadata": {
  "kernelspec": {
   "display_name": "Python 3",
   "language": "python",
   "name": "python3"
  },
  "language_info": {
   "codemirror_mode": {
    "name": "ipython",
    "version": 3
   },
   "file_extension": ".py",
   "mimetype": "text/x-python",
   "name": "python",
   "nbconvert_exporter": "python",
   "pygments_lexer": "ipython3",
   "version": "3.7.3"
  }
 },
 "nbformat": 4,
 "nbformat_minor": 4
}
