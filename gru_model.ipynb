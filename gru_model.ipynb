{
 "cells": [
  {
   "cell_type": "code",
   "execution_count": 41,
   "metadata": {},
   "outputs": [],
   "source": [
    "import numpy as np\n",
    "import tensorflow as tf\n",
    "\n",
    "from sklearn import preprocessing\n",
    "from keras.models import Sequential\n",
    "from keras.layers import GRU, Flatten, Dropout, Dense, BatchNormalization, Activation\n",
    "from keras import optimizers\n",
    "from keras import metrics\n",
    "\n",
    "import itertools\n",
    "import matplotlib.pyplot as plt\n",
    "from sklearn.metrics import confusion_matrix, classification_report"
   ]
  },
  {
   "cell_type": "code",
   "execution_count": 2,
   "metadata": {},
   "outputs": [
    {
     "name": "stdout",
     "output_type": "stream",
     "text": [
      "WARNING:tensorflow:From C:\\Users\\anear\\Anaconda3\\lib\\site-packages\\keras\\backend\\tensorflow_backend.py:3172: add_dispatch_support.<locals>.wrapper (from tensorflow.python.ops.array_ops) is deprecated and will be removed in a future version.\n",
      "Instructions for updating:\n",
      "Use tf.where in 2.0, which has the same broadcast rule as np.where\n",
      "Model: \"sequential_1\"\n",
      "_________________________________________________________________\n",
      "Layer (type)                 Output Shape              Param #   \n",
      "=================================================================\n",
      "gru_1 (GRU)                  (None, 24, 30)            4770      \n",
      "_________________________________________________________________\n",
      "flatten_1 (Flatten)          (None, 720)               0         \n",
      "_________________________________________________________________\n",
      "dropout_1 (Dropout)          (None, 720)               0         \n",
      "_________________________________________________________________\n",
      "dense_1 (Dense)              (None, 40)                28840     \n",
      "_________________________________________________________________\n",
      "dropout_2 (Dropout)          (None, 40)                0         \n",
      "_________________________________________________________________\n",
      "dense_2 (Dense)              (None, 1)                 41        \n",
      "_________________________________________________________________\n",
      "batch_normalization_1 (Batch (None, 1)                 4         \n",
      "_________________________________________________________________\n",
      "activation_1 (Activation)    (None, 1)                 0         \n",
      "=================================================================\n",
      "Total params: 33,655\n",
      "Trainable params: 33,653\n",
      "Non-trainable params: 2\n",
      "_________________________________________________________________\n",
      "None\n"
     ]
    }
   ],
   "source": [
    "# Define model architecture\n",
    "model = Sequential()\n",
    "model.add(GRU(30, return_sequences=True, input_shape=(24,22)))\n",
    "model.add(Flatten())\n",
    "model.add(Dropout(0.1))\n",
    "model.add(Dense(40, activation = \"sigmoid\"))\n",
    "model.add(Dropout(0.1))\n",
    "model.add(Dense(1, activation = \"sigmoid\"))\n",
    "model.add(BatchNormalization())\n",
    "model.add((Activation('sigmoid')))\n",
    "\n",
    "# Compile model\n",
    "model.compile(loss='binary_crossentropy', optimizer=optimizers.Adam(learning_rate=0.001), metrics=[metrics.AUC()])\n",
    "\n",
    "# Print model summary\n",
    "print(model.summary())"
   ]
  },
  {
   "cell_type": "code",
   "execution_count": 3,
   "metadata": {},
   "outputs": [
    {
     "name": "stdout",
     "output_type": "stream",
     "text": [
      "Loaded!\n"
     ]
    }
   ],
   "source": [
    "# load the data\n",
    "_data = np.load('res/data.npy', allow_pickle=True).tolist()\n",
    "X_train = _data['X_train']\n",
    "y_train = _data['y_train']\n",
    "X_val = _data['X_val']\n",
    "y_val = _data['y_val']\n",
    "X_test = _data['X_test']\n",
    "y_test = _data['y_test']\n",
    "print(\"Loaded!\")"
   ]
  },
  {
   "cell_type": "code",
   "execution_count": 4,
   "metadata": {},
   "outputs": [
    {
     "name": "stdout",
     "output_type": "stream",
     "text": [
      "No. of patients: 38549\n",
      "No. of patients in train, val, test sets: 30839, 3855, 3855\n",
      "No. of patients who died in hospital in train, val, test sets: 3458.0, 417.0, 445.0\n",
      "Proportion of patients who died in hospital in train, val, test sets: 11.213%, 10.817%, 11.543%\n"
     ]
    }
   ],
   "source": [
    "# Print information about the created arrays\n",
    "print(\"No. of patients: {}\".format(len(y_train)+len(y_val)+len(y_test)))\n",
    "print(\"No. of patients in train, val, test sets: {}, {}, {}\".format(len(X_train), len(X_val), len(X_test)))\n",
    "print(\"No. of patients who died in hospital in train, val, test sets: {}, {}, {}\".format(str(sum(y_train)), str(sum(y_val)), str(sum(y_test))))\n",
    "print(\"Proportion of patients who died in hospital in train, val, test sets: {}%, {}%, {}%\".format(round(sum(y_train)/len(y_train)*100,3), round(sum(y_val)/len(y_val)*100,3), round(sum(y_test)/len(y_test)*100,3)))"
   ]
  },
  {
   "cell_type": "code",
   "execution_count": 5,
   "metadata": {},
   "outputs": [
    {
     "name": "stdout",
     "output_type": "stream",
     "text": [
      "X_train: (30839, 22, 24)\n",
      "y_train: (30839,)\n",
      "X_val: (3855, 22, 24)\n",
      "y_val: (3855,)\n",
      "X_test: (3855, 22, 24)\n",
      "y_test: (3855,)\n"
     ]
    }
   ],
   "source": [
    "# Check the shapes of the arrays\n",
    "print(\"X_train: {}\".format(np.shape(X_train)))\n",
    "print(\"y_train: {}\".format(np.shape(y_train)))\n",
    "print(\"X_val: {}\".format(np.shape(X_val)))\n",
    "print(\"y_val: {}\".format(np.shape(y_val)))\n",
    "print(\"X_test: {}\".format(np.shape(X_test)))\n",
    "print(\"y_test: {}\".format(np.shape(y_test)))"
   ]
  },
  {
   "cell_type": "code",
   "execution_count": 6,
   "metadata": {},
   "outputs": [],
   "source": [
    "# Reshape the input tensors so they are in the shape (m,T,n) to fit Keras standards\n",
    "X_train = np.transpose(X_train, (0,2,1))\n",
    "X_val = np.transpose(X_val, (0,2,1))\n",
    "X_test = np.transpose(X_test, (0,2,1))"
   ]
  },
  {
   "cell_type": "code",
   "execution_count": 7,
   "metadata": {},
   "outputs": [
    {
     "name": "stdout",
     "output_type": "stream",
     "text": [
      "X_train: (30839, 24, 22)\n",
      "X_val: (3855, 24, 22)\n",
      "X_test: (3855, 24, 22)\n"
     ]
    }
   ],
   "source": [
    "# Check the shapes of the arrays again\n",
    "print(\"X_train: {}\".format(np.shape(X_train)))\n",
    "print(\"X_val: {}\".format(np.shape(X_val)))\n",
    "print(\"X_test: {}\".format(np.shape(X_test)))"
   ]
  },
  {
   "cell_type": "code",
   "execution_count": 8,
   "metadata": {},
   "outputs": [
    {
     "name": "stdout",
     "output_type": "stream",
     "text": [
      "WARNING:tensorflow:From C:\\Users\\anear\\Anaconda3\\lib\\site-packages\\keras\\backend\\tensorflow_backend.py:422: The name tf.global_variables is deprecated. Please use tf.compat.v1.global_variables instead.\n",
      "\n",
      "Train on 30839 samples, validate on 3855 samples\n",
      "Epoch 1/30\n",
      " - 4s - loss: 0.6058 - auc_1: 0.8050 - val_loss: 0.5804 - val_auc_1: 0.8409\n",
      "Epoch 2/30\n",
      " - 4s - loss: 0.4971 - auc_1: 0.8466 - val_loss: 0.5726 - val_auc_1: 0.8511\n",
      "Epoch 3/30\n",
      " - 4s - loss: 0.4296 - auc_1: 0.8559 - val_loss: 0.4158 - val_auc_1: 0.8623\n",
      "Epoch 4/30\n",
      " - 4s - loss: 0.3792 - auc_1: 0.8636 - val_loss: 0.6593 - val_auc_1: 0.8494\n",
      "Epoch 5/30\n",
      " - 4s - loss: 0.3411 - auc_1: 0.8721 - val_loss: 0.9067 - val_auc_1: 0.8397\n",
      "Epoch 6/30\n",
      " - 4s - loss: 0.3138 - auc_1: 0.8771 - val_loss: 0.5907 - val_auc_1: 0.8293\n",
      "Epoch 7/30\n",
      " - 4s - loss: 0.2932 - auc_1: 0.8806 - val_loss: 0.4490 - val_auc_1: 0.8732\n",
      "Epoch 8/30\n",
      " - 4s - loss: 0.2755 - auc_1: 0.8862 - val_loss: 0.9022 - val_auc_1: 0.8343\n",
      "Epoch 9/30\n",
      " - 4s - loss: 0.2633 - auc_1: 0.8908 - val_loss: 1.0167 - val_auc_1: 0.8348\n",
      "Epoch 10/30\n",
      " - 4s - loss: 0.2529 - auc_1: 0.8953 - val_loss: 0.4699 - val_auc_1: 0.8611\n",
      "Epoch 11/30\n",
      " - 4s - loss: 0.2458 - auc_1: 0.8960 - val_loss: 0.5256 - val_auc_1: 0.8599\n",
      "Epoch 12/30\n",
      " - 4s - loss: 0.2398 - auc_1: 0.8976 - val_loss: 0.7729 - val_auc_1: 0.8498\n",
      "Epoch 13/30\n",
      " - 4s - loss: 0.2344 - auc_1: 0.8996 - val_loss: 0.5959 - val_auc_1: 0.8581\n",
      "Epoch 14/30\n",
      " - 4s - loss: 0.2296 - auc_1: 0.9023 - val_loss: 0.6286 - val_auc_1: 0.8623\n",
      "Epoch 15/30\n",
      " - 4s - loss: 0.2275 - auc_1: 0.9031 - val_loss: 0.7463 - val_auc_1: 0.8524\n",
      "Epoch 16/30\n",
      " - 4s - loss: 0.2240 - auc_1: 0.9039 - val_loss: 0.8389 - val_auc_1: 0.8451\n",
      "Epoch 17/30\n",
      " - 4s - loss: 0.2229 - auc_1: 0.9056 - val_loss: 1.0859 - val_auc_1: 0.8193\n",
      "Epoch 18/30\n",
      " - 4s - loss: 0.2205 - auc_1: 0.9065 - val_loss: 0.9447 - val_auc_1: 0.8313\n",
      "Epoch 19/30\n",
      " - 4s - loss: 0.2195 - auc_1: 0.9071 - val_loss: 0.9487 - val_auc_1: 0.8225\n",
      "Epoch 20/30\n",
      " - 4s - loss: 0.2173 - auc_1: 0.9083 - val_loss: 1.0485 - val_auc_1: 0.8211\n",
      "Epoch 21/30\n",
      " - 4s - loss: 0.2162 - auc_1: 0.9085 - val_loss: 1.5104 - val_auc_1: 0.8006\n",
      "Epoch 22/30\n",
      " - 4s - loss: 0.2153 - auc_1: 0.9091 - val_loss: 1.2040 - val_auc_1: 0.8163\n",
      "Epoch 23/30\n",
      " - 4s - loss: 0.2126 - auc_1: 0.9119 - val_loss: 1.0018 - val_auc_1: 0.8273\n",
      "Epoch 24/30\n",
      " - 4s - loss: 0.2136 - auc_1: 0.9107 - val_loss: 1.3630 - val_auc_1: 0.7651\n",
      "Epoch 25/30\n",
      " - 4s - loss: 0.2101 - auc_1: 0.9135 - val_loss: 1.3733 - val_auc_1: 0.8011\n",
      "Epoch 26/30\n",
      " - 4s - loss: 0.2107 - auc_1: 0.9133 - val_loss: 1.2960 - val_auc_1: 0.8054\n",
      "Epoch 27/30\n",
      " - 4s - loss: 0.2109 - auc_1: 0.9131 - val_loss: 1.1647 - val_auc_1: 0.7943\n",
      "Epoch 28/30\n",
      " - 4s - loss: 0.2094 - auc_1: 0.9140 - val_loss: 1.3745 - val_auc_1: 0.7828\n",
      "Epoch 29/30\n",
      " - 4s - loss: 0.2085 - auc_1: 0.9153 - val_loss: 1.1970 - val_auc_1: 0.8018\n",
      "Epoch 30/30\n",
      " - 4s - loss: 0.2088 - auc_1: 0.9148 - val_loss: 1.7020 - val_auc_1: 0.7840\n"
     ]
    }
   ],
   "source": [
    "# Train the model\n",
    "history = model.fit(X_train, y_train, validation_data=(X_val,y_val), epochs=30, batch_size=100, verbose=2)"
   ]
  },
  {
   "cell_type": "code",
   "execution_count": 9,
   "metadata": {},
   "outputs": [
    {
     "data": {
      "image/png": "[encoded data removed]",
      "text/plain": [
       "<Figure size 432x288 with 1 Axes>"
      ]
     },
     "metadata": {
      "needs_background": "light"
     },
     "output_type": "display_data"
    }
   ],
   "source": [
    "# Plot the loss\n",
    "plt.plot(history.history['loss'])\n",
    "plt.plot(history.history['val_loss'])\n",
    "plt.title('Model Loss')\n",
    "plt.ylabel('Loss (binary cross-entropy)')\n",
    "plt.xlabel('Epoch')\n",
    "plt.legend(['Train', 'Test'], loc='upper right')\n",
    "plt.show()"
   ]
  },
  {
   "cell_type": "code",
   "execution_count": 10,
   "metadata": {},
   "outputs": [
    {
     "data": {
      "image/png": "[encoded data removed]",
      "text/plain": [
       "<Figure size 432x288 with 1 Axes>"
      ]
     },
     "metadata": {
      "needs_background": "light"
     },
     "output_type": "display_data"
    }
   ],
   "source": [
    "# Plot the AUC\n",
    "plt.plot(history.history['auc_1'])\n",
    "plt.plot(history.history['val_auc_1'])\n",
    "plt.title('Model AUC')\n",
    "plt.ylabel('AUC')\n",
    "plt.xlabel('Epoch')\n",
    "plt.legend(['Train', 'Test'], loc='upper right')\n",
    "plt.show()"
   ]
  },
  {
   "cell_type": "code",
   "execution_count": 87,
   "metadata": {},
   "outputs": [],
   "source": [
    "# Calculate TPR and FPR on the test set for plotting the ROC curve\n",
    "from sklearn.metrics import roc_curve\n",
    "y_pred = model.predict(X_test).ravel()\n",
    "fpr, tpr, thresholds = roc_curve(y_test, y_pred)"
   ]
  },
  {
   "cell_type": "code",
   "execution_count": 88,
   "metadata": {},
   "outputs": [],
   "source": [
    "# Calculate the AUROC for the test set\n",
    "from sklearn.metrics import auc\n",
    "auc = auc(fpr, tpr)"
   ]
  },
  {
   "cell_type": "code",
   "execution_count": 92,
   "metadata": {},
   "outputs": [
    {
     "data": {
      "image/png": "[encoded data removed]",
      "text/plain": [
       "<Figure size 432x288 with 1 Axes>"
      ]
     },
     "metadata": {
      "needs_background": "light"
     },
     "output_type": "display_data"
    }
   ],
   "source": [
    "# Plot the ROC curve\n",
    "plt.figure(1)\n",
    "plt.plot([0, 1], [0, 1], 'k--')\n",
    "plt.plot(fpr, tpr, label='AUROC = {:.3f}'.format(auc))\n",
    "plt.xlabel('False positive rate')\n",
    "plt.ylabel('True positive rate')\n",
    "plt.title('ROC curve')\n",
    "plt.legend(loc='lower right')\n",
    "plt.show()"
   ]
  },
  {
   "cell_type": "code",
   "execution_count": 93,
   "metadata": {},
   "outputs": [],
   "source": [
    "# Make predictions using a decision threshold judged from the above plot\n",
    "y_pred_binary = y_pred[:]>0.2"
   ]
  },
  {
   "cell_type": "code",
   "execution_count": 94,
   "metadata": {},
   "outputs": [],
   "source": [
    "# Write a function that plots nice confusion matrices\n",
    "def plot_confusion_matrix(cm, classes,\n",
    "                        normalize=False,\n",
    "                        title='Confusion matrix',\n",
    "                        cmap=plt.cm.Blues):\n",
    "    \"\"\"\n",
    "    This function prints and plots the confusion matrix.\n",
    "    Normalization can be applied by setting `normalize=True`.\n",
    "    \"\"\"\n",
    "    plt.imshow(cm, interpolation='nearest', cmap=cmap)\n",
    "    plt.title(title)\n",
    "    plt.colorbar()\n",
    "    tick_marks = np.arange(len(classes))\n",
    "    plt.xticks(tick_marks, classes, rotation=45)\n",
    "    plt.yticks(tick_marks, classes)\n",
    "\n",
    "    if normalize:\n",
    "        cm = cm.astype('float') / cm.sum(axis=1)[:, np.newaxis]\n",
    "        cm[0][0] = round(cm[0][0],2)\n",
    "        cm[0][1] = round(cm[0][1],2)\n",
    "        cm[1][0] = round(cm[1][0],2)\n",
    "        cm[1][1] = round(cm[1][1],2)\n",
    "        print(\"Normalized confusion matrix\")\n",
    "    else:\n",
    "        print('Confusion matrix')\n",
    "\n",
    "    thresh = cm.max() / 2.\n",
    "    for i, j in itertools.product(range(cm.shape[0]), range(cm.shape[1])):\n",
    "        plt.text(j, i, cm[i, j],\n",
    "            horizontalalignment=\"center\",\n",
    "            color=\"white\" if cm[i, j] > thresh else \"black\")\n",
    "\n",
    "    plt.tight_layout()\n",
    "    plt.ylabel('True label')\n",
    "    plt.xlabel('Predicted label')"
   ]
  },
  {
   "cell_type": "code",
   "execution_count": 96,
   "metadata": {},
   "outputs": [
    {
     "name": "stdout",
     "output_type": "stream",
     "text": [
      "Confusion matrix\n"
     ]
    },
    {
     "data": {
      "image/png": "[encoded data removed]",
      "text/plain": [
       "<Figure size 432x288 with 2 Axes>"
      ]
     },
     "metadata": {
      "needs_background": "light"
     },
     "output_type": "display_data"
    }
   ],
   "source": [
    "# Calculate the confusion matrix\n",
    "cm = confusion_matrix(y_test, y_pred_binary)\n",
    "plot_confusion_matrix(cm, ['Survived', 'Died'], normalize=False)"
   ]
  },
  {
   "cell_type": "code",
   "execution_count": 44,
   "metadata": {},
   "outputs": [
    {
     "name": "stdout",
     "output_type": "stream",
     "text": [
      "              precision    recall  f1-score   support\n",
      "\n",
      "    Survived       0.97      0.81      0.88      3410\n",
      "        Died       0.35      0.80      0.49       445\n",
      "\n",
      "    accuracy                           0.81      3855\n",
      "   macro avg       0.66      0.81      0.69      3855\n",
      "weighted avg       0.90      0.81      0.84      3855\n",
      "\n"
     ]
    }
   ],
   "source": [
    "# Print a classification report\n",
    "print(classification_report(y_test, y_pred_binary, target_names=['Survived', 'Died']))"
   ]
  }
 ],
 "metadata": {
  "kernelspec": {
   "display_name": "Python 3",
   "language": "python",
   "name": "python3"
  },
  "language_info": {
   "codemirror_mode": {
    "name": "ipython",
    "version": 3
   },
   "file_extension": ".py",
   "mimetype": "text/x-python",
   "name": "python",
   "nbconvert_exporter": "python",
   "pygments_lexer": "ipython3",
   "version": "3.7.3"
  }
 },
 "nbformat": 4,
 "nbformat_minor": 4
}
